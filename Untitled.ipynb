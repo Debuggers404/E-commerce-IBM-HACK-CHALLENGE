{
 "cells": [
  {
   "cell_type": "code",
   "execution_count": 2,
   "source": [
    "import pandas as p\r\n",
    "import matplotlib.pyplot as mtl\r\n",
    "import seaborn as sns"
   ],
   "outputs": [],
   "metadata": {}
  },
  {
   "cell_type": "code",
   "execution_count": 3,
   "source": [
    "data=p.read_excel(\"USSuperstoredata.xls\")"
   ],
   "outputs": [],
   "metadata": {}
  },
  {
   "cell_type": "code",
   "execution_count": 4,
   "source": [
    "type(data)"
   ],
   "outputs": [
    {
     "output_type": "execute_result",
     "data": {
      "text/plain": [
       "pandas.core.frame.DataFrame"
      ]
     },
     "metadata": {},
     "execution_count": 4
    }
   ],
   "metadata": {}
  },
  {
   "cell_type": "code",
   "execution_count": 5,
   "source": [
    "data.shape"
   ],
   "outputs": [
    {
     "output_type": "execute_result",
     "data": {
      "text/plain": [
       "(9994, 21)"
      ]
     },
     "metadata": {},
     "execution_count": 5
    }
   ],
   "metadata": {}
  },
  {
   "cell_type": "code",
   "execution_count": 6,
   "source": [
    "data.head(5)"
   ],
   "outputs": [
    {
     "output_type": "execute_result",
     "data": {
      "text/plain": [
       "   Row ID        Order ID Order Date  Ship Date       Ship Mode Customer ID  \\\n",
       "0       1  CA-2016-152156 2016-11-08 2016-11-11    Second Class    CG-12520   \n",
       "1       2  CA-2016-152156 2016-11-08 2016-11-11    Second Class    CG-12520   \n",
       "2       3  CA-2016-138688 2016-06-12 2016-06-16    Second Class    DV-13045   \n",
       "3       4  US-2015-108966 2015-10-11 2015-10-18  Standard Class    SO-20335   \n",
       "4       5  US-2015-108966 2015-10-11 2015-10-18  Standard Class    SO-20335   \n",
       "\n",
       "     Customer Name    Segment        Country             City  ...  \\\n",
       "0      Claire Gute   Consumer  United States        Henderson  ...   \n",
       "1      Claire Gute   Consumer  United States        Henderson  ...   \n",
       "2  Darrin Van Huff  Corporate  United States      Los Angeles  ...   \n",
       "3   Sean O'Donnell   Consumer  United States  Fort Lauderdale  ...   \n",
       "4   Sean O'Donnell   Consumer  United States  Fort Lauderdale  ...   \n",
       "\n",
       "  Postal Code  Region       Product ID         Category Sub-Category  \\\n",
       "0       42420   South  FUR-BO-10001798        Furniture    Bookcases   \n",
       "1       42420   South  FUR-CH-10000454        Furniture       Chairs   \n",
       "2       90036    West  OFF-LA-10000240  Office Supplies       Labels   \n",
       "3       33311   South  FUR-TA-10000577        Furniture       Tables   \n",
       "4       33311   South  OFF-ST-10000760  Office Supplies      Storage   \n",
       "\n",
       "                                        Product Name     Sales  Quantity  \\\n",
       "0                  Bush Somerset Collection Bookcase  261.9600         2   \n",
       "1  Hon Deluxe Fabric Upholstered Stacking Chairs,...  731.9400         3   \n",
       "2  Self-Adhesive Address Labels for Typewriters b...   14.6200         2   \n",
       "3      Bretford CR4500 Series Slim Rectangular Table  957.5775         5   \n",
       "4                     Eldon Fold 'N Roll Cart System   22.3680         2   \n",
       "\n",
       "   Discount    Profit  \n",
       "0      0.00   41.9136  \n",
       "1      0.00  219.5820  \n",
       "2      0.00    6.8714  \n",
       "3      0.45 -383.0310  \n",
       "4      0.20    2.5164  \n",
       "\n",
       "[5 rows x 21 columns]"
      ],
      "text/html": [
       "<div>\n",
       "<style scoped>\n",
       "    .dataframe tbody tr th:only-of-type {\n",
       "        vertical-align: middle;\n",
       "    }\n",
       "\n",
       "    .dataframe tbody tr th {\n",
       "        vertical-align: top;\n",
       "    }\n",
       "\n",
       "    .dataframe thead th {\n",
       "        text-align: right;\n",
       "    }\n",
       "</style>\n",
       "<table border=\"1\" class=\"dataframe\">\n",
       "  <thead>\n",
       "    <tr style=\"text-align: right;\">\n",
       "      <th></th>\n",
       "      <th>Row ID</th>\n",
       "      <th>Order ID</th>\n",
       "      <th>Order Date</th>\n",
       "      <th>Ship Date</th>\n",
       "      <th>Ship Mode</th>\n",
       "      <th>Customer ID</th>\n",
       "      <th>Customer Name</th>\n",
       "      <th>Segment</th>\n",
       "      <th>Country</th>\n",
       "      <th>City</th>\n",
       "      <th>...</th>\n",
       "      <th>Postal Code</th>\n",
       "      <th>Region</th>\n",
       "      <th>Product ID</th>\n",
       "      <th>Category</th>\n",
       "      <th>Sub-Category</th>\n",
       "      <th>Product Name</th>\n",
       "      <th>Sales</th>\n",
       "      <th>Quantity</th>\n",
       "      <th>Discount</th>\n",
       "      <th>Profit</th>\n",
       "    </tr>\n",
       "  </thead>\n",
       "  <tbody>\n",
       "    <tr>\n",
       "      <th>0</th>\n",
       "      <td>1</td>\n",
       "      <td>CA-2016-152156</td>\n",
       "      <td>2016-11-08</td>\n",
       "      <td>2016-11-11</td>\n",
       "      <td>Second Class</td>\n",
       "      <td>CG-12520</td>\n",
       "      <td>Claire Gute</td>\n",
       "      <td>Consumer</td>\n",
       "      <td>United States</td>\n",
       "      <td>Henderson</td>\n",
       "      <td>...</td>\n",
       "      <td>42420</td>\n",
       "      <td>South</td>\n",
       "      <td>FUR-BO-10001798</td>\n",
       "      <td>Furniture</td>\n",
       "      <td>Bookcases</td>\n",
       "      <td>Bush Somerset Collection Bookcase</td>\n",
       "      <td>261.9600</td>\n",
       "      <td>2</td>\n",
       "      <td>0.00</td>\n",
       "      <td>41.9136</td>\n",
       "    </tr>\n",
       "    <tr>\n",
       "      <th>1</th>\n",
       "      <td>2</td>\n",
       "      <td>CA-2016-152156</td>\n",
       "      <td>2016-11-08</td>\n",
       "      <td>2016-11-11</td>\n",
       "      <td>Second Class</td>\n",
       "      <td>CG-12520</td>\n",
       "      <td>Claire Gute</td>\n",
       "      <td>Consumer</td>\n",
       "      <td>United States</td>\n",
       "      <td>Henderson</td>\n",
       "      <td>...</td>\n",
       "      <td>42420</td>\n",
       "      <td>South</td>\n",
       "      <td>FUR-CH-10000454</td>\n",
       "      <td>Furniture</td>\n",
       "      <td>Chairs</td>\n",
       "      <td>Hon Deluxe Fabric Upholstered Stacking Chairs,...</td>\n",
       "      <td>731.9400</td>\n",
       "      <td>3</td>\n",
       "      <td>0.00</td>\n",
       "      <td>219.5820</td>\n",
       "    </tr>\n",
       "    <tr>\n",
       "      <th>2</th>\n",
       "      <td>3</td>\n",
       "      <td>CA-2016-138688</td>\n",
       "      <td>2016-06-12</td>\n",
       "      <td>2016-06-16</td>\n",
       "      <td>Second Class</td>\n",
       "      <td>DV-13045</td>\n",
       "      <td>Darrin Van Huff</td>\n",
       "      <td>Corporate</td>\n",
       "      <td>United States</td>\n",
       "      <td>Los Angeles</td>\n",
       "      <td>...</td>\n",
       "      <td>90036</td>\n",
       "      <td>West</td>\n",
       "      <td>OFF-LA-10000240</td>\n",
       "      <td>Office Supplies</td>\n",
       "      <td>Labels</td>\n",
       "      <td>Self-Adhesive Address Labels for Typewriters b...</td>\n",
       "      <td>14.6200</td>\n",
       "      <td>2</td>\n",
       "      <td>0.00</td>\n",
       "      <td>6.8714</td>\n",
       "    </tr>\n",
       "    <tr>\n",
       "      <th>3</th>\n",
       "      <td>4</td>\n",
       "      <td>US-2015-108966</td>\n",
       "      <td>2015-10-11</td>\n",
       "      <td>2015-10-18</td>\n",
       "      <td>Standard Class</td>\n",
       "      <td>SO-20335</td>\n",
       "      <td>Sean O'Donnell</td>\n",
       "      <td>Consumer</td>\n",
       "      <td>United States</td>\n",
       "      <td>Fort Lauderdale</td>\n",
       "      <td>...</td>\n",
       "      <td>33311</td>\n",
       "      <td>South</td>\n",
       "      <td>FUR-TA-10000577</td>\n",
       "      <td>Furniture</td>\n",
       "      <td>Tables</td>\n",
       "      <td>Bretford CR4500 Series Slim Rectangular Table</td>\n",
       "      <td>957.5775</td>\n",
       "      <td>5</td>\n",
       "      <td>0.45</td>\n",
       "      <td>-383.0310</td>\n",
       "    </tr>\n",
       "    <tr>\n",
       "      <th>4</th>\n",
       "      <td>5</td>\n",
       "      <td>US-2015-108966</td>\n",
       "      <td>2015-10-11</td>\n",
       "      <td>2015-10-18</td>\n",
       "      <td>Standard Class</td>\n",
       "      <td>SO-20335</td>\n",
       "      <td>Sean O'Donnell</td>\n",
       "      <td>Consumer</td>\n",
       "      <td>United States</td>\n",
       "      <td>Fort Lauderdale</td>\n",
       "      <td>...</td>\n",
       "      <td>33311</td>\n",
       "      <td>South</td>\n",
       "      <td>OFF-ST-10000760</td>\n",
       "      <td>Office Supplies</td>\n",
       "      <td>Storage</td>\n",
       "      <td>Eldon Fold 'N Roll Cart System</td>\n",
       "      <td>22.3680</td>\n",
       "      <td>2</td>\n",
       "      <td>0.20</td>\n",
       "      <td>2.5164</td>\n",
       "    </tr>\n",
       "  </tbody>\n",
       "</table>\n",
       "<p>5 rows × 21 columns</p>\n",
       "</div>"
      ]
     },
     "metadata": {},
     "execution_count": 6
    }
   ],
   "metadata": {}
  },
  {
   "cell_type": "code",
   "execution_count": 7,
   "source": [
    "data.sample(5)"
   ],
   "outputs": [
    {
     "output_type": "execute_result",
     "data": {
      "text/plain": [
       "      Row ID        Order ID Order Date  Ship Date       Ship Mode  \\\n",
       "3650    3651  CA-2017-109960 2017-12-09 2017-12-11    Second Class   \n",
       "4095    4096  CA-2015-102491 2015-08-24 2015-08-28  Standard Class   \n",
       "4979    4980  US-2016-131114 2016-12-09 2016-12-13    Second Class   \n",
       "5185    5186  CA-2015-134719 2015-10-10 2015-10-15  Standard Class   \n",
       "7846    7847  CA-2015-125976 2015-09-27 2015-10-02  Standard Class   \n",
       "\n",
       "     Customer ID    Customer Name    Segment        Country          City  \\\n",
       "3650    DB-13210      Dean Braden   Consumer  United States       Detroit   \n",
       "4095    KW-16435  Katrina Willman   Consumer  United States      Florence   \n",
       "4979    RW-19630     Rob Williams  Corporate  United States       Chicago   \n",
       "5185    JD-15790       John Dryer   Consumer  United States  Jacksonville   \n",
       "7846    JK-15205     Jamie Kunitz   Consumer  United States     Arlington   \n",
       "\n",
       "      ... Postal Code   Region       Product ID         Category Sub-Category  \\\n",
       "3650  ...       48234  Central  TEC-AC-10004859       Technology  Accessories   \n",
       "4095  ...       41042    South  TEC-PH-10001619       Technology       Phones   \n",
       "4979  ...       60610  Central  OFF-SU-10001664  Office Supplies     Supplies   \n",
       "5185  ...       32216    South  OFF-ST-10004459  Office Supplies      Storage   \n",
       "7846  ...       22204    South  TEC-PH-10002496       Technology       Phones   \n",
       "\n",
       "                                           Product Name     Sales  Quantity  \\\n",
       "3650                 Maxell Pro 80 Minute CD-R, 10/Pack   104.880         6   \n",
       "4095                                              LG G3   587.970         3   \n",
       "4979  Acme Office Executive Series Stainless Steel T...    20.568         3   \n",
       "5185                        Tennsco Single-Tier Lockers  1801.632         6   \n",
       "7846                                       Cisco SPA301  1871.880        12   \n",
       "\n",
       "      Discount    Profit  \n",
       "3650       0.0   41.9520  \n",
       "4095       0.0  170.5113  \n",
       "4979       0.2    1.5426  \n",
       "5185       0.2 -337.8060  \n",
       "7846       0.0  561.5640  \n",
       "\n",
       "[5 rows x 21 columns]"
      ],
      "text/html": [
       "<div>\n",
       "<style scoped>\n",
       "    .dataframe tbody tr th:only-of-type {\n",
       "        vertical-align: middle;\n",
       "    }\n",
       "\n",
       "    .dataframe tbody tr th {\n",
       "        vertical-align: top;\n",
       "    }\n",
       "\n",
       "    .dataframe thead th {\n",
       "        text-align: right;\n",
       "    }\n",
       "</style>\n",
       "<table border=\"1\" class=\"dataframe\">\n",
       "  <thead>\n",
       "    <tr style=\"text-align: right;\">\n",
       "      <th></th>\n",
       "      <th>Row ID</th>\n",
       "      <th>Order ID</th>\n",
       "      <th>Order Date</th>\n",
       "      <th>Ship Date</th>\n",
       "      <th>Ship Mode</th>\n",
       "      <th>Customer ID</th>\n",
       "      <th>Customer Name</th>\n",
       "      <th>Segment</th>\n",
       "      <th>Country</th>\n",
       "      <th>City</th>\n",
       "      <th>...</th>\n",
       "      <th>Postal Code</th>\n",
       "      <th>Region</th>\n",
       "      <th>Product ID</th>\n",
       "      <th>Category</th>\n",
       "      <th>Sub-Category</th>\n",
       "      <th>Product Name</th>\n",
       "      <th>Sales</th>\n",
       "      <th>Quantity</th>\n",
       "      <th>Discount</th>\n",
       "      <th>Profit</th>\n",
       "    </tr>\n",
       "  </thead>\n",
       "  <tbody>\n",
       "    <tr>\n",
       "      <th>3650</th>\n",
       "      <td>3651</td>\n",
       "      <td>CA-2017-109960</td>\n",
       "      <td>2017-12-09</td>\n",
       "      <td>2017-12-11</td>\n",
       "      <td>Second Class</td>\n",
       "      <td>DB-13210</td>\n",
       "      <td>Dean Braden</td>\n",
       "      <td>Consumer</td>\n",
       "      <td>United States</td>\n",
       "      <td>Detroit</td>\n",
       "      <td>...</td>\n",
       "      <td>48234</td>\n",
       "      <td>Central</td>\n",
       "      <td>TEC-AC-10004859</td>\n",
       "      <td>Technology</td>\n",
       "      <td>Accessories</td>\n",
       "      <td>Maxell Pro 80 Minute CD-R, 10/Pack</td>\n",
       "      <td>104.880</td>\n",
       "      <td>6</td>\n",
       "      <td>0.0</td>\n",
       "      <td>41.9520</td>\n",
       "    </tr>\n",
       "    <tr>\n",
       "      <th>4095</th>\n",
       "      <td>4096</td>\n",
       "      <td>CA-2015-102491</td>\n",
       "      <td>2015-08-24</td>\n",
       "      <td>2015-08-28</td>\n",
       "      <td>Standard Class</td>\n",
       "      <td>KW-16435</td>\n",
       "      <td>Katrina Willman</td>\n",
       "      <td>Consumer</td>\n",
       "      <td>United States</td>\n",
       "      <td>Florence</td>\n",
       "      <td>...</td>\n",
       "      <td>41042</td>\n",
       "      <td>South</td>\n",
       "      <td>TEC-PH-10001619</td>\n",
       "      <td>Technology</td>\n",
       "      <td>Phones</td>\n",
       "      <td>LG G3</td>\n",
       "      <td>587.970</td>\n",
       "      <td>3</td>\n",
       "      <td>0.0</td>\n",
       "      <td>170.5113</td>\n",
       "    </tr>\n",
       "    <tr>\n",
       "      <th>4979</th>\n",
       "      <td>4980</td>\n",
       "      <td>US-2016-131114</td>\n",
       "      <td>2016-12-09</td>\n",
       "      <td>2016-12-13</td>\n",
       "      <td>Second Class</td>\n",
       "      <td>RW-19630</td>\n",
       "      <td>Rob Williams</td>\n",
       "      <td>Corporate</td>\n",
       "      <td>United States</td>\n",
       "      <td>Chicago</td>\n",
       "      <td>...</td>\n",
       "      <td>60610</td>\n",
       "      <td>Central</td>\n",
       "      <td>OFF-SU-10001664</td>\n",
       "      <td>Office Supplies</td>\n",
       "      <td>Supplies</td>\n",
       "      <td>Acme Office Executive Series Stainless Steel T...</td>\n",
       "      <td>20.568</td>\n",
       "      <td>3</td>\n",
       "      <td>0.2</td>\n",
       "      <td>1.5426</td>\n",
       "    </tr>\n",
       "    <tr>\n",
       "      <th>5185</th>\n",
       "      <td>5186</td>\n",
       "      <td>CA-2015-134719</td>\n",
       "      <td>2015-10-10</td>\n",
       "      <td>2015-10-15</td>\n",
       "      <td>Standard Class</td>\n",
       "      <td>JD-15790</td>\n",
       "      <td>John Dryer</td>\n",
       "      <td>Consumer</td>\n",
       "      <td>United States</td>\n",
       "      <td>Jacksonville</td>\n",
       "      <td>...</td>\n",
       "      <td>32216</td>\n",
       "      <td>South</td>\n",
       "      <td>OFF-ST-10004459</td>\n",
       "      <td>Office Supplies</td>\n",
       "      <td>Storage</td>\n",
       "      <td>Tennsco Single-Tier Lockers</td>\n",
       "      <td>1801.632</td>\n",
       "      <td>6</td>\n",
       "      <td>0.2</td>\n",
       "      <td>-337.8060</td>\n",
       "    </tr>\n",
       "    <tr>\n",
       "      <th>7846</th>\n",
       "      <td>7847</td>\n",
       "      <td>CA-2015-125976</td>\n",
       "      <td>2015-09-27</td>\n",
       "      <td>2015-10-02</td>\n",
       "      <td>Standard Class</td>\n",
       "      <td>JK-15205</td>\n",
       "      <td>Jamie Kunitz</td>\n",
       "      <td>Consumer</td>\n",
       "      <td>United States</td>\n",
       "      <td>Arlington</td>\n",
       "      <td>...</td>\n",
       "      <td>22204</td>\n",
       "      <td>South</td>\n",
       "      <td>TEC-PH-10002496</td>\n",
       "      <td>Technology</td>\n",
       "      <td>Phones</td>\n",
       "      <td>Cisco SPA301</td>\n",
       "      <td>1871.880</td>\n",
       "      <td>12</td>\n",
       "      <td>0.0</td>\n",
       "      <td>561.5640</td>\n",
       "    </tr>\n",
       "  </tbody>\n",
       "</table>\n",
       "<p>5 rows × 21 columns</p>\n",
       "</div>"
      ]
     },
     "metadata": {},
     "execution_count": 7
    }
   ],
   "metadata": {}
  },
  {
   "cell_type": "code",
   "execution_count": 8,
   "source": [
    "data.describe()"
   ],
   "outputs": [
    {
     "output_type": "execute_result",
     "data": {
      "text/plain": [
       "            Row ID   Postal Code         Sales     Quantity     Discount  \\\n",
       "count  9994.000000   9994.000000   9994.000000  9994.000000  9994.000000   \n",
       "mean   4997.500000  55190.379428    229.858001     3.789574     0.156203   \n",
       "std    2885.163629  32063.693350    623.245101     2.225110     0.206452   \n",
       "min       1.000000   1040.000000      0.444000     1.000000     0.000000   \n",
       "25%    2499.250000  23223.000000     17.280000     2.000000     0.000000   \n",
       "50%    4997.500000  56430.500000     54.490000     3.000000     0.200000   \n",
       "75%    7495.750000  90008.000000    209.940000     5.000000     0.200000   \n",
       "max    9994.000000  99301.000000  22638.480000    14.000000     0.800000   \n",
       "\n",
       "            Profit  \n",
       "count  9994.000000  \n",
       "mean     28.656896  \n",
       "std     234.260108  \n",
       "min   -6599.978000  \n",
       "25%       1.728750  \n",
       "50%       8.666500  \n",
       "75%      29.364000  \n",
       "max    8399.976000  "
      ],
      "text/html": [
       "<div>\n",
       "<style scoped>\n",
       "    .dataframe tbody tr th:only-of-type {\n",
       "        vertical-align: middle;\n",
       "    }\n",
       "\n",
       "    .dataframe tbody tr th {\n",
       "        vertical-align: top;\n",
       "    }\n",
       "\n",
       "    .dataframe thead th {\n",
       "        text-align: right;\n",
       "    }\n",
       "</style>\n",
       "<table border=\"1\" class=\"dataframe\">\n",
       "  <thead>\n",
       "    <tr style=\"text-align: right;\">\n",
       "      <th></th>\n",
       "      <th>Row ID</th>\n",
       "      <th>Postal Code</th>\n",
       "      <th>Sales</th>\n",
       "      <th>Quantity</th>\n",
       "      <th>Discount</th>\n",
       "      <th>Profit</th>\n",
       "    </tr>\n",
       "  </thead>\n",
       "  <tbody>\n",
       "    <tr>\n",
       "      <th>count</th>\n",
       "      <td>9994.000000</td>\n",
       "      <td>9994.000000</td>\n",
       "      <td>9994.000000</td>\n",
       "      <td>9994.000000</td>\n",
       "      <td>9994.000000</td>\n",
       "      <td>9994.000000</td>\n",
       "    </tr>\n",
       "    <tr>\n",
       "      <th>mean</th>\n",
       "      <td>4997.500000</td>\n",
       "      <td>55190.379428</td>\n",
       "      <td>229.858001</td>\n",
       "      <td>3.789574</td>\n",
       "      <td>0.156203</td>\n",
       "      <td>28.656896</td>\n",
       "    </tr>\n",
       "    <tr>\n",
       "      <th>std</th>\n",
       "      <td>2885.163629</td>\n",
       "      <td>32063.693350</td>\n",
       "      <td>623.245101</td>\n",
       "      <td>2.225110</td>\n",
       "      <td>0.206452</td>\n",
       "      <td>234.260108</td>\n",
       "    </tr>\n",
       "    <tr>\n",
       "      <th>min</th>\n",
       "      <td>1.000000</td>\n",
       "      <td>1040.000000</td>\n",
       "      <td>0.444000</td>\n",
       "      <td>1.000000</td>\n",
       "      <td>0.000000</td>\n",
       "      <td>-6599.978000</td>\n",
       "    </tr>\n",
       "    <tr>\n",
       "      <th>25%</th>\n",
       "      <td>2499.250000</td>\n",
       "      <td>23223.000000</td>\n",
       "      <td>17.280000</td>\n",
       "      <td>2.000000</td>\n",
       "      <td>0.000000</td>\n",
       "      <td>1.728750</td>\n",
       "    </tr>\n",
       "    <tr>\n",
       "      <th>50%</th>\n",
       "      <td>4997.500000</td>\n",
       "      <td>56430.500000</td>\n",
       "      <td>54.490000</td>\n",
       "      <td>3.000000</td>\n",
       "      <td>0.200000</td>\n",
       "      <td>8.666500</td>\n",
       "    </tr>\n",
       "    <tr>\n",
       "      <th>75%</th>\n",
       "      <td>7495.750000</td>\n",
       "      <td>90008.000000</td>\n",
       "      <td>209.940000</td>\n",
       "      <td>5.000000</td>\n",
       "      <td>0.200000</td>\n",
       "      <td>29.364000</td>\n",
       "    </tr>\n",
       "    <tr>\n",
       "      <th>max</th>\n",
       "      <td>9994.000000</td>\n",
       "      <td>99301.000000</td>\n",
       "      <td>22638.480000</td>\n",
       "      <td>14.000000</td>\n",
       "      <td>0.800000</td>\n",
       "      <td>8399.976000</td>\n",
       "    </tr>\n",
       "  </tbody>\n",
       "</table>\n",
       "</div>"
      ]
     },
     "metadata": {},
     "execution_count": 8
    }
   ],
   "metadata": {}
  },
  {
   "cell_type": "code",
   "execution_count": 9,
   "source": [
    "data.info()"
   ],
   "outputs": [
    {
     "output_type": "stream",
     "name": "stdout",
     "text": [
      "<class 'pandas.core.frame.DataFrame'>\n",
      "RangeIndex: 9994 entries, 0 to 9993\n",
      "Data columns (total 21 columns):\n",
      " #   Column         Non-Null Count  Dtype         \n",
      "---  ------         --------------  -----         \n",
      " 0   Row ID         9994 non-null   int64         \n",
      " 1   Order ID       9994 non-null   object        \n",
      " 2   Order Date     9994 non-null   datetime64[ns]\n",
      " 3   Ship Date      9994 non-null   datetime64[ns]\n",
      " 4   Ship Mode      9994 non-null   object        \n",
      " 5   Customer ID    9994 non-null   object        \n",
      " 6   Customer Name  9994 non-null   object        \n",
      " 7   Segment        9994 non-null   object        \n",
      " 8   Country        9994 non-null   object        \n",
      " 9   City           9994 non-null   object        \n",
      " 10  State          9994 non-null   object        \n",
      " 11  Postal Code    9994 non-null   int64         \n",
      " 12  Region         9994 non-null   object        \n",
      " 13  Product ID     9994 non-null   object        \n",
      " 14  Category       9994 non-null   object        \n",
      " 15  Sub-Category   9994 non-null   object        \n",
      " 16  Product Name   9994 non-null   object        \n",
      " 17  Sales          9994 non-null   float64       \n",
      " 18  Quantity       9994 non-null   int64         \n",
      " 19  Discount       9994 non-null   float64       \n",
      " 20  Profit         9994 non-null   float64       \n",
      "dtypes: datetime64[ns](2), float64(3), int64(3), object(13)\n",
      "memory usage: 1.6+ MB\n"
     ]
    }
   ],
   "metadata": {}
  },
  {
   "cell_type": "code",
   "execution_count": 10,
   "source": [
    "data[\"Region\"]"
   ],
   "outputs": [
    {
     "output_type": "execute_result",
     "data": {
      "text/plain": [
       "0       South\n",
       "1       South\n",
       "2        West\n",
       "3       South\n",
       "4       South\n",
       "        ...  \n",
       "9989    South\n",
       "9990     West\n",
       "9991     West\n",
       "9992     West\n",
       "9993     West\n",
       "Name: Region, Length: 9994, dtype: object"
      ]
     },
     "metadata": {},
     "execution_count": 10
    }
   ],
   "metadata": {}
  },
  {
   "cell_type": "code",
   "execution_count": 11,
   "source": [
    "data.Region.unique()"
   ],
   "outputs": [
    {
     "output_type": "execute_result",
     "data": {
      "text/plain": [
       "array(['South', 'West', 'Central', 'East'], dtype=object)"
      ]
     },
     "metadata": {},
     "execution_count": 11
    }
   ],
   "metadata": {}
  },
  {
   "cell_type": "code",
   "execution_count": 12,
   "source": [
    "l=list(data[\"Region\"])"
   ],
   "outputs": [],
   "metadata": {}
  },
  {
   "cell_type": "code",
   "execution_count": 13,
   "source": [
    "print(l)"
   ],
   "outputs": [
    {
     "output_type": "stream",
     "name": "stdout",
     "text": [
      "['South', 'South', 'West', 'South', 'South', 'West', 'West', 'West', 'West', 'West', 'West', 'West', 'South', 'West', 'Central', 'Central', 'Central', 'West', 'West', 'West', 'West', 'Central', 'Central', 'East', 'West', 'West', 'West', 'East', 'East', 'East', 'East', 'East', 'East', 'East', 'Central', 'Central', 'Central', 'Central', 'Central', 'Central', 'Central', 'Central', 'West', 'South', 'Central', 'Central', 'Central', 'East', 'East', 'Central', 'Central', 'Central', 'Central', 'East', 'East', 'East', 'East', 'East', 'East', 'East', 'East', 'East', 'West', 'West', 'West', 'West', 'Central', 'West', 'West', 'South', 'East', 'Central', 'South', 'South', 'South', 'Central', 'Central', 'Central', 'Central', 'South', 'South', 'West', 'West', 'South', 'Central', 'South', 'Central', 'Central', 'Central', 'West', 'West', 'West', 'Central', 'Central', 'Central', 'West', 'East', 'West', 'Central', 'Central', 'Central', 'Central', 'Central', 'West', 'West', 'West', 'South', 'South', 'South', 'Central', 'East', 'Central', 'Central', 'East', 'East', 'East', 'East', 'West', 'South', 'East', 'East', 'East', 'East', 'East', 'Central', 'Central', 'West', 'West', 'West', 'West', 'East', 'East', 'East', 'West', 'West', 'West', 'West', 'West', 'West', 'West', 'East', 'West', 'West', 'West', 'Central', 'West', 'East', 'Central', 'Central', 'Central', 'Central', 'West', 'West', 'West', 'West', 'West', 'West', 'West', 'Central', 'Central', 'West', 'East', 'West', 'West', 'Central', 'Central', 'Central', 'Central', 'Central', 'Central', 'Central', 'West', 'West', 'West', 'Central', 'Central', 'Central', 'East', 'East', 'East', 'Central', 'Central', 'South', 'South', 'South', 'East', 'West', 'Central', 'Central', 'East', 'East', 'East', 'East', 'East', 'West', 'East', 'East', 'East', 'East', 'East', 'East', 'West', 'West', 'Central', 'South', 'West', 'Central', 'Central', 'Central', 'Central', 'Central', 'Central', 'East', 'East', 'East', 'East', 'East', 'West', 'West', 'East', 'East', 'East', 'East', 'East', 'East', 'Central', 'Central', 'Central', 'South', 'South', 'South', 'South', 'South', 'South', 'South', 'South', 'West', 'Central', 'Central', 'Central', 'Central', 'Central', 'Central', 'Central', 'Central', 'Central', 'Central', 'Central', 'Central', 'West', 'West', 'West', 'East', 'East', 'Central', 'Central', 'Central', 'Central', 'East', 'East', 'East', 'Central', 'Central', 'Central', 'Central', 'West', 'South', 'East', 'East', 'East', 'West', 'West', 'West', 'West', 'West', 'West', 'East', 'East', 'East', 'East', 'Central', 'Central', 'West', 'West', 'West', 'West', 'South', 'South', 'South', 'East', 'East', 'East', 'East', 'West', 'West', 'West', 'West', 'West', 'East', 'East', 'East', 'East', 'East', 'Central', 'East', 'Central', 'East', 'East', 'South', 'West', 'West', 'West', 'West', 'East', 'South', 'South', 'East', 'East', 'East', 'East', 'East', 'East', 'West', 'West', 'West', 'South', 'East', 'East', 'East', 'East', 'East', 'East', 'East', 'East', 'West', 'West', 'West', 'West', 'West', 'West', 'East', 'East', 'East', 'East', 'Central', 'West', 'East', 'East', 'East', 'East', 'East', 'East', 'East', 'East', 'East', 'East', 'East', 'East', 'South', 'South', 'South', 'East', 'East', 'East', 'East', 'West', 'East', 'East', 'East', 'East', 'Central', 'Central', 'West', 'West', 'West', 'West', 'Central', 'East', 'Central', 'Central', 'Central', 'West', 'West', 'Central', 'South', 'South', 'East', 'East', 'East', 'East', 'East', 'West', 'West', 'Central', 'West', 'East', 'East', 'Central', 'Central', 'Central', 'Central', 'Central', 'South', 'South', 'East', 'West', 'West', 'West', 'West', 'West', 'West', 'West', 'West', 'West', 'West', 'West', 'West', 'West', 'South', 'West', 'West', 'West', 'East', 'East', 'South', 'Central', 'Central', 'East', 'Central', 'South', 'South', 'South', 'South', 'East', 'South', 'South', 'Central', 'Central', 'Central', 'East', 'Central', 'Central', 'Central', 'Central', 'Central', 'Central', 'Central', 'East', 'East', 'East', 'East', 'East', 'East', 'East', 'East', 'Central', 'West', 'Central', 'Central', 'West', 'West', 'West', 'West', 'West', 'West', 'West', 'West', 'Central', 'Central', 'Central', 'East', 'West', 'West', 'West', 'West', 'West', 'West', 'West', 'East', 'East', 'East', 'West', 'East', 'East', 'West', 'West', 'West', 'Central', 'Central', 'Central', 'Central', 'East', 'East', 'West', 'South', 'South', 'West', 'West', 'West', 'West', 'West', 'West', 'West', 'West', 'West', 'East', 'South', 'South', 'South', 'South', 'Central', 'Central', 'East', 'West', 'West', 'West', 'West', 'West', 'West', 'Central', 'Central', 'Central', 'Central', 'West', 'West', 'East', 'South', 'South', 'East', 'East', 'East', 'West', 'West', 'South', 'South', 'West', 'Central', 'East', 'South', 'South', 'Central', 'West', 'East', 'Central', 'Central', 'Central', 'East', 'East', 'Central', 'Central', 'Central', 'West', 'South', 'Central', 'West', 'South', 'West', 'West', 'West', 'West', 'West', 'South', 'South', 'West', 'West', 'West', 'West', 'West', 'West', 'West', 'East', 'East', 'East', 'East', 'West', 'West', 'West', 'West', 'Central', 'Central', 'West', 'West', 'West', 'West', 'West', 'West', 'South', 'South', 'West', 'West', 'West', 'West', 'Central', 'Central', 'West', 'West', 'West', 'West', 'East', 'East', 'East', 'East', 'South', 'South', 'South', 'South', 'South', 'East', 'East', 'East', 'Central', 'Central', 'East', 'East', 'East', 'East', 'East', 'East', 'East', 'East', 'East', 'Central', 'Central', 'Central', 'Central', 'Central', 'East', 'West', 'West', 'West', 'West', 'West', 'West', 'South', 'South', 'South', 'West', 'West', 'West', 'West', 'Central', 'West', 'West', 'Central', 'East', 'Central', 'West', 'West', 'West', 'West', 'West', 'East', 'East', 'East', 'East', 'East', 'East', 'Central', 'Central', 'Central', 'Central', 'Central', 'Central', 'East', 'South', 'Central', 'Central', 'Central', 'East', 'Central', 'Central', 'Central', 'Central', 'Central', 'Central', 'Central', 'Central', 'Central', 'Central', 'Central', 'East', 'East', 'East', 'South', 'South', 'South', 'South', 'South', 'East', 'South', 'South', 'South', 'West', 'West', 'East', 'East', 'East', 'East', 'East', 'East', 'East', 'East', 'West', 'West', 'South', 'South', 'South', 'East', 'East', 'East', 'East', 'South', 'East', 'East', 'East', 'West', 'East', 'East', 'West', 'West', 'West', 'Central', 'Central', 'East', 'South', 'Central', 'Central', 'East', 'East', 'East', 'East', 'East', 'West', 'West', 'West', 'West', 'West', 'West', 'West', 'Central', 'Central', 'Central', 'Central', 'Central', 'Central', 'Central', 'West', 'West', 'Central', 'Central', 'Central', 'Central', 'Central', 'West', 'West', 'South', 'Central', 'Central', 'East', 'Central', 'West', 'South', 'East', 'South', 'South', 'South', 'South', 'South', 'South', 'South', 'Central', 'Central', 'Central', 'Central', 'Central', 'Central', 'East', 'West', 'West', 'West', 'West', 'East', 'East', 'East', 'East', 'South', 'West', 'West', 'South', 'South', 'South', 'South', 'South', 'West', 'West', 'Central', 'East', 'East', 'East', 'West', 'West', 'West', 'East', 'South', 'West', 'West', 'West', 'Central', 'Central', 'West', 'West', 'West', 'West', 'West', 'West', 'Central', 'East', 'East', 'East', 'East', 'East', 'East', 'East', 'East', 'West', 'West', 'Central', 'Central', 'Central', 'South', 'South', 'South', 'South', 'South', 'South', 'South', 'Central', 'South', 'Central', 'East', 'East', 'East', 'West', 'West', 'West', 'West', 'South', 'South', 'East', 'East', 'West', 'West', 'South', 'East', 'East', 'East', 'East', 'East', 'East', 'East', 'West', 'West', 'South', 'South', 'South', 'South', 'South', 'East', 'East', 'East', 'East', 'East', 'East', 'East', 'South', 'East', 'East', 'East', 'East', 'East', 'East', 'South', 'West', 'Central', 'East', 'West', 'West', 'East', 'West', 'East', 'East', 'Central', 'Central', 'Central', 'West', 'West', 'Central', 'Central', 'East', 'East', 'Central', 'Central', 'Central', 'West', 'West', 'West', 'East', 'East', 'East', 'Central', 'Central', 'Central', 'East', 'Central', 'Central', 'Central', 'Central', 'Central', 'Central', 'Central', 'South', 'East', 'East', 'East', 'East', 'East', 'East', 'South', 'South', 'East', 'East', 'East', 'East', 'East', 'East', 'East', 'East', 'West', 'West', 'West', 'West', 'West', 'West', 'West', 'West', 'West', 'West', 'East', 'East', 'East', 'East', 'East', 'East', 'Central', 'Central', 'South', 'West', 'West', 'West', 'West', 'West', 'South', 'West', 'South', 'East', 'East', 'East', 'East', 'East', 'East', 'East', 'East', 'East', 'East', 'East', 'East', 'West', 'Central', 'South', 'Central', 'East', 'West', 'West', 'West', 'Central', 'Central', 'Central', 'Central', 'East', 'East', 'South', 'East', 'West', 'West', 'South', 'South', 'South', 'South', 'South', 'South', 'West', 'East', 'East', 'East', 'West', 'South', 'West', 'West', 'Central', 'Central', 'West', 'West', 'West', 'West', 'West', 'West', 'East', 'East', 'East', 'East', 'East', 'East', 'East', 'East', 'West', 'East', 'East', 'East', 'East', 'East', 'East', 'East', 'East', 'East', 'East', 'East', 'Central', 'West', 'South', 'South', 'Central', 'East', 'East', 'Central', 'Central', 'Central', 'South', 'South', 'West', 'West', 'East', 'East', 'East', 'East', 'East', 'East', 'East', 'West', 'West', 'East', 'Central', 'East', 'East', 'East', 'East', 'East', 'East', 'West', 'Central', 'East', 'West', 'West', 'East', 'West', 'West', 'West', 'Central', 'West', 'West', 'West', 'Central', 'Central', 'East', 'East', 'East', 'East', 'Central', 'West', 'West', 'South', 'South', 'West', 'West', 'East', 'East', 'South', 'South', 'West', 'West', 'West', 'West', 'West', 'Central', 'Central', 'West', 'Central', 'Central', 'Central', 'Central', 'Central', 'Central', 'Central', 'Central', 'West', 'West', 'West', 'West', 'South', 'South', 'South', 'South', 'South', 'South', 'South', 'South', 'South', 'South', 'Central', 'Central', 'South', 'South', 'South', 'West', 'East', 'East', 'South', 'Central', 'Central', 'Central', 'Central', 'Central', 'West', 'West', 'West', 'West', 'West', 'Central', 'Central', 'Central', 'Central', 'Central', 'East', 'West', 'West', 'South', 'South', 'South', 'South', 'West', 'Central', 'Central', 'West', 'East', 'East', 'East', 'Central', 'West', 'East', 'East', 'East', 'East', 'Central', 'West', 'Central', 'East', 'East', 'West', 'East', 'East', 'Central', 'East', 'East', 'South', 'South', 'West', 'West', 'West', 'West', 'West', 'West', 'West', 'West', 'West', 'South', 'South', 'South', 'South', 'Central', 'Central', 'Central', 'West', 'West', 'West', 'West', 'West', 'South', 'East', 'East', 'East', 'East', 'East', 'East', 'East', 'East', 'East', 'East', 'East', 'East', 'East', 'East', 'West', 'West', 'East', 'East', 'East', 'East', 'East', 'East', 'West', 'West', 'West', 'East', 'East', 'East', 'South', 'South', 'South', 'South', 'West', 'West', 'West', 'East', 'East', 'East', 'South', 'West', 'West', 'West', 'East', 'East', 'East', 'East', 'Central', 'East', 'East', 'East', 'East', 'South', 'South', 'South', 'South', 'South', 'East', 'Central', 'Central', 'West', 'West', 'West', 'West', 'South', 'Central', 'Central', 'Central', 'Central', 'Central', 'Central', 'Central', 'Central', 'South', 'South', 'Central', 'South', 'South', 'South', 'Central', 'East', 'East', 'East', 'East', 'East', 'West', 'West', 'West', 'West', 'West', 'West', 'West', 'West', 'Central', 'West', 'South', 'South', 'South', 'South', 'South', 'Central', 'West', 'West', 'West', 'West', 'West', 'East', 'East', 'East', 'West', 'West', 'West', 'East', 'South', 'South', 'East', 'East', 'South', 'South', 'East', 'Central', 'East', 'East', 'West', 'West', 'East', 'East', 'Central', 'Central', 'West', 'East', 'West', 'East', 'East', 'East', 'South', 'South', 'South', 'East', 'East', 'Central', 'Central', 'Central', 'Central', 'Central', 'Central', 'South', 'West', 'West', 'West', 'Central', 'Central', 'South', 'Central', 'West', 'East', 'East', 'East', 'West', 'West', 'West', 'West', 'West', 'West', 'West', 'West', 'East', 'West', 'West', 'West', 'West', 'West', 'West', 'West', 'West', 'West', 'Central', 'South', 'South', 'South', 'South', 'South', 'South', 'South', 'South', 'South', 'South', 'South', 'South', 'Central', 'Central', 'East', 'East', 'East', 'East', 'South', 'South', 'East', 'East', 'East', 'East', 'East', 'East', 'East', 'West', 'Central', 'East', 'East', 'East', 'West', 'West', 'Central', 'Central', 'Central', 'West', 'West', 'West', 'West', 'West', 'West', 'West', 'West', 'West', 'West', 'West', 'East', 'South', 'South', 'South', 'West', 'East', 'East', 'Central', 'Central', 'East', 'East', 'West', 'South', 'West', 'Central', 'Central', 'Central', 'Central', 'East', 'West', 'West', 'South', 'South', 'South', 'South', 'South', 'South', 'East', 'Central', 'East', 'West', 'East', 'Central', 'Central', 'East', 'West', 'West', 'South', 'Central', 'Central', 'Central', 'East', 'West', 'Central', 'East', 'East', 'East', 'South', 'West', 'West', 'West', 'West', 'South', 'South', 'West', 'East', 'West', 'West', 'West', 'East', 'East', 'East', 'East', 'West', 'South', 'Central', 'Central', 'Central', 'West', 'Central', 'Central', 'Central', 'West', 'West', 'West', 'West', 'East', 'South', 'Central', 'West', 'West', 'West', 'Central', 'Central', 'Central', 'East', 'West', 'West', 'West', 'West', 'Central', 'West', 'West', 'West', 'West', 'West', 'East', 'East', 'East', 'East', 'South', 'West', 'West', 'East', 'West', 'East', 'East', 'East', 'East', 'East', 'East', 'East', 'East', 'West', 'West', 'East', 'Central', 'Central', 'Central', 'East', 'Central', 'West', 'Central', 'South', 'West', 'East', 'East', 'East', 'West', 'West', 'West', 'West', 'East', 'East', 'South', 'West', 'Central', 'Central', 'West', 'South', 'West', 'West', 'West', 'West', 'Central', 'Central', 'Central', 'South', 'East', 'East', 'East', 'East', 'East', 'East', 'East', 'East', 'East', 'East', 'East', 'South', 'Central', 'Central', 'West', 'West', 'Central', 'East', 'East', 'Central', 'Central', 'Central', 'Central', 'East', 'South', 'East', 'West', 'West', 'West', 'West', 'West', 'West', 'West', 'West', 'West', 'West', 'East', 'Central', 'Central', 'Central', 'East', 'East', 'West', 'West', 'West', 'West', 'West', 'West', 'East', 'South', 'East', 'East', 'East', 'East', 'East', 'East', 'East', 'West', 'West', 'West', 'East', 'East', 'East', 'East', 'Central', 'West', 'West', 'West', 'East', 'East', 'East', 'East', 'West', 'West', 'West', 'West', 'West', 'West', 'West', 'Central', 'West', 'West', 'West', 'East', 'East', 'Central', 'Central', 'Central', 'Central', 'Central', 'Central', 'East', 'Central', 'West', 'Central', 'South', 'Central', 'Central', 'West', 'West', 'East', 'East', 'East', 'East', 'West', 'West', 'East', 'East', 'East', 'East', 'East', 'East', 'Central', 'Central', 'East', 'Central', 'East', 'East', 'East', 'West', 'West', 'West', 'East', 'East', 'East', 'West', 'West', 'East', 'West', 'West', 'West', 'West', 'West', 'West', 'Central', 'Central', 'West', 'East', 'East', 'East', 'East', 'East', 'East', 'Central', 'Central', 'Central', 'East', 'East', 'East', 'East', 'South', 'South', 'South', 'South', 'Central', 'Central', 'South', 'South', 'South', 'West', 'West', 'West', 'West', 'East', 'East', 'East', 'East', 'East', 'South', 'South', 'Central', 'Central', 'Central', 'West', 'West', 'West', 'West', 'Central', 'Central', 'Central', 'Central', 'East', 'West', 'West', 'West', 'South', 'South', 'South', 'South', 'South', 'South', 'Central', 'Central', 'Central', 'Central', 'East', 'East', 'East', 'East', 'West', 'West', 'East', 'East', 'East', 'East', 'Central', 'Central', 'Central', 'Central', 'Central', 'Central', 'Central', 'East', 'Central', 'Central', 'Central', 'Central', 'East', 'East', 'East', 'West', 'Central', 'Central', 'West', 'East', 'East', 'East', 'West', 'West', 'West', 'Central', 'Central', 'Central', 'South', 'East', 'East', 'West', 'West', 'West', 'West', 'Central', 'Central', 'Central', 'Central', 'Central', 'Central', 'West', 'West', 'West', 'South', 'South', 'East', 'Central', 'Central', 'South', 'Central', 'Central', 'East', 'South', 'South', 'South', 'South', 'South', 'South', 'Central', 'Central', 'West', 'East', 'East', 'West', 'West', 'Central', 'Central', 'Central', 'Central', 'Central', 'Central', 'West', 'Central', 'Central', 'East', 'East', 'East', 'East', 'Central', 'West', 'West', 'East', 'West', 'East', 'East', 'West', 'West', 'West', 'West', 'West', 'East', 'East', 'Central', 'West', 'West', 'South', 'East', 'East', 'East', 'East', 'Central', 'West', 'South', 'South', 'East', 'East', 'West', 'West', 'South', 'West', 'South', 'West', 'Central', 'South', 'South', 'South', 'South', 'Central', 'West', 'West', 'West', 'Central', 'South', 'South', 'West', 'East', 'West', 'Central', 'Central', 'South', 'South', 'South', 'South', 'East', 'Central', 'East', 'East', 'East', 'Central', 'Central', 'West', 'West', 'West', 'West', 'West', 'West', 'West', 'West', 'South', 'South', 'West', 'West', 'West', 'West', 'West', 'West', 'West', 'Central', 'Central', 'Central', 'Central', 'Central', 'East', 'East', 'East', 'East', 'East', 'East', 'East', 'East', 'East', 'East', 'East', 'East', 'Central', 'Central', 'Central', 'Central', 'Central', 'Central', 'Central', 'Central', 'East', 'East', 'East', 'Central', 'Central', 'Central', 'Central', 'Central', 'Central', 'South', 'South', 'South', 'West', 'West', 'West', 'South', 'Central', 'West', 'West', 'West', 'East', 'Central', 'Central', 'Central', 'Central', 'East', 'West', 'West', 'West', 'Central', 'Central', 'South', 'South', 'South', 'West', 'West', 'South', 'South', 'Central', 'Central', 'Central', 'Central', 'South', 'South', 'South', 'Central', 'Central', 'South', 'South', 'South', 'West', 'West', 'West', 'West', 'East', 'East', 'East', 'East', 'West', 'West', 'West', 'West', 'East', 'East', 'East', 'East', 'Central', 'Central', 'Central', 'Central', 'West', 'West', 'West', 'West', 'West', 'West', 'West', 'East', 'Central', 'East', 'East', 'East', 'East', 'East', 'East', 'East', 'East', 'East', 'Central', 'Central', 'Central', 'Central', 'Central', 'West', 'West', 'West', 'West', 'West', 'West', 'West', 'West', 'West', 'West', 'West', 'East', 'West', 'West', 'West', 'West', 'West', 'East', 'East', 'East', 'West', 'West', 'West', 'West', 'Central', 'East', 'East', 'East', 'East', 'East', 'West', 'East', 'East', 'Central', 'West', 'South', 'South', 'South', 'South', 'West', 'West', 'West', 'West', 'West', 'East', 'East', 'South', 'Central', 'West', 'West', 'West', 'West', 'West', 'West', 'West', 'West', 'West', 'East', 'West', 'West', 'West', 'South', 'West', 'Central', 'Central', 'East', 'East', 'East', 'East', 'East', 'East', 'East', 'East', 'East', 'East', 'East', 'East', 'Central', 'Central', 'East', 'East', 'East', 'East', 'East', 'East', 'East', 'East', 'East', 'East', 'West', 'East', 'Central', 'Central', 'East', 'East', 'Central', 'West', 'Central', 'Central', 'South', 'Central', 'East', 'West', 'West', 'Central', 'Central', 'Central', 'Central', 'Central', 'East', 'East', 'East', 'Central', 'West', 'Central', 'Central', 'West', 'West', 'West', 'West', 'East', 'East', 'East', 'East', 'East', 'East', 'West', 'South', 'Central', 'Central', 'Central', 'West', 'West', 'West', 'West', 'West', 'West', 'South', 'South', 'East', 'East', 'South', 'South', 'West', 'West', 'East', 'South', 'Central', 'Central', 'East', 'East', 'East', 'Central', 'East', 'West', 'West', 'West', 'West', 'South', 'West', 'West', 'West', 'East', 'East', 'East', 'East', 'West', 'Central', 'Central', 'East', 'West', 'West', 'Central', 'Central', 'West', 'East', 'Central', 'Central', 'West', 'Central', 'West', 'West', 'East', 'West', 'West', 'West', 'West', 'West', 'West', 'West', 'West', 'West', 'West', 'West', 'West', 'West', 'East', 'East', 'West', 'West', 'West', 'West', 'East', 'South', 'South', 'South', 'South', 'South', 'West', 'East', 'East', 'South', 'West', 'West', 'West', 'West', 'West', 'South', 'South', 'South', 'West', 'West', 'West', 'East', 'Central', 'Central', 'South', 'South', 'East', 'West', 'West', 'South', 'South', 'South', 'East', 'East', 'East', 'East', 'East', 'East', 'East', 'Central', 'Central', 'South', 'South', 'South', 'Central', 'Central', 'East', 'West', 'West', 'West', 'West', 'West', 'Central', 'Central', 'Central', 'Central', 'Central', 'Central', 'South', 'West', 'South', 'South', 'South', 'South', 'East', 'East', 'East', 'West', 'East', 'West', 'West', 'Central', 'Central', 'South', 'East', 'East', 'East', 'East', 'East', 'South', 'East', 'East', 'Central', 'Central', 'Central', 'Central', 'Central', 'West', 'West', 'West', 'West', 'West', 'West', 'West', 'West', 'West', 'East', 'East', 'East', 'East', 'East', 'East', 'South', 'South', 'South', 'West', 'East', 'East', 'East', 'East', 'Central', 'Central', 'Central', 'Central', 'South', 'East', 'East', 'West', 'East', 'East', 'East', 'West', 'West', 'West', 'West', 'West', 'West', 'West', 'East', 'East', 'East', 'East', 'East', 'East', 'East', 'East', 'West', 'West', 'South', 'South', 'Central', 'Central', 'Central', 'West', 'West', 'West', 'West', 'West', 'West', 'East', 'West', 'West', 'West', 'Central', 'East', 'West', 'West', 'West', 'West', 'West', 'Central', 'Central', 'East', 'East', 'East', 'East', 'Central', 'Central', 'Central', 'West', 'West', 'East', 'Central', 'South', 'South', 'West', 'West', 'West', 'South', 'East', 'East', 'East', 'East', 'East', 'East', 'West', 'East', 'South', 'West', 'East', 'East', 'East', 'East', 'East', 'East', 'East', 'East', 'East', 'East', 'West', 'West', 'East', 'East', 'East', 'East', 'South', 'South', 'South', 'South', 'South', 'South', 'South', 'West', 'West', 'West', 'West', 'West', 'East', 'Central', 'Central', 'West', 'West', 'West', 'West', 'West', 'East', 'East', 'East', 'East', 'East', 'West', 'East', 'Central', 'Central', 'Central', 'West', 'West', 'West', 'South', 'Central', 'Central', 'Central', 'West', 'West', 'West', 'West', 'Central', 'West', 'West', 'Central', 'South', 'South', 'Central', 'Central', 'East', 'Central', 'East', 'Central', 'Central', 'Central', 'Central', 'Central', 'Central', 'Central', 'Central', 'Central', 'Central', 'Central', 'South', 'South', 'South', 'South', 'South', 'East', 'West', 'East', 'East', 'East', 'West', 'West', 'West', 'East', 'East', 'East', 'West', 'West', 'West', 'West', 'West', 'West', 'South', 'South', 'South', 'South', 'East', 'Central', 'South', 'West', 'West', 'West', 'South', 'South', 'East', 'East', 'South', 'West', 'West', 'East', 'East', 'East', 'Central', 'Central', 'Central', 'South', 'South', 'South', 'South', 'South', 'South', 'South', 'South', 'South', 'South', 'South', 'Central', 'East', 'East', 'West', 'West', 'Central', 'Central', 'South', 'South', 'Central', 'Central', 'Central', 'Central', 'Central', 'East', 'East', 'East', 'East', 'East', 'East', 'South', 'West', 'Central', 'Central', 'Central', 'Central', 'Central', 'Central', 'West', 'West', 'West', 'West', 'West', 'West', 'West', 'West', 'West', 'Central', 'East', 'East', 'East', 'East', 'East', 'East', 'East', 'Central', 'West', 'West', 'West', 'South', 'South', 'West', 'East', 'East', 'East', 'East', 'South', 'Central', 'South', 'South', 'Central', 'Central', 'Central', 'Central', 'Central', 'West', 'West', 'West', 'West', 'West', 'West', 'West', 'West', 'West', 'West', 'East', 'East', 'Central', 'South', 'South', 'South', 'Central', 'Central', 'West', 'West', 'East', 'East', 'East', 'East', 'West', 'South', 'South', 'West', 'West', 'Central', 'Central', 'Central', 'Central', 'Central', 'West', 'South', 'South', 'Central', 'West', 'Central', 'East', 'West', 'West', 'West', 'South', 'East', 'South', 'South', 'South', 'South', 'South', 'South', 'South', 'East', 'East', 'West', 'West', 'West', 'West', 'West', 'South', 'East', 'East', 'South', 'West', 'East', 'South', 'East', 'West', 'Central', 'South', 'South', 'South', 'West', 'West', 'East', 'East', 'East', 'East', 'West', 'West', 'West', 'East', 'East', 'West', 'East', 'East', 'East', 'East', 'South', 'South', 'East', 'West', 'West', 'West', 'South', 'East', 'Central', 'South', 'West', 'West', 'West', 'West', 'West', 'West', 'West', 'West', 'East', 'South', 'South', 'West', 'West', 'West', 'East', 'East', 'East', 'East', 'East', 'Central', 'Central', 'Central', 'Central', 'South', 'Central', 'East', 'West', 'West', 'West', 'South', 'South', 'East', 'Central', 'Central', 'East', 'East', 'West', 'West', 'Central', 'Central', 'Central', 'Central', 'Central', 'Central', 'West', 'West', 'West', 'West', 'South', 'South', 'South', 'South', 'West', 'West', 'West', 'West', 'Central', 'West', 'West', 'West', 'West', 'Central', 'Central', 'Central', 'Central', 'Central', 'East', 'East', 'East', 'East', 'West', 'West', 'West', 'Central', 'Central', 'Central', 'Central', 'Central', 'Central', 'East', 'East', 'East', 'West', 'West', 'South', 'South', 'West', 'West', 'West', 'South', 'East', 'South', 'South', 'Central', 'East', 'Central', 'East', 'Central', 'South', 'South', 'South', 'East', 'Central', 'East', 'East', 'East', 'Central', 'West', 'South', 'South', 'South', 'South', 'South', 'South', 'West', 'West', 'West', 'West', 'East', 'East', 'South', 'West', 'West', 'West', 'West', 'East', 'West', 'West', 'East', 'East', 'East', 'East', 'East', 'Central', 'West', 'West', 'West', 'West', 'West', 'West', 'West', 'South', 'South', 'East', 'East', 'East', 'East', 'East', 'South', 'Central', 'East', 'East', 'South', 'Central', 'Central', 'Central', 'West', 'Central', 'Central', 'Central', 'West', 'South', 'East', 'East', 'East', 'Central', 'Central', 'Central', 'Central', 'East', 'East', 'East', 'West', 'Central', 'Central', 'East', 'East', 'South', 'Central', 'South', 'Central', 'West', 'West', 'West', 'West', 'West', 'West', 'West', 'West', 'West', 'West', 'Central', 'Central', 'Central', 'West', 'West', 'West', 'West', 'West', 'West', 'West', 'West', 'West', 'West', 'West', 'West', 'East', 'East', 'East', 'West', 'West', 'West', 'West', 'West', 'West', 'West', 'West', 'Central', 'Central', 'South', 'South', 'South', 'South', 'South', 'Central', 'Central', 'Central', 'East', 'East', 'South', 'East', 'East', 'West', 'West', 'West', 'West', 'South', 'South', 'South', 'West', 'West', 'West', 'West', 'East', 'Central', 'West', 'West', 'East', 'East', 'East', 'East', 'East', 'East', 'Central', 'East', 'East', 'Central', 'East', 'West', 'South', 'East', 'West', 'West', 'West', 'West', 'West', 'East', 'Central', 'Central', 'Central', 'West', 'West', 'West', 'West', 'Central', 'East', 'East', 'East', 'West', 'South', 'West', 'Central', 'Central', 'West', 'East', 'South', 'South', 'South', 'South', 'South', 'West', 'South', 'West', 'West', 'West', 'East', 'Central', 'Central', 'West', 'South', 'South', 'West', 'West', 'West', 'Central', 'Central', 'Central', 'West', 'West', 'West', 'West', 'East', 'Central', 'East', 'East', 'West', 'West', 'West', 'West', 'West', 'East', 'East', 'East', 'East', 'West', 'West', 'Central', 'Central', 'Central', 'West', 'West', 'West', 'South', 'South', 'East', 'Central', 'Central', 'Central', 'Central', 'South', 'South', 'East', 'East', 'East', 'Central', 'Central', 'Central', 'Central', 'Central', 'Central', 'East', 'East', 'East', 'East', 'East', 'East', 'Central', 'Central', 'Central', 'Central', 'Central', 'Central', 'Central', 'West', 'West', 'West', 'West', 'West', 'West', 'South', 'South', 'South', 'South', 'South', 'South', 'South', 'South', 'East', 'East', 'West', 'West', 'West', 'West', 'East', 'East', 'Central', 'Central', 'Central', 'Central', 'Central', 'Central', 'East', 'Central', 'East', 'East', 'Central', 'West', 'West', 'West', 'East', 'West', 'East', 'East', 'East', 'East', 'Central', 'West', 'East', 'East', 'South', 'South', 'Central', 'West', 'West', 'West', 'West', 'West', 'West', 'Central', 'South', 'South', 'South', 'Central', 'Central', 'Central', 'Central', 'West', 'West', 'East', 'East', 'East', 'East', 'East', 'East', 'East', 'East', 'Central', 'Central', 'East', 'West', 'West', 'Central', 'East', 'Central', 'Central', 'Central', 'South', 'East', 'West', 'South', 'East', 'East', 'East', 'West', 'West', 'West', 'West', 'West', 'West', 'West', 'West', 'Central', 'Central', 'Central', 'East', 'East', 'West', 'West', 'East', 'East', 'East', 'East', 'East', 'West', 'West', 'West', 'West', 'West', 'West', 'West', 'East', 'East', 'Central', 'Central', 'Central', 'West', 'East', 'East', 'East', 'Central', 'Central', 'Central', 'South', 'Central', 'Central', 'Central', 'West', 'West', 'West', 'West', 'West', 'Central', 'East', 'Central', 'Central', 'West', 'West', 'South', 'South', 'South', 'Central', 'Central', 'West', 'West', 'West', 'South', 'East', 'East', 'South', 'South', 'Central', 'Central', 'West', 'West', 'West', 'Central', 'Central', 'South', 'South', 'South', 'South', 'South', 'South', 'South', 'East', 'East', 'Central', 'Central', 'West', 'West', 'West', 'West', 'Central', 'West', 'West', 'Central', 'East', 'West', 'West', 'West', 'East', 'East', 'East', 'East', 'East', 'Central', 'Central', 'Central', 'Central', 'Central', 'East', 'East', 'South', 'West', 'West', 'East', 'East', 'Central', 'West', 'West', 'South', 'South', 'South', 'East', 'East', 'Central', 'Central', 'Central', 'Central', 'Central', 'Central', 'Central', 'Central', 'Central', 'Central', 'West', 'West', 'West', 'West', 'West', 'West', 'West', 'East', 'East', 'East', 'East', 'East', 'East', 'West', 'Central', 'West', 'East', 'West', 'West', 'East', 'East', 'East', 'East', 'Central', 'Central', 'Central', 'East', 'East', 'East', 'East', 'Central', 'West', 'Central', 'Central', 'West', 'West', 'Central', 'West', 'West', 'East', 'East', 'East', 'East', 'Central', 'Central', 'Central', 'East', 'South', 'East', 'East', 'East', 'South', 'South', 'South', 'South', 'South', 'Central', 'West', 'West', 'Central', 'East', 'Central', 'Central', 'Central', 'South', 'South', 'South', 'South', 'Central', 'Central', 'West', 'East', 'East', 'East', 'East', 'East', 'West', 'West', 'West', 'West', 'West', 'Central', 'Central', 'West', 'West', 'East', 'West', 'West', 'West', 'West', 'West', 'Central', 'Central', 'East', 'East', 'East', 'West', 'West', 'West', 'West', 'West', 'Central', 'Central', 'Central', 'Central', 'Central', 'West', 'East', 'East', 'East', 'East', 'East', 'East', 'South', 'West', 'West', 'West', 'West', 'South', 'South', 'South', 'South', 'East', 'East', 'East', 'East', 'East', 'Central', 'East', 'South', 'South', 'East', 'East', 'East', 'South', 'South', 'West', 'East', 'East', 'Central', 'Central', 'Central', 'Central', 'West', 'West', 'West', 'West', 'South', 'South', 'South', 'South', 'East', 'South', 'South', 'Central', 'Central', 'Central', 'Central', 'Central', 'Central', 'Central', 'Central', 'West', 'West', 'West', 'South', 'South', 'South', 'Central', 'Central', 'East', 'Central', 'Central', 'Central', 'Central', 'Central', 'Central', 'Central', 'Central', 'Central', 'Central', 'South', 'South', 'South', 'South', 'Central', 'West', 'Central', 'Central', 'West', 'Central', 'South', 'South', 'South', 'West', 'South', 'Central', 'East', 'West', 'West', 'West', 'West', 'East', 'South', 'South', 'South', 'South', 'East', 'East', 'East', 'Central', 'Central', 'South', 'South', 'South', 'South', 'Central', 'Central', 'Central', 'East', 'West', 'West', 'West', 'West', 'West', 'West', 'East', 'East', 'East', 'East', 'West', 'West', 'Central', 'Central', 'West', 'West', 'West', 'West', 'Central', 'East', 'East', 'South', 'West', 'West', 'South', 'South', 'South', 'Central', 'Central', 'Central', 'Central', 'Central', 'West', 'East', 'South', 'South', 'South', 'Central', 'East', 'East', 'East', 'East', 'East', 'East', 'East', 'East', 'West', 'East', 'East', 'East', 'East', 'East', 'East', 'East', 'East', 'East', 'East', 'Central', 'East', 'East', 'Central', 'Central', 'East', 'West', 'West', 'West', 'South', 'South', 'South', 'South', 'West', 'West', 'West', 'West', 'West', 'East', 'East', 'West', 'West', 'East', 'East', 'East', 'East', 'East', 'East', 'East', 'East', 'East', 'West', 'West', 'West', 'West', 'West', 'West', 'South', 'South', 'Central', 'Central', 'Central', 'Central', 'Central', 'South', 'East', 'South', 'South', 'South', 'West', 'Central', 'East', 'East', 'West', 'West', 'West', 'West', 'West', 'West', 'West', 'West', 'East', 'East', 'East', 'East', 'West', 'East', 'East', 'East', 'East', 'East', 'East', 'East', 'East', 'East', 'West', 'South', 'West', 'West', 'West', 'West', 'West', 'West', 'South', 'South', 'South', 'West', 'West', 'East', 'East', 'East', 'South', 'South', 'South', 'South', 'Central', 'Central', 'Central', 'Central', 'West', 'West', 'West', 'West', 'West', 'West', 'Central', 'South', 'South', 'Central', 'South', 'South', 'Central', 'West', 'Central', 'West', 'East', 'East', 'East', 'East', 'East', 'East', 'East', 'East', 'East', 'East', 'East', 'East', 'Central', 'Central', 'Central', 'East', 'East', 'East', 'South', 'South', 'South', 'West', 'West', 'West', 'West', 'West', 'West', 'West', 'West', 'Central', 'Central', 'East', 'West', 'West', 'West', 'East', 'Central', 'Central', 'Central', 'Central', 'Central', 'Central', 'South', 'South', 'West', 'East', 'South', 'South', 'South', 'South', 'South', 'West', 'South', 'East', 'Central', 'East', 'South', 'South', 'South', 'East', 'West', 'Central', 'Central', 'Central', 'West', 'East', 'East', 'East', 'West', 'West', 'West', 'South', 'South', 'South', 'South', 'South', 'South', 'South', 'South', 'South', 'South', 'South', 'South', 'South', 'South', 'South', 'Central', 'Central', 'South', 'South', 'South', 'South', 'South', 'East', 'East', 'East', 'East', 'East', 'East', 'East', 'Central', 'Central', 'Central', 'Central', 'Central', 'East', 'East', 'East', 'East', 'West', 'West', 'West', 'West', 'West', 'West', 'South', 'West', 'West', 'West', 'West', 'West', 'Central', 'South', 'South', 'Central', 'East', 'Central', 'West', 'West', 'Central', 'Central', 'Central', 'West', 'Central', 'Central', 'East', 'East', 'West', 'Central', 'West', 'Central', 'West', 'West', 'West', 'West', 'West', 'West', 'South', 'South', 'South', 'South', 'South', 'Central', 'Central', 'West', 'West', 'West', 'West', 'South', 'Central', 'Central', 'South', 'South', 'South', 'West', 'West', 'West', 'Central', 'Central', 'South', 'Central', 'Central', 'Central', 'East', 'Central', 'East', 'West', 'East', 'East', 'East', 'East', 'East', 'East', 'East', 'East', 'Central', 'East', 'East', 'West', 'West', 'West', 'West', 'West', 'South', 'South', 'Central', 'Central', 'Central', 'West', 'West', 'West', 'West', 'Central', 'Central', 'Central', 'East', 'East', 'West', 'West', 'West', 'Central', 'Central', 'Central', 'Central', 'East', 'East', 'South', 'East', 'West', 'South', 'South', 'Central', 'Central', 'Central', 'Central', 'East', 'West', 'East', 'Central', 'Central', 'West', 'South', 'South', 'South', 'Central', 'Central', 'West', 'West', 'East', 'South', 'East', 'West', 'Central', 'Central', 'West', 'Central', 'East', 'East', 'East', 'East', 'South', 'West', 'West', 'East', 'East', 'West', 'West', 'West', 'West', 'West', 'East', 'East', 'South', 'East', 'East', 'South', 'South', 'South', 'Central', 'Central', 'Central', 'Central', 'Central', 'South', 'West', 'West', 'Central', 'Central', 'Central', 'South', 'South', 'South', 'West', 'West', 'East', 'East', 'Central', 'South', 'South', 'South', 'South', 'South', 'South', 'South', 'East', 'East', 'East', 'West', 'West', 'Central', 'Central', 'Central', 'Central', 'South', 'South', 'West', 'West', 'West', 'East', 'East', 'Central', 'West', 'West', 'West', 'West', 'West', 'West', 'West', 'West', 'Central', 'Central', 'East', 'East', 'East', 'East', 'East', 'East', 'East', 'East', 'East', 'East', 'Central', 'West', 'West', 'Central', 'West', 'East', 'South', 'South', 'South', 'South', 'South', 'South', 'Central', 'Central', 'Central', 'Central', 'Central', 'South', 'South', 'Central', 'Central', 'Central', 'South', 'West', 'West', 'Central', 'Central', 'West', 'West', 'West', 'West', 'South', 'East', 'East', 'East', 'East', 'South', 'South', 'South', 'Central', 'Central', 'Central', 'Central', 'Central', 'Central', 'Central', 'Central', 'West', 'West', 'Central', 'East', 'East', 'Central', 'Central', 'Central', 'Central', 'Central', 'Central', 'West', 'West', 'West', 'West', 'West', 'East', 'West', 'West', 'West', 'East', 'South', 'South', 'South', 'South', 'West', 'Central', 'South', 'South', 'South', 'South', 'West', 'West', 'South', 'Central', 'East', 'East', 'Central', 'Central', 'West', 'West', 'West', 'East', 'Central', 'Central', 'Central', 'Central', 'East', 'East', 'East', 'South', 'South', 'East', 'East', 'Central', 'South', 'East', 'East', 'East', 'East', 'West', 'West', 'East', 'West', 'West', 'West', 'West', 'West', 'South', 'South', 'South', 'West', 'South', 'South', 'West', 'West', 'Central', 'East', 'East', 'East', 'East', 'East', 'Central', 'Central', 'Central', 'Central', 'East', 'Central', 'West', 'West', 'West', 'West', 'East', 'East', 'East', 'East', 'East', 'East', 'East', 'East', 'East', 'East', 'East', 'East', 'East', 'East', 'Central', 'South', 'South', 'South', 'Central', 'East', 'West', 'West', 'West', 'West', 'West', 'West', 'West', 'West', 'Central', 'Central', 'Central', 'West', 'Central', 'Central', 'Central', 'Central', 'Central', 'Central', 'East', 'East', 'Central', 'East', 'West', 'Central', 'West', 'West', 'South', 'South', 'West', 'East', 'East', 'East', 'East', 'East', 'East', 'South', 'South', 'South', 'Central', 'Central', 'Central', 'West', 'West', 'East', 'East', 'Central', 'South', 'East', 'Central', 'Central', 'Central', 'Central', 'Central', 'West', 'South', 'East', 'West', 'West', 'West', 'Central', 'West', 'East', 'East', 'East', 'East', 'East', 'Central', 'Central', 'Central', 'Central', 'Central', 'South', 'Central', 'Central', 'West', 'West', 'West', 'East', 'West', 'West', 'West', 'South', 'South', 'South', 'South', 'South', 'East', 'Central', 'West', 'West', 'West', 'West', 'West', 'West', 'West', 'West', 'West', 'East', 'West', 'West', 'West', 'West', 'South', 'West', 'West', 'East', 'East', 'East', 'East', 'East', 'East', 'East', 'East', 'South', 'South', 'West', 'West', 'South', 'South', 'West', 'West', 'West', 'West', 'South', 'Central', 'South', 'West', 'West', 'West', 'West', 'East', 'East', 'West', 'West', 'East', 'East', 'West', 'West', 'South', 'South', 'South', 'Central', 'Central', 'Central', 'East', 'South', 'Central', 'Central', 'Central', 'Central', 'Central', 'Central', 'Central', 'Central', 'Central', 'Central', 'Central', 'Central', 'East', 'West', 'West', 'West', 'South', 'South', 'West', 'West', 'Central', 'Central', 'Central', 'Central', 'West', 'West', 'East', 'East', 'East', 'East', 'Central', 'Central', 'East', 'East', 'West', 'East', 'East', 'East', 'East', 'East', 'West', 'East', 'East', 'East', 'Central', 'Central', 'Central', 'West', 'West', 'East', 'East', 'East', 'East', 'West', 'West', 'Central', 'East', 'East', 'Central', 'South', 'South', 'South', 'South', 'South', 'South', 'West', 'Central', 'East', 'South', 'South', 'South', 'South', 'South', 'Central', 'Central', 'Central', 'Central', 'Central', 'Central', 'Central', 'Central', 'Central', 'Central', 'Central', 'Central', 'Central', 'West', 'West', 'West', 'West', 'West', 'West', 'West', 'West', 'West', 'West', 'West', 'West', 'West', 'West', 'West', 'West', 'West', 'West', 'East', 'East', 'East', 'East', 'East', 'East', 'East', 'East', 'East', 'East', 'East', 'Central', 'Central', 'East', 'West', 'West', 'West', 'West', 'West', 'West', 'West', 'Central', 'Central', 'Central', 'West', 'East', 'East', 'East', 'East', 'West', 'West', 'East', 'West', 'West', 'West', 'Central', 'Central', 'West', 'West', 'West', 'West', 'West', 'West', 'West', 'Central', 'Central', 'West', 'Central', 'South', 'Central', 'West', 'West', 'West', 'South', 'Central', 'Central', 'West', 'East', 'East', 'East', 'East', 'East', 'East', 'Central', 'East', 'East', 'West', 'West', 'West', 'West', 'West', 'West', 'West', 'East', 'East', 'Central', 'Central', 'Central', 'Central', 'Central', 'Central', 'Central', 'Central', 'Central', 'East', 'West', 'West', 'West', 'Central', 'South', 'South', 'West', 'Central', 'Central', 'West', 'West', 'West', 'South', 'West', 'South', 'South', 'South', 'Central', 'West', 'Central', 'Central', 'West', 'Central', 'Central', 'Central', 'Central', 'West', 'South', 'East', 'South', 'East', 'East', 'West', 'West', 'West', 'West', 'West', 'West', 'West', 'West', 'West', 'West', 'West', 'West', 'West', 'East', 'Central', 'Central', 'East', 'East', 'East', 'South', 'South', 'South', 'South', 'East', 'East', 'East', 'East', 'West', 'South', 'South', 'South', 'Central', 'Central', 'Central', 'East', 'East', 'West', 'West', 'East', 'South', 'South', 'South', 'South', 'East', 'East', 'East', 'East', 'Central', 'West', 'West', 'West', 'West', 'West', 'West', 'West', 'West', 'South', 'South', 'West', 'West', 'West', 'West', 'East', 'South', 'East', 'West', 'West', 'West', 'West', 'East', 'East', 'West', 'Central', 'East', 'East', 'East', 'East', 'East', 'East', 'East', 'South', 'South', 'South', 'West', 'West', 'Central', 'Central', 'Central', 'Central', 'Central', 'Central', 'Central', 'East', 'West', 'West', 'West', 'West', 'West', 'East', 'South', 'East', 'East', 'East', 'East', 'Central', 'East', 'West', 'West', 'West', 'West', 'West', 'Central', 'Central', 'Central', 'Central', 'Central', 'Central', 'Central', 'Central', 'Central', 'Central', 'East', 'East', 'East', 'West', 'West', 'West', 'West', 'East', 'Central', 'Central', 'West', 'West', 'West', 'East', 'West', 'West', 'West', 'Central', 'West', 'South', 'South', 'South', 'East', 'East', 'West', 'Central', 'West', 'West', 'West', 'West', 'East', 'East', 'East', 'East', 'West', 'West', 'West', 'West', 'West', 'Central', 'Central', 'Central', 'Central', 'West', 'West', 'West', 'West', 'South', 'South', 'Central', 'South', 'South', 'East', 'Central', 'East', 'East', 'East', 'East', 'East', 'West', 'West', 'East', 'Central', 'Central', 'South', 'West', 'West', 'West', 'Central', 'Central', 'Central', 'West', 'East', 'East', 'East', 'East', 'Central', 'Central', 'Central', 'Central', 'West', 'West', 'West', 'West', 'West', 'West', 'West', 'West', 'West', 'East', 'West', 'South', 'South', 'South', 'South', 'South', 'South', 'South', 'South', 'East', 'East', 'West', 'West', 'West', 'East', 'Central', 'Central', 'East', 'East', 'East', 'West', 'East', 'East', 'East', 'East', 'East', 'Central', 'Central', 'West', 'East', 'East', 'East', 'West', 'South', 'South', 'East', 'Central', 'Central', 'Central', 'Central', 'West', 'West', 'West', 'East', 'East', 'East', 'South', 'East', 'South', 'East', 'West', 'East', 'West', 'West', 'West', 'West', 'West', 'West', 'West', 'West', 'West', 'West', 'West', 'West', 'West', 'Central', 'East', 'Central', 'East', 'East', 'East', 'West', 'West', 'West', 'West', 'East', 'East', 'Central', 'Central', 'Central', 'Central', 'East', 'South', 'South', 'South', 'South', 'South', 'South', 'South', 'West', 'West', 'Central', 'South', 'South', 'South', 'South', 'West', 'West', 'West', 'West', 'West', 'West', 'West', 'East', 'East', 'West', 'West', 'West', 'East', 'East', 'Central', 'East', 'East', 'East', 'East', 'South', 'South', 'South', 'South', 'South', 'West', 'West', 'Central', 'Central', 'East', 'East', 'Central', 'South', 'South', 'South', 'South', 'East', 'Central', 'East', 'East', 'East', 'East', 'West', 'West', 'West', 'West', 'West', 'South', 'West', 'West', 'West', 'East', 'East', 'East', 'Central', 'West', 'West', 'West', 'West', 'West', 'West', 'East', 'Central', 'West', 'East', 'West', 'West', 'West', 'Central', 'Central', 'West', 'West', 'West', 'West', 'West', 'South', 'South', 'East', 'East', 'East', 'East', 'South', 'South', 'South', 'South', 'West', 'South', 'East', 'East', 'East', 'Central', 'Central', 'Central', 'West', 'West', 'South', 'East', 'West', 'West', 'West', 'West', 'West', 'Central', 'South', 'South', 'South', 'East', 'South', 'South', 'West', 'West', 'West', 'South', 'South', 'West', 'South', 'Central', 'East', 'East', 'East', 'East', 'East', 'West', 'East', 'East', 'East', 'East', 'East', 'West', 'West', 'West', 'East', 'West', 'West', 'West', 'Central', 'Central', 'Central', 'Central', 'Central', 'West', 'West', 'West', 'East', 'East', 'Central', 'West', 'West', 'Central', 'East', 'East', 'East', 'West', 'West', 'West', 'West', 'West', 'West', 'West', 'Central', 'Central', 'West', 'East', 'South', 'Central', 'Central', 'Central', 'West', 'West', 'East', 'South', 'South', 'Central', 'Central', 'Central', 'East', 'South', 'South', 'West', 'Central', 'Central', 'Central', 'Central', 'Central', 'West', 'West', 'Central', 'Central', 'Central', 'Central', 'West', 'West', 'East', 'South', 'South', 'East', 'Central', 'East', 'East', 'East', 'West', 'West', 'West', 'East', 'Central', 'Central', 'Central', 'Central', 'Central', 'Central', 'West', 'Central', 'Central', 'Central', 'East', 'East', 'South', 'South', 'South', 'South', 'East', 'East', 'East', 'Central', 'Central', 'West', 'East', 'East', 'East', 'East', 'East', 'South', 'South', 'South', 'South', 'East', 'East', 'East', 'East', 'East', 'East', 'East', 'West', 'South', 'East', 'East', 'West', 'West', 'Central', 'East', 'East', 'West', 'East', 'East', 'East', 'West', 'West', 'West', 'West', 'West', 'East', 'West', 'West', 'East', 'East', 'Central', 'Central', 'Central', 'Central', 'Central', 'West', 'West', 'West', 'Central', 'West', 'Central', 'Central', 'Central', 'Central', 'Central', 'Central', 'Central', 'Central', 'Central', 'West', 'Central', 'Central', 'West', 'East', 'West', 'West', 'West', 'East', 'East', 'South', 'South', 'South', 'East', 'Central', 'Central', 'Central', 'Central', 'West', 'South', 'South', 'South', 'South', 'West', 'West', 'Central', 'Central', 'Central', 'Central', 'West', 'West', 'East', 'East', 'East', 'East', 'East', 'East', 'East', 'East', 'West', 'West', 'West', 'West', 'Central', 'West', 'East', 'Central', 'Central', 'Central', 'Central', 'Central', 'West', 'East', 'East', 'East', 'West', 'West', 'West', 'West', 'West', 'South', 'West', 'Central', 'East', 'East', 'East', 'West', 'West', 'West', 'Central', 'South', 'West', 'West', 'West', 'Central', 'West', 'East', 'South', 'South', 'South', 'West', 'East', 'East', 'Central', 'West', 'West', 'East', 'Central', 'Central', 'Central', 'Central', 'Central', 'West', 'West', 'West', 'East', 'West', 'West', 'West', 'West', 'South', 'East', 'South', 'South', 'Central', 'South', 'Central', 'Central', 'Central', 'Central', 'West', 'West', 'West', 'West', 'West', 'West', 'Central', 'Central', 'Central', 'South', 'East', 'Central', 'Central', 'East', 'East', 'West', 'West', 'South', 'South', 'South', 'Central', 'Central', 'East', 'East', 'East', 'Central', 'Central', 'Central', 'South', 'South', 'West', 'West', 'South', 'South', 'South', 'South', 'South', 'South', 'South', 'South', 'Central', 'West', 'West', 'East', 'West', 'Central', 'East', 'East', 'East', 'East', 'East', 'East', 'East', 'West', 'West', 'East', 'East', 'East', 'East', 'Central', 'Central', 'East', 'West', 'West', 'West', 'Central', 'Central', 'Central', 'Central', 'Central', 'South', 'West', 'West', 'West', 'West', 'West', 'West', 'South', 'Central', 'Central', 'Central', 'West', 'Central', 'West', 'West', 'West', 'East', 'Central', 'Central', 'Central', 'Central', 'Central', 'West', 'West', 'East', 'East', 'West', 'West', 'Central', 'Central', 'Central', 'East', 'East', 'South', 'West', 'West', 'West', 'West', 'East', 'East', 'East', 'East', 'West', 'West', 'West', 'East', 'West', 'West', 'West', 'East', 'East', 'West', 'West', 'West', 'West', 'West', 'West', 'West', 'West', 'West', 'Central', 'Central', 'Central', 'Central', 'Central', 'Central', 'Central', 'East', 'East', 'West', 'South', 'East', 'West', 'West', 'West', 'West', 'South', 'East', 'East', 'East', 'West', 'West', 'West', 'South', 'South', 'South', 'East', 'South', 'West', 'East', 'East', 'East', 'Central', 'East', 'East', 'Central', 'Central', 'Central', 'Central', 'West', 'Central', 'East', 'East', 'West', 'West', 'West', 'West', 'South', 'West', 'West', 'West', 'West', 'West', 'Central', 'West', 'West', 'West', 'East', 'West', 'West', 'West', 'Central', 'Central', 'Central', 'Central', 'East', 'South', 'West', 'West', 'West', 'West', 'South', 'South', 'Central', 'South', 'South', 'South', 'South', 'Central', 'West', 'West', 'West', 'East', 'East', 'East', 'East', 'East', 'East', 'East', 'East', 'East', 'East', 'East', 'West', 'South', 'West', 'Central', 'Central', 'West', 'West', 'East', 'East', 'East', 'South', 'East', 'East', 'East', 'East', 'East', 'West', 'West', 'West', 'West', 'West', 'East', 'South', 'Central', 'Central', 'South', 'South', 'South', 'South', 'South', 'South', 'South', 'Central', 'Central', 'Central', 'Central', 'West', 'West', 'West', 'East', 'West', 'West', 'West', 'West', 'Central', 'Central', 'Central', 'Central', 'Central', 'South', 'South', 'South', 'West', 'West', 'West', 'South', 'South', 'South', 'Central', 'Central', 'Central', 'Central', 'Central', 'Central', 'Central', 'East', 'East', 'East', 'East', 'East', 'West', 'West', 'West', 'West', 'West', 'East', 'East', 'West', 'East', 'East', 'East', 'West', 'West', 'West', 'West', 'East', 'East', 'East', 'East', 'East', 'East', 'East', 'East', 'East', 'East', 'East', 'Central', 'Central', 'East', 'South', 'South', 'East', 'West', 'South', 'East', 'West', 'West', 'East', 'East', 'East', 'East', 'South', 'West', 'Central', 'Central', 'Central', 'Central', 'West', 'West', 'West', 'West', 'South', 'South', 'East', 'South', 'South', 'South', 'East', 'Central', 'West', 'West', 'Central', 'West', 'West', 'East', 'East', 'South', 'South', 'West', 'East', 'South', 'West', 'West', 'West', 'West', 'West', 'East', 'West', 'West', 'West', 'West', 'West', 'West', 'West', 'West', 'West', 'West', 'East', 'East', 'East', 'East', 'West', 'West', 'West', 'West', 'West', 'Central', 'Central', 'West', 'West', 'West', 'Central', 'Central', 'Central', 'Central', 'Central', 'South', 'South', 'South', 'West', 'South', 'South', 'South', 'Central', 'East', 'East', 'East', 'East', 'East', 'West', 'Central', 'Central', 'Central', 'West', 'East', 'East', 'East', 'East', 'East', 'East', 'East', 'East', 'East', 'East', 'East', 'East', 'Central', 'East', 'South', 'Central', 'Central', 'Central', 'Central', 'Central', 'West', 'West', 'West', 'West', 'Central', 'East', 'Central', 'Central', 'Central', 'Central', 'Central', 'Central', 'East', 'East', 'East', 'East', 'West', 'West', 'West', 'West', 'West', 'West', 'West', 'West', 'West', 'West', 'South', 'South', 'South', 'East', 'Central', 'West', 'West', 'South', 'South', 'Central', 'Central', 'South', 'South', 'West', 'West', 'West', 'West', 'East', 'West', 'West', 'Central', 'Central', 'East', 'East', 'West', 'West', 'Central', 'Central', 'West', 'West', 'East', 'West', 'West', 'West', 'West', 'West', 'West', 'West', 'West', 'West', 'West', 'West', 'South', 'South', 'West', 'West', 'West', 'West', 'West', 'East', 'East', 'East', 'East', 'Central', 'Central', 'Central', 'West', 'East', 'Central', 'Central', 'South', 'South', 'South', 'South', 'West', 'West', 'West', 'East', 'South', 'East', 'East', 'East', 'East', 'East', 'West', 'West', 'West', 'West', 'East', 'East', 'East', 'East', 'East', 'Central', 'Central', 'West', 'South', 'South', 'South', 'South', 'South', 'West', 'West', 'South', 'South', 'West', 'West', 'West', 'West', 'West', 'West', 'West', 'Central', 'Central', 'Central', 'Central', 'Central', 'South', 'Central', 'Central', 'Central', 'Central', 'West', 'South', 'East', 'South', 'South', 'South', 'East', 'East', 'East', 'East', 'East', 'West', 'West', 'Central', 'South', 'South', 'South', 'East', 'East', 'East', 'East', 'East', 'West', 'West', 'West', 'West', 'West', 'West', 'West', 'East', 'South', 'East', 'Central', 'Central', 'Central', 'South', 'West', 'West', 'West', 'Central', 'Central', 'West', 'West', 'East', 'West', 'West', 'West', 'West', 'West', 'West', 'West', 'West', 'West', 'West', 'South', 'East', 'East', 'East', 'East', 'East', 'East', 'East', 'East', 'East', 'East', 'East', 'South', 'West', 'South', 'South', 'South', 'East', 'East', 'East', 'East', 'East', 'East', 'West', 'West', 'West', 'Central', 'Central', 'West', 'West', 'West', 'West', 'West', 'West', 'West', 'Central', 'South', 'South', 'South', 'South', 'Central', 'East', 'East', 'East', 'West', 'West', 'West', 'West', 'West', 'West', 'West', 'West', 'West', 'West', 'West', 'East', 'West', 'West', 'West', 'West', 'East', 'East', 'South', 'Central', 'Central', 'West', 'Central', 'Central', 'Central', 'Central', 'East', 'East', 'South', 'South', 'South', 'South', 'South', 'South', 'West', 'West', 'West', 'East', 'East', 'East', 'East', 'East', 'West', 'West', 'West', 'West', 'West', 'South', 'West', 'East', 'East', 'South', 'West', 'West', 'West', 'West', 'West', 'West', 'West', 'West', 'West', 'West', 'West', 'East', 'South', 'South', 'Central', 'East', 'East', 'East', 'West', 'West', 'South', 'West', 'South', 'East', 'East', 'West', 'Central', 'Central', 'South', 'South', 'South', 'South', 'West', 'West', 'West', 'South', 'South', 'West', 'Central', 'South', 'South', 'Central', 'Central', 'Central', 'East', 'East', 'East', 'Central', 'Central', 'East', 'East', 'East', 'East', 'East', 'West', 'West', 'West', 'East', 'South', 'West', 'West', 'West', 'East', 'Central', 'Central', 'Central', 'West', 'West', 'East', 'East', 'East', 'East', 'Central', 'Central', 'Central', 'Central', 'Central', 'Central', 'Central', 'West', 'South', 'West', 'East', 'East', 'East', 'East', 'East', 'East', 'East', 'East', 'East', 'East', 'East', 'East', 'East', 'East', 'East', 'South', 'Central', 'Central', 'Central', 'Central', 'East', 'East', 'East', 'East', 'East', 'West', 'East', 'East', 'West', 'West', 'West', 'West', 'Central', 'Central', 'West', 'West', 'West', 'East', 'West', 'South', 'South', 'East', 'South', 'West', 'West', 'Central', 'Central', 'South', 'West', 'West', 'East', 'East', 'East', 'East', 'Central', 'West', 'West', 'West', 'West', 'West', 'South', 'West', 'West', 'East', 'East', 'East', 'East', 'Central', 'Central', 'West', 'South', 'South', 'South', 'South', 'South', 'South', 'South', 'Central', 'West', 'South', 'East', 'East', 'Central', 'Central', 'Central', 'South', 'South', 'South', 'South', 'South', 'South', 'South', 'South', 'South', 'West', 'East', 'East', 'East', 'East', 'Central', 'East', 'West', 'Central', 'Central', 'Central', 'East', 'East', 'Central', 'Central', 'Central', 'Central', 'Central', 'West', 'East', 'East', 'Central', 'Central', 'Central', 'East', 'West', 'West', 'West', 'West', 'West', 'West', 'East', 'East', 'South', 'Central', 'Central', 'Central', 'West', 'South', 'South', 'South', 'West', 'West', 'Central', 'East', 'East', 'Central', 'West', 'West', 'West', 'West', 'West', 'East', 'East', 'West', 'West', 'West', 'East', 'South', 'West', 'West', 'West', 'West', 'Central', 'Central', 'Central', 'Central', 'Central', 'South', 'South', 'South', 'Central', 'South', 'East', 'East', 'Central', 'West', 'East', 'Central', 'South', 'Central', 'South', 'South', 'East', 'East', 'West', 'West', 'West', 'Central', 'West', 'West', 'West', 'West', 'West', 'West', 'West', 'East', 'East', 'East', 'West', 'West', 'East', 'South', 'West', 'West', 'West', 'West', 'South', 'West', 'West', 'East', 'East', 'East', 'East', 'West', 'West', 'Central', 'Central', 'Central', 'Central', 'East', 'West', 'West', 'West', 'West', 'West', 'West', 'West', 'East', 'East', 'Central', 'Central', 'Central', 'Central', 'West', 'West', 'South', 'East', 'Central', 'East', 'West', 'West', 'Central', 'Central', 'Central', 'Central', 'Central', 'Central', 'Central', 'Central', 'East', 'East', 'West', 'West', 'East', 'East', 'East', 'East', 'East', 'East', 'East', 'East', 'East', 'West', 'West', 'West', 'Central', 'South', 'East', 'East', 'East', 'East', 'West', 'West', 'West', 'West', 'West', 'West', 'West', 'West', 'West', 'East', 'East', 'East', 'West', 'Central', 'East', 'East', 'East', 'East', 'South', 'South', 'East', 'West', 'East', 'East', 'West', 'East', 'East', 'Central', 'Central', 'Central', 'Central', 'Central', 'Central', 'South', 'South', 'East', 'East', 'East', 'East', 'East', 'East', 'Central', 'East', 'East', 'East', 'South', 'South', 'South', 'South', 'West', 'West', 'Central', 'Central', 'Central', 'Central', 'Central', 'South', 'South', 'South', 'West', 'East', 'East', 'Central', 'Central', 'Central', 'Central', 'West', 'West', 'East', 'East', 'East', 'East', 'East', 'South', 'South', 'South', 'South', 'Central', 'Central', 'West', 'West', 'West', 'Central', 'East', 'East', 'East', 'East', 'East', 'East', 'Central', 'Central', 'Central', 'Central', 'East', 'East', 'East', 'Central', 'Central', 'West', 'West', 'East', 'East', 'East', 'East', 'East', 'East', 'East', 'East', 'South', 'South', 'West', 'East', 'East', 'East', 'Central', 'Central', 'Central', 'South', 'East', 'South', 'South', 'South', 'South', 'South', 'South', 'South', 'South', 'East', 'East', 'East', 'South', 'South', 'South', 'East', 'East', 'South', 'South', 'South', 'Central', 'Central', 'Central', 'South', 'South', 'South', 'South', 'East', 'East', 'East', 'East', 'Central', 'East', 'East', 'East', 'East', 'East', 'West', 'West', 'West', 'West', 'West', 'West', 'West', 'West', 'West', 'Central', 'Central', 'Central', 'East', 'East', 'East', 'East', 'East', 'East', 'Central', 'Central', 'Central', 'Central', 'Central', 'East', 'East', 'South', 'South', 'East', 'East', 'West', 'West', 'West', 'West', 'East', 'East', 'East', 'Central', 'Central', 'Central', 'East', 'West', 'West', 'Central', 'Central', 'Central', 'Central', 'Central', 'East', 'West', 'West', 'Central', 'East', 'East', 'East', 'East', 'Central', 'Central', 'Central', 'Central', 'Central', 'Central', 'West', 'East', 'East', 'West', 'West', 'South', 'West', 'West', 'West', 'West', 'West', 'South', 'South', 'South', 'South', 'South', 'South', 'South', 'South', 'West', 'West', 'East', 'Central', 'East', 'East', 'South', 'South', 'East', 'East', 'East', 'East', 'West', 'West', 'West', 'West', 'West', 'West', 'East', 'West', 'South', 'South', 'South', 'South', 'West', 'West', 'West', 'Central', 'Central', 'Central', 'Central', 'West', 'West', 'Central', 'Central', 'East', 'West', 'East', 'South', 'West', 'West', 'Central', 'West', 'South', 'South', 'South', 'East', 'East', 'East', 'Central', 'Central', 'Central', 'West', 'West', 'West', 'West', 'West', 'Central', 'Central', 'Central', 'Central', 'Central', 'Central', 'West', 'West', 'West', 'West', 'West', 'West', 'East', 'East', 'East', 'South', 'South', 'Central', 'East', 'East', 'East', 'East', 'South', 'West', 'West', 'South', 'Central', 'Central', 'Central', 'Central', 'West', 'East', 'East', 'East', 'Central', 'West', 'Central', 'Central', 'Central', 'West', 'West', 'Central', 'Central', 'Central', 'South', 'East', 'Central', 'East', 'East', 'East', 'West', 'West', 'West', 'South', 'South', 'West', 'West', 'West', 'South', 'East', 'West', 'West', 'West', 'East', 'Central', 'Central', 'Central', 'Central', 'South', 'South', 'South', 'South', 'West', 'West', 'West', 'East', 'West', 'West', 'West', 'Central', 'South', 'South', 'South', 'South', 'West', 'West', 'South', 'West', 'West', 'West', 'West', 'Central', 'Central', 'Central', 'West', 'East', 'East', 'East', 'East', 'East', 'East', 'East', 'East', 'East', 'East', 'East', 'East', 'East', 'East', 'East', 'East', 'South', 'East', 'East', 'Central', 'Central', 'Central', 'Central', 'Central', 'Central', 'East', 'South', 'West', 'West', 'West', 'West', 'West', 'East', 'Central', 'East', 'East', 'East', 'East', 'East', 'East', 'East', 'East', 'East', 'East', 'South', 'South', 'South', 'West', 'West', 'East', 'Central', 'Central', 'Central', 'Central', 'Central', 'Central', 'West', 'West', 'West', 'West', 'West', 'West', 'South', 'West', 'Central', 'Central', 'East', 'East', 'East', 'East', 'East', 'East', 'West', 'West', 'West', 'Central', 'Central', 'Central', 'Central', 'West', 'South', 'South', 'Central', 'Central', 'Central', 'Central', 'Central', 'East', 'East', 'Central', 'West', 'West', 'West', 'West', 'East', 'West', 'West', 'East', 'South', 'South', 'South', 'South', 'West', 'West', 'West', 'Central', 'West', 'Central', 'Central', 'South', 'South', 'South', 'South', 'South', 'West', 'West', 'West', 'West', 'West', 'West', 'Central', 'West', 'West', 'West', 'West', 'West', 'West', 'West', 'Central', 'West', 'Central', 'Central', 'South', 'South', 'Central', 'Central', 'West', 'West', 'West', 'West', 'West', 'Central', 'East', 'East', 'West', 'West', 'South', 'South', 'South', 'South', 'South', 'South', 'South', 'South', 'East', 'Central', 'Central', 'East', 'West', 'Central', 'Central', 'Central', 'West', 'Central', 'West', 'South', 'East', 'West', 'West', 'West', 'South', 'Central', 'Central', 'Central', 'West', 'West', 'East', 'West', 'East', 'South', 'South', 'East', 'East', 'West', 'West', 'West', 'West', 'West', 'East', 'East', 'East', 'East', 'Central', 'Central', 'Central', 'West', 'East', 'East', 'East', 'East', 'West', 'East', 'East', 'West', 'Central', 'Central', 'East', 'East', 'Central', 'West', 'West', 'West', 'West', 'South', 'South', 'West', 'West', 'West', 'West', 'South', 'South', 'South', 'South', 'South', 'South', 'East', 'West', 'West', 'West', 'West', 'West', 'Central', 'West', 'West', 'South', 'South', 'West', 'East', 'East', 'Central', 'Central', 'Central', 'Central', 'Central', 'Central', 'South', 'Central', 'South', 'South', 'South', 'South', 'South', 'West', 'Central', 'Central', 'West', 'South', 'South', 'Central', 'West', 'West', 'Central', 'East', 'Central', 'East', 'East', 'East', 'East', 'East', 'East', 'West', 'South', 'South', 'South', 'South', 'East', 'West', 'West', 'West', 'West', 'West', 'West', 'East', 'East', 'East', 'Central', 'East', 'East', 'East', 'East', 'East', 'East', 'West', 'South', 'South', 'South', 'East', 'East', 'East', 'East', 'East', 'East', 'Central', 'West', 'West', 'South', 'West', 'West', 'West', 'West', 'West', 'West', 'West', 'West', 'West', 'West', 'West', 'West', 'West', 'West', 'West', 'East', 'West', 'West', 'Central', 'Central', 'West', 'Central', 'Central', 'Central', 'Central', 'Central', 'Central', 'West', 'South', 'South', 'South', 'South', 'South', 'South', 'West', 'West', 'East', 'East', 'West', 'West', 'West', 'South', 'South', 'South', 'South', 'Central', 'East', 'East', 'East', 'East', 'East', 'West', 'Central', 'East', 'West', 'East', 'East', 'East', 'East', 'East', 'East', 'East', 'East', 'East', 'East', 'West', 'West', 'West', 'West', 'East', 'West', 'South', 'West', 'West', 'East', 'East', 'South', 'South', 'East', 'East', 'South', 'South', 'Central', 'Central', 'Central', 'Central', 'Central', 'South', 'South', 'South', 'South', 'Central', 'Central', 'South', 'East', 'East', 'East', 'East', 'East', 'East', 'Central', 'South', 'West', 'South', 'Central', 'South', 'South', 'East', 'West', 'West', 'Central', 'Central', 'South', 'South', 'East', 'East', 'East', 'West', 'West', 'West', 'West', 'East', 'West', 'Central', 'Central', 'Central', 'Central', 'Central', 'East', 'East', 'East', 'South', 'East', 'West', 'East', 'Central', 'Central', 'Central', 'Central', 'Central', 'West', 'West', 'South', 'South', 'South', 'South', 'West', 'West', 'West', 'East', 'East', 'South', 'South', 'East', 'Central', 'East', 'West', 'West', 'West', 'West', 'West', 'West', 'West', 'West', 'West', 'Central', 'Central', 'West', 'West', 'West', 'West', 'East', 'East', 'Central', 'West', 'West', 'West', 'East', 'East', 'West', 'West', 'East', 'East', 'East', 'East', 'East', 'East', 'West', 'East', 'West', 'West', 'West', 'West', 'West', 'East', 'West', 'West', 'East', 'East', 'East', 'West', 'West', 'South', 'Central', 'Central', 'Central', 'Central', 'Central', 'Central', 'Central', 'Central', 'Central', 'West', 'East', 'East', 'South', 'Central', 'South', 'South', 'South', 'South', 'West', 'West', 'South', 'South', 'West', 'West', 'South', 'West', 'West', 'West', 'East', 'West', 'Central', 'East', 'East', 'West', 'Central', 'Central', 'Central', 'West', 'West', 'West', 'South', 'West', 'West', 'Central', 'Central', 'East', 'Central', 'Central', 'Central', 'Central', 'Central', 'South', 'South', 'Central', 'West', 'West', 'West', 'East', 'Central', 'South', 'South', 'South', 'Central', 'East', 'East', 'West', 'West', 'East', 'East', 'Central', 'Central', 'East', 'East', 'West', 'West', 'West', 'West', 'West', 'Central', 'East', 'East', 'South', 'South', 'East', 'East', 'West', 'East', 'East', 'South', 'South', 'South', 'East', 'South', 'South', 'South', 'South', 'Central', 'Central', 'Central', 'West', 'East', 'East', 'West', 'Central', 'West', 'West', 'East', 'East', 'West', 'West', 'West', 'East', 'East', 'East', 'East', 'East', 'South', 'South', 'Central', 'West', 'West', 'West', 'West', 'West', 'Central', 'West', 'South', 'Central', 'Central', 'Central', 'Central', 'Central', 'Central', 'Central', 'Central', 'Central', 'Central', 'South', 'South', 'East', 'West', 'West', 'West', 'East', 'East', 'East', 'Central', 'Central', 'West', 'West', 'East', 'West', 'West', 'West', 'West', 'Central', 'West', 'East', 'East', 'West', 'West', 'West', 'East', 'East', 'East', 'East', 'East', 'East', 'East', 'East', 'East', 'East', 'East', 'Central', 'Central', 'South', 'South', 'South', 'South', 'South', 'West', 'West', 'West', 'West', 'West', 'West', 'West', 'West', 'West', 'West', 'Central', 'Central', 'Central', 'Central', 'Central', 'Central', 'South', 'Central', 'Central', 'Central', 'Central', 'Central', 'Central', 'Central', 'South', 'South', 'South', 'South', 'West', 'West', 'West', 'West', 'West', 'West', 'West', 'West', 'East', 'East', 'East', 'East', 'West', 'Central', 'South', 'South', 'South', 'South', 'South', 'South', 'South', 'West', 'East', 'East', 'Central', 'Central', 'East', 'East', 'East', 'West', 'West', 'East', 'Central', 'Central', 'Central', 'West', 'West', 'West', 'West', 'West', 'West', 'West', 'West', 'West', 'East', 'Central', 'West', 'West', 'East', 'East', 'East', 'East', 'East', 'East', 'South', 'South', 'South', 'South', 'South', 'South', 'South', 'East', 'East', 'East', 'West', 'West', 'West', 'West', 'West', 'West', 'West', 'West', 'West', 'South', 'South', 'West', 'Central', 'West', 'West', 'West', 'West', 'West', 'West', 'West', 'West', 'Central', 'Central', 'Central', 'Central', 'Central', 'East', 'East', 'East', 'East', 'East', 'East', 'Central', 'Central', 'East', 'East', 'East', 'East', 'Central', 'West', 'West', 'West', 'Central', 'Central', 'West', 'West', 'West', 'South', 'South', 'South', 'West', 'West', 'West', 'West', 'Central', 'East', 'East', 'East', 'East', 'South', 'South', 'South', 'South', 'South', 'West', 'Central', 'East', 'East', 'East', 'East', 'Central', 'Central', 'West', 'West', 'West', 'West', 'West', 'West', 'West', 'East', 'Central', 'Central', 'Central', 'Central', 'West', 'West', 'West', 'Central', 'Central', 'Central', 'East', 'South', 'East', 'East', 'West', 'West', 'West', 'West', 'West', 'East', 'Central', 'Central', 'West', 'West', 'West', 'Central', 'Central', 'Central', 'South', 'South', 'South', 'South', 'South', 'East', 'East', 'East', 'East', 'West', 'West', 'West', 'West', 'West', 'South', 'West', 'West', 'East', 'East', 'Central', 'Central', 'South', 'West', 'West', 'West', 'West', 'East', 'Central', 'Central', 'Central', 'West', 'South', 'South', 'East', 'East', 'East', 'East', 'East', 'East', 'East', 'East', 'East', 'East', 'West', 'South', 'East', 'East', 'East', 'East', 'East', 'Central', 'Central', 'East', 'East', 'Central', 'Central', 'Central', 'South', 'South', 'South', 'West', 'West', 'West', 'Central', 'Central', 'East', 'East', 'East', 'East', 'East', 'Central', 'Central', 'Central', 'Central', 'Central', 'West', 'East', 'East', 'West', 'South', 'South', 'South', 'West', 'East', 'West', 'West', 'West', 'East', 'East', 'East', 'West', 'Central', 'East', 'East', 'East', 'East', 'Central', 'South', 'West', 'Central', 'Central', 'East', 'West', 'West', 'East', 'South', 'East', 'West', 'West', 'West', 'West', 'East', 'East', 'East', 'Central', 'East', 'South', 'South', 'South', 'South', 'South', 'South', 'East', 'South', 'South', 'East', 'East', 'Central', 'South', 'Central', 'West', 'South', 'East', 'East', 'East', 'West', 'South', 'West', 'West', 'East', 'East', 'East', 'West', 'West', 'West', 'West', 'West', 'South', 'South', 'Central', 'South', 'South', 'South', 'East', 'Central', 'Central', 'Central', 'Central', 'East', 'Central', 'Central', 'West', 'West', 'Central', 'East', 'East', 'East', 'East', 'East', 'West', 'South', 'South', 'South', 'South', 'South', 'South', 'South', 'South', 'East', 'East', 'East', 'East', 'West', 'West', 'West', 'West', 'West', 'West', 'East', 'South', 'East', 'East', 'West', 'East', 'Central', 'Central', 'West', 'West', 'West', 'West', 'Central', 'South', 'West', 'West', 'West', 'West', 'West', 'Central', 'Central', 'East', 'South', 'South', 'Central', 'South', 'South', 'Central', 'Central', 'Central', 'Central', 'Central', 'Central', 'West', 'South', 'South', 'East', 'East', 'East', 'East', 'East', 'West', 'West', 'West', 'West', 'West', 'West', 'West', 'West', 'South', 'East', 'West', 'West', 'West', 'West', 'West', 'West', 'South', 'Central', 'East', 'West', 'West', 'West', 'West', 'West', 'West', 'West', 'West', 'West', 'South', 'South', 'South', 'South', 'East', 'East', 'East', 'East', 'South', 'South', 'South', 'South', 'South', 'South', 'South', 'Central', 'Central', 'Central', 'West', 'West', 'West', 'West', 'West', 'Central', 'East', 'East', 'East', 'East', 'Central', 'West', 'East', 'East', 'East', 'South', 'South', 'South', 'South', 'East', 'East', 'East', 'Central', 'East', 'West', 'West', 'West', 'West', 'West', 'West', 'West', 'West', 'West', 'West', 'West', 'Central', 'Central', 'Central', 'Central', 'Central', 'Central', 'Central', 'Central', 'Central', 'East', 'East', 'East', 'East', 'West', 'West', 'West', 'West', 'West', 'West', 'South', 'South', 'South', 'South', 'South', 'West', 'West', 'West', 'West', 'East', 'East', 'East', 'East', 'East', 'East', 'East', 'South', 'South', 'West', 'Central', 'East', 'East', 'Central', 'Central', 'West', 'East', 'Central', 'Central', 'Central', 'Central', 'South', 'South', 'West', 'West', 'West', 'West', 'West', 'West', 'West', 'Central', 'West', 'West', 'East', 'East', 'East', 'West', 'Central', 'Central', 'Central', 'East', 'West', 'East', 'East', 'East', 'East', 'East', 'East', 'West', 'Central', 'Central', 'Central', 'Central', 'Central', 'Central', 'East', 'East', 'East', 'East', 'Central', 'Central', 'Central', 'Central', 'Central', 'Central', 'Central', 'East', 'South', 'West', 'West', 'West', 'West', 'East', 'East', 'West', 'East', 'East', 'South', 'East', 'East', 'East', 'East', 'East', 'East', 'West', 'West', 'West', 'West', 'West', 'West', 'East', 'East', 'East', 'East', 'East', 'East', 'East', 'West', 'West', 'Central', 'Central', 'Central', 'Central', 'Central', 'Central', 'Central', 'South', 'South', 'South', 'East', 'West', 'West', 'West', 'West', 'West', 'South', 'South', 'West', 'West', 'East', 'West', 'West', 'East', 'West', 'West', 'West', 'West', 'West', 'West', 'West', 'West', 'West', 'West', 'West', 'West', 'Central', 'Central', 'Central', 'East', 'Central', 'Central', 'Central', 'Central', 'Central', 'Central', 'West', 'Central', 'West', 'Central', 'West', 'West', 'West', 'East', 'East', 'West', 'Central', 'Central', 'Central', 'Central', 'West', 'West', 'West', 'West', 'Central', 'West', 'West', 'South', 'East', 'East', 'East', 'East', 'West', 'West', 'West', 'West', 'Central', 'Central', 'South', 'West', 'Central', 'Central', 'West', 'West', 'West', 'East', 'East', 'East', 'West', 'Central', 'East', 'East', 'East', 'East', 'West', 'West', 'West', 'West', 'West', 'West', 'West', 'West', 'South', 'West', 'West', 'West', 'Central', 'East', 'West', 'West', 'West', 'East', 'East', 'Central', 'Central', 'Central', 'Central', 'Central', 'East', 'East', 'East', 'East', 'East', 'South', 'South', 'South', 'West', 'South', 'South', 'South', 'Central', 'Central', 'East', 'East', 'East', 'East', 'East', 'South', 'South', 'South', 'South', 'South', 'Central', 'Central', 'South', 'South', 'South', 'South', 'Central', 'Central', 'Central', 'Central', 'Central', 'Central', 'West', 'West', 'East', 'East', 'East', 'East', 'East', 'South', 'South', 'West', 'West', 'South', 'South', 'South', 'South', 'South', 'South', 'South', 'East', 'East', 'West', 'West', 'South', 'Central', 'Central', 'East', 'Central', 'Central', 'Central', 'Central', 'West', 'West', 'West', 'West', 'West', 'West', 'Central', 'Central', 'Central', 'South', 'South', 'East', 'East', 'East', 'Central', 'Central', 'Central', 'Central', 'East', 'West', 'East', 'East', 'East', 'South', 'South', 'South', 'South', 'South', 'South', 'Central', 'Central', 'Central', 'Central', 'South', 'South', 'South', 'South', 'South', 'South', 'East', 'West', 'East', 'South', 'South', 'South', 'South', 'West', 'Central', 'West', 'West', 'West', 'West', 'Central', 'Central', 'Central', 'West', 'Central', 'Central', 'South', 'South', 'Central', 'Central', 'Central', 'Central', 'South', 'South', 'East', 'Central', 'Central', 'East', 'East', 'South', 'South', 'Central', 'Central', 'East', 'East', 'East', 'East', 'East', 'East', 'East', 'East', 'South', 'South', 'South', 'West', 'South', 'West', 'South', 'South', 'South', 'South', 'East', 'East', 'East', 'East', 'East', 'East', 'East', 'East', 'East', 'East', 'South', 'West', 'West', 'West', 'Central', 'Central', 'Central', 'Central', 'South', 'West', 'West', 'West', 'West', 'West', 'West', 'Central', 'West', 'West', 'West', 'West', 'South', 'Central', 'Central', 'Central', 'Central', 'West', 'Central', 'East', 'East', 'West', 'East', 'East', 'East', 'East', 'West', 'East', 'East', 'East', 'East', 'East', 'South', 'Central', 'East', 'West', 'East', 'East', 'East', 'West', 'East', 'East', 'East', 'East', 'East', 'West', 'South', 'South', 'Central', 'Central', 'Central', 'Central', 'West', 'West', 'West', 'West', 'West', 'East', 'East', 'East', 'East', 'East', 'West', 'Central', 'West', 'East', 'Central', 'East', 'Central', 'Central', 'Central', 'Central', 'West', 'East', 'West', 'Central', 'East', 'West', 'East', 'East', 'East', 'East', 'East', 'East', 'East', 'East', 'East', 'West', 'Central', 'Central', 'Central', 'West', 'Central', 'Central', 'Central', 'Central', 'East', 'East', 'Central', 'West', 'West', 'East', 'East', 'West', 'Central', 'South', 'South', 'South', 'South', 'South', 'East', 'East', 'West', 'East', 'West', 'West', 'Central', 'East', 'East', 'Central', 'West', 'West', 'West', 'West', 'South', 'South', 'South', 'West', 'Central', 'Central', 'Central', 'West', 'East', 'East', 'East', 'East', 'East', 'West', 'West', 'West', 'Central', 'Central', 'Central', 'Central', 'Central', 'Central', 'Central', 'East', 'Central', 'South', 'South', 'South', 'East', 'Central', 'East', 'East', 'East', 'East', 'Central', 'West', 'East', 'East', 'East', 'East', 'East', 'West', 'Central', 'Central', 'Central', 'Central', 'South', 'West', 'East', 'East', 'East', 'West', 'West', 'East', 'East', 'East', 'South', 'South', 'South', 'West', 'West', 'West', 'Central', 'Central', 'Central', 'South', 'South', 'South', 'South', 'Central', 'Central', 'Central', 'Central', 'Central', 'Central', 'South', 'South', 'Central', 'Central', 'East', 'East', 'East', 'East', 'Central', 'Central', 'East', 'West', 'South', 'East', 'Central', 'Central', 'South', 'Central', 'Central', 'Central', 'Central', 'West', 'East', 'West', 'West', 'East', 'East', 'East', 'West', 'West', 'South', 'South', 'South', 'South', 'West', 'West', 'West', 'West', 'West', 'West', 'Central', 'Central', 'Central', 'East', 'East', 'East', 'East', 'East', 'West', 'West', 'West', 'West', 'West', 'West', 'West', 'West', 'East', 'Central', 'South', 'West', 'South', 'South', 'West', 'East', 'East', 'East', 'East', 'East', 'East', 'East', 'East', 'East', 'South', 'South', 'West', 'Central', 'South', 'Central', 'West', 'South', 'South', 'South', 'South', 'West', 'South', 'South', 'South', 'West', 'West', 'West', 'West', 'West', 'West', 'West', 'West', 'Central', 'East', 'South', 'Central', 'Central', 'Central', 'West', 'West', 'East', 'West', 'West', 'West', 'East', 'East', 'Central', 'Central', 'Central', 'Central', 'Central', 'Central', 'Central', 'Central', 'South', 'South', 'South', 'West', 'West', 'East', 'West', 'West', 'West', 'East', 'East', 'East', 'East', 'West', 'Central', 'West', 'South', 'South', 'South', 'South', 'South', 'South', 'South', 'East', 'Central', 'West', 'East', 'East', 'West', 'West', 'West', 'West', 'West', 'West', 'West', 'East', 'Central', 'Central', 'Central', 'Central', 'Central', 'Central', 'Central', 'South', 'South', 'West', 'South', 'South', 'South', 'South', 'South', 'Central', 'West', 'West', 'West', 'East', 'Central', 'South', 'East', 'East', 'South', 'Central', 'West', 'West', 'East', 'East', 'West', 'West', 'West', 'East', 'East', 'South', 'South', 'East', 'East', 'East', 'East', 'East', 'East', 'East', 'South', 'South', 'West', 'West', 'Central', 'Central', 'Central', 'Central', 'East', 'West', 'West', 'South', 'South', 'East', 'East', 'Central', 'Central', 'Central', 'East', 'West', 'Central', 'Central', 'West', 'West', 'South', 'West', 'West', 'West', 'South', 'South', 'South', 'Central', 'West', 'West', 'West', 'West', 'West', 'West', 'East', 'East', 'Central', 'Central', 'Central', 'East', 'East', 'West', 'East', 'East', 'East', 'East', 'West', 'Central', 'Central', 'West', 'East', 'East', 'East', 'East', 'East', 'Central', 'South', 'South', 'South', 'South', 'East', 'East', 'Central', 'Central', 'Central', 'Central', 'West', 'South', 'East', 'South', 'South', 'South', 'South', 'South', 'West', 'West', 'West', 'West', 'West', 'Central', 'East', 'East', 'East', 'East', 'South', 'South', 'South', 'South', 'East', 'East', 'East', 'West', 'West', 'West', 'West', 'South', 'East', 'East', 'East', 'East', 'East', 'South', 'Central', 'Central', 'West', 'West', 'West', 'West', 'East', 'East', 'Central', 'Central', 'Central', 'East', 'East', 'West', 'West', 'Central', 'South', 'South', 'East', 'East', 'East', 'West', 'West', 'Central', 'Central', 'South', 'West', 'Central', 'West', 'West', 'West', 'West', 'South', 'South', 'Central', 'Central', 'Central', 'Central', 'East', 'East', 'East', 'West', 'West', 'East', 'South', 'South', 'South', 'South', 'Central', 'Central', 'Central', 'Central', 'Central', 'South', 'East', 'South', 'South', 'South', 'Central', 'Central', 'Central', 'West', 'Central', 'Central', 'Central', 'Central', 'Central', 'Central', 'East', 'East', 'West', 'West', 'West', 'West', 'South', 'West', 'West', 'Central', 'West', 'West', 'East', 'East', 'West', 'South', 'South', 'South', 'South', 'South', 'South', 'West', 'South', 'South', 'Central', 'Central', 'Central', 'Central', 'South', 'South', 'South', 'Central', 'East', 'East', 'South', 'East', 'East', 'East', 'East', 'West', 'Central', 'Central', 'Central', 'Central', 'East', 'Central', 'Central', 'Central', 'Central', 'Central', 'Central', 'South', 'South', 'South', 'South', 'Central', 'Central', 'West', 'South', 'South', 'South', 'South', 'Central', 'Central', 'Central', 'East', 'West', 'South', 'South', 'West', 'West', 'Central', 'Central', 'Central', 'Central', 'East', 'South', 'Central', 'East', 'West', 'West', 'West', 'West', 'West', 'West', 'South', 'South', 'East', 'West', 'East', 'East', 'East', 'East', 'East', 'East', 'East', 'West', 'West', 'Central', 'South', 'Central', 'Central', 'East', 'East', 'Central', 'Central', 'West', 'South', 'West', 'West', 'West', 'West', 'West', 'West', 'West', 'East', 'West', 'West', 'West', 'West', 'West', 'West', 'East', 'West', 'West', 'West', 'West', 'West', 'East', 'Central', 'Central', 'Central', 'South', 'East', 'West', 'West', 'East', 'Central', 'Central', 'Central', 'South', 'East', 'East', 'Central', 'South', 'South', 'West', 'West', 'South', 'South', 'South', 'West', 'Central', 'Central', 'South', 'East', 'South', 'East', 'East', 'Central', 'Central', 'Central', 'Central', 'Central', 'Central', 'Central', 'Central', 'Central', 'Central', 'Central', 'Central', 'Central', 'Central', 'Central', 'Central', 'Central', 'South', 'South', 'South', 'South', 'West', 'East', 'East', 'East', 'East', 'West', 'West', 'West', 'West', 'East', 'Central', 'Central', 'West', 'Central', 'West', 'East', 'East', 'East', 'East', 'West', 'South', 'South', 'South', 'South', 'South', 'Central', 'West', 'East', 'West', 'West', 'West', 'Central', 'East', 'East', 'East', 'Central', 'Central', 'West', 'West', 'West', 'East', 'West', 'East', 'East', 'East', 'South', 'South', 'Central', 'Central', 'Central', 'Central', 'West', 'West', 'West', 'South', 'South', 'West', 'West', 'West', 'West', 'West', 'West', 'South', 'East', 'East', 'West', 'West', 'West', 'West', 'West', 'West', 'West', 'West', 'East', 'East', 'East', 'East', 'East', 'Central', 'Central', 'West', 'West', 'West', 'West', 'West', 'West', 'East', 'East', 'East', 'East', 'West', 'East', 'East', 'Central', 'West', 'Central', 'Central', 'West', 'West', 'West', 'East', 'West', 'Central', 'Central', 'East', 'East', 'South', 'South', 'South', 'Central', 'Central', 'Central', 'Central', 'West', 'West', 'West', 'West', 'West', 'West', 'West', 'West', 'West', 'West', 'West', 'East', 'South', 'South', 'South', 'West', 'West', 'West', 'West', 'West', 'West', 'East', 'East', 'Central', 'West', 'South', 'South', 'Central', 'Central', 'Central', 'Central', 'Central', 'Central', 'Central', 'West', 'Central', 'Central', 'South', 'South', 'West', 'East', 'East', 'East', 'East', 'East', 'East', 'South', 'West', 'South', 'South', 'East', 'East', 'East', 'West', 'South', 'South', 'West', 'Central', 'South', 'Central', 'Central', 'East', 'West', 'East', 'East', 'Central', 'East', 'East', 'East', 'Central', 'Central', 'Central', 'Central', 'Central', 'Central', 'Central', 'Central', 'Central', 'West', 'West', 'West', 'West', 'West', 'East', 'Central', 'Central', 'Central', 'Central', 'East', 'East', 'Central', 'East', 'East', 'East', 'Central', 'Central', 'West', 'West', 'West', 'West', 'West', 'West', 'West', 'East', 'West', 'South', 'South', 'South', 'South', 'West', 'West', 'West', 'West', 'West', 'West', 'West', 'East', 'East', 'East', 'East', 'East', 'West', 'West', 'West', 'West', 'Central', 'Central', 'Central', 'Central', 'Central', 'East', 'East', 'East', 'East', 'West', 'West', 'West', 'West', 'Central', 'East', 'East', 'East', 'East', 'East', 'East', 'East', 'West', 'West', 'West', 'East', 'Central', 'Central', 'South', 'South', 'South', 'South', 'South', 'East', 'West', 'East', 'East', 'East', 'East', 'Central', 'Central', 'West', 'East', 'East', 'East', 'East', 'East', 'East', 'Central', 'South', 'West', 'East', 'East', 'East', 'Central', 'Central', 'East', 'East', 'East', 'East', 'West', 'West', 'Central', 'West', 'West', 'West', 'South', 'South', 'Central', 'Central', 'West', 'West', 'West', 'West', 'East', 'West', 'East', 'Central', 'Central', 'Central', 'East', 'West', 'West', 'West', 'West', 'East', 'West', 'East', 'Central', 'East', 'East', 'South', 'South', 'Central', 'Central', 'Central', 'Central', 'West', 'West', 'West', 'West', 'West', 'West', 'West', 'South', 'South', 'South', 'West', 'West', 'East', 'West', 'South', 'East', 'East', 'West', 'East', 'East', 'East', 'East', 'East', 'East', 'East', 'East', 'Central', 'Central', 'Central', 'Central', 'Central', 'Central', 'Central', 'Central', 'East', 'West', 'Central', 'Central', 'East', 'East', 'West', 'South', 'West', 'West', 'Central', 'Central', 'Central', 'West', 'West', 'Central', 'Central', 'Central', 'Central', 'West', 'East', 'East', 'East', 'East', 'Central', 'Central', 'Central', 'Central', 'East', 'Central', 'Central', 'Central', 'South', 'Central', 'East', 'East', 'East', 'West', 'West', 'Central', 'Central', 'Central', 'West', 'West', 'West', 'West', 'West', 'Central', 'West', 'Central', 'East', 'East', 'East', 'East', 'Central', 'West', 'East', 'East', 'West', 'Central', 'Central', 'Central', 'Central', 'Central', 'Central', 'East', 'East', 'East', 'West', 'East', 'South', 'West', 'East', 'East', 'East', 'Central', 'East', 'East', 'East', 'East', 'East', 'East', 'West', 'South', 'South', 'South', 'Central', 'East', 'East', 'East', 'East', 'East', 'West', 'Central', 'Central', 'Central', 'East', 'East', 'East', 'East', 'East', 'East', 'Central', 'South', 'West', 'Central', 'Central', 'Central', 'Central', 'Central', 'Central', 'East', 'East', 'West', 'West', 'West', 'West', 'West', 'Central', 'South', 'South', 'East', 'South', 'East', 'East', 'East', 'East', 'West', 'West', 'South', 'West', 'West', 'West', 'West', 'West', 'East', 'East', 'East', 'East', 'East', 'East', 'Central', 'Central', 'Central', 'Central', 'Central', 'East', 'East', 'East', 'East', 'Central', 'East', 'East', 'East', 'West', 'West', 'West', 'South', 'West', 'West', 'West', 'West', 'West', 'West', 'West', 'Central', 'Central', 'West', 'West', 'West', 'West', 'West', 'West', 'East', 'East', 'East', 'East', 'West', 'West', 'West', 'West', 'West', 'West', 'West', 'West', 'West', 'West', 'South', 'South', 'West', 'East', 'East', 'Central', 'West', 'Central', 'East', 'East', 'West', 'West', 'West', 'West', 'West', 'West', 'West', 'West', 'Central', 'South', 'South', 'East', 'Central', 'East', 'West', 'West', 'East', 'Central', 'East', 'West', 'West', 'West', 'West', 'East', 'East', 'East', 'West', 'West', 'West', 'West', 'West', 'East', 'East', 'East', 'East', 'East', 'West', 'East', 'Central', 'Central', 'East', 'Central', 'East', 'East', 'East', 'Central', 'West', 'East', 'East', 'East', 'West', 'West', 'West', 'South', 'South', 'South', 'East', 'Central', 'West', 'West', 'West', 'West', 'East', 'West', 'East', 'Central', 'West', 'West', 'Central', 'Central', 'East', 'Central', 'Central', 'West', 'South', 'South', 'South', 'South', 'South', 'South', 'West', 'South', 'West', 'West', 'West', 'West', 'East', 'East', 'Central', 'West', 'South', 'South', 'South', 'East', 'South', 'Central', 'Central', 'Central', 'Central', 'Central', 'Central', 'East', 'East', 'East', 'East', 'East', 'South', 'South', 'Central', 'Central', 'Central', 'Central', 'Central', 'Central', 'Central', 'Central', 'Central', 'East', 'East', 'East', 'East', 'East', 'West', 'East', 'East', 'East', 'South', 'South', 'South', 'Central', 'West', 'West', 'East', 'East', 'East', 'East', 'South', 'South', 'South', 'South', 'South', 'South', 'South', 'West', 'West', 'West', 'West', 'West', 'East', 'East', 'South', 'Central', 'Central', 'Central', 'East', 'Central', 'Central', 'West', 'West', 'West', 'West', 'West', 'West', 'West', 'Central', 'Central', 'Central', 'West', 'West', 'West', 'West', 'East', 'East', 'East', 'East', 'West', 'West', 'South', 'West', 'Central', 'Central', 'Central', 'Central', 'Central', 'Central', 'Central', 'Central', 'East', 'East', 'East', 'East', 'East', 'Central', 'Central', 'East', 'East', 'East', 'East', 'East', 'East', 'East', 'East', 'South', 'South', 'West', 'West', 'West', 'Central', 'East', 'East', 'East', 'Central', 'Central', 'Central', 'Central', 'Central', 'Central', 'Central', 'East', 'East', 'East', 'West', 'West', 'West', 'Central', 'Central', 'West', 'West', 'West', 'West', 'West', 'West', 'South', 'West', 'West', 'Central', 'Central', 'Central', 'Central', 'East', 'Central', 'Central', 'East', 'Central', 'East', 'East', 'East', 'East', 'East', 'West', 'West', 'West', 'West', 'West', 'East', 'East', 'East', 'East', 'West', 'East', 'East', 'East', 'West', 'West', 'West', 'West', 'East', 'East', 'Central', 'Central', 'Central', 'Central', 'Central', 'West', 'West', 'West', 'West', 'East', 'East', 'East', 'West', 'South', 'Central', 'Central', 'East', 'East', 'East', 'East', 'East', 'East', 'East', 'South', 'South', 'Central', 'West', 'West', 'West', 'West', 'West', 'West', 'West', 'South', 'East', 'Central', 'Central', 'East', 'East', 'West', 'South', 'South', 'South', 'West', 'West', 'West', 'West']\n"
     ]
    }
   ],
   "metadata": {}
  },
  {
   "cell_type": "markdown",
   "source": [
    "# count of Region with greater cells"
   ],
   "metadata": {}
  },
  {
   "cell_type": "code",
   "execution_count": 14,
   "source": [
    "s_count=l.count(\"South\")\n",
    "w_count=l.count(\"West\")\n",
    "max_count_of_region={\"South\":0,\"West\":0,\"East\":0,\"Central\":0}\n",
    "for i in l:\n",
    "    max_count_of_region[i]+=1\n",
    "print(max_count_of_region)"
   ],
   "outputs": [
    {
     "output_type": "stream",
     "name": "stdout",
     "text": [
      "{'South': 1620, 'West': 3203, 'East': 2848, 'Central': 2323}\n"
     ]
    }
   ],
   "metadata": {}
  },
  {
   "cell_type": "markdown",
   "source": [
    "# State Names with respect to Regions "
   ],
   "metadata": {}
  },
  {
   "cell_type": "code",
   "execution_count": 15,
   "source": [
    "state_mapping={\"South\":[],\"West\":[],\"East\":[],\"Central\":[]}"
   ],
   "outputs": [],
   "metadata": {}
  },
  {
   "cell_type": "code",
   "execution_count": 16,
   "source": [
    "for i in range(len(state_list)):\n",
    "    state_mapping[l[i]].append(state_list[i])"
   ],
   "outputs": [
    {
     "output_type": "error",
     "ename": "NameError",
     "evalue": "name 'state_list' is not defined",
     "traceback": [
      "\u001b[1;31m---------------------------------------------------------------------------\u001b[0m",
      "\u001b[1;31mNameError\u001b[0m                                 Traceback (most recent call last)",
      "\u001b[1;32m~\\AppData\\Local\\Temp/ipykernel_9696/1503470082.py\u001b[0m in \u001b[0;36m<module>\u001b[1;34m\u001b[0m\n\u001b[1;32m----> 1\u001b[1;33m \u001b[1;32mfor\u001b[0m \u001b[0mi\u001b[0m \u001b[1;32min\u001b[0m \u001b[0mrange\u001b[0m\u001b[1;33m(\u001b[0m\u001b[0mlen\u001b[0m\u001b[1;33m(\u001b[0m\u001b[0mstate_list\u001b[0m\u001b[1;33m)\u001b[0m\u001b[1;33m)\u001b[0m\u001b[1;33m:\u001b[0m\u001b[1;33m\u001b[0m\u001b[1;33m\u001b[0m\u001b[0m\n\u001b[0m\u001b[0;32m      2\u001b[0m     \u001b[0mstate_mapping\u001b[0m\u001b[1;33m[\u001b[0m\u001b[0ml\u001b[0m\u001b[1;33m[\u001b[0m\u001b[0mi\u001b[0m\u001b[1;33m]\u001b[0m\u001b[1;33m]\u001b[0m\u001b[1;33m.\u001b[0m\u001b[0mappend\u001b[0m\u001b[1;33m(\u001b[0m\u001b[0mstate_list\u001b[0m\u001b[1;33m[\u001b[0m\u001b[0mi\u001b[0m\u001b[1;33m]\u001b[0m\u001b[1;33m)\u001b[0m\u001b[1;33m\u001b[0m\u001b[1;33m\u001b[0m\u001b[0m\n",
      "\u001b[1;31mNameError\u001b[0m: name 'state_list' is not defined"
     ]
    }
   ],
   "metadata": {}
  },
  {
   "cell_type": "code",
   "execution_count": null,
   "source": [
    "print(\"South:\")\n",
    "print(set(state_mapping[\"South\"]))\n",
    "print(\"West\")\n",
    "print(set(state_mapping[\"West\"]))\n",
    "print(\"East\")\n",
    "print(set(state_mapping[\"East\"]))\n",
    "print(\"Central\")\n",
    "print(set(state_mapping[\"Central\"]))"
   ],
   "outputs": [
    {
     "output_type": "stream",
     "name": "stdout",
     "text": [
      "South:\n",
      "{'Georgia', 'Alabama', 'Mississippi', 'North Carolina', 'Tennessee', 'Florida', 'Kentucky', 'Louisiana', 'Virginia', 'Arkansas', 'South Carolina'}\n",
      "West\n",
      "{'California', 'Oregon', 'Colorado', 'Montana', 'Washington', 'New Mexico', 'Arizona', 'Idaho', 'Nevada', 'Wyoming', 'Utah'}\n",
      "East\n",
      "{'Delaware', 'Vermont', 'Maine', 'West Virginia', 'Ohio', 'New Jersey', 'New York', 'Rhode Island', 'District of Columbia', 'Pennsylvania', 'Massachusetts', 'New Hampshire', 'Maryland', 'Connecticut'}\n",
      "Central\n",
      "{'Indiana', 'South Dakota', 'Minnesota', 'Illinois', 'Oklahoma', 'Iowa', 'Kansas', 'North Dakota', 'Missouri', 'Nebraska', 'Wisconsin', 'Michigan', 'Texas'}\n"
     ]
    }
   ],
   "metadata": {}
  },
  {
   "cell_type": "markdown",
   "source": [
    "# Max count  of west with states count"
   ],
   "metadata": {}
  },
  {
   "cell_type": "code",
   "execution_count": null,
   "source": [
    "West_count_States_mapping = {}\n",
    "print()\n",
    "for i in set(state_mapping[\"West\"]):\n",
    "    West_count_States_mapping[i]=0\n",
    "for i in state_mapping[\"West\"]:\n",
    "    West_count_States_mapping[i]+=1\n",
    "print(\"Maximum orders placed Region is West:\",max_count_of_region[\"West\"])\n",
    "print()\n",
    "print(West_count_States_mapping )   "
   ],
   "outputs": [
    {
     "output_type": "stream",
     "name": "stdout",
     "text": [
      "Maximum orders placed Region is West: 3203\n",
      "\n",
      "{'California': 2001, 'Oregon': 124, 'Colorado': 182, 'Montana': 15, 'Washington': 506, 'New Mexico': 37, 'Arizona': 224, 'Idaho': 21, 'Nevada': 39, 'Wyoming': 1, 'Utah': 53}\n"
     ]
    }
   ],
   "metadata": {}
  },
  {
   "cell_type": "markdown",
   "source": [
    "# End of first query"
   ],
   "metadata": {}
  },
  {
   "cell_type": "markdown",
   "source": [
    "# Start of secong query\n",
    "\n",
    "# Frequency distribution of quantity ordered."
   ],
   "metadata": {}
  },
  {
   "cell_type": "code",
   "execution_count": null,
   "source": [],
   "outputs": [],
   "metadata": {}
  }
 ],
 "metadata": {
  "kernelspec": {
   "display_name": "Python 3",
   "language": "python",
   "name": "python3"
  },
  "language_info": {
   "codemirror_mode": {
    "name": "ipython",
    "version": 3
   },
   "file_extension": ".py",
   "mimetype": "text/x-python",
   "name": "python",
   "nbconvert_exporter": "python",
   "pygments_lexer": "ipython3",
   "version": "3.9.6"
  }
 },
 "nbformat": 4,
 "nbformat_minor": 5
}