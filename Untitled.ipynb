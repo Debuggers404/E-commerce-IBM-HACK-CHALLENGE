{
 "cells": [
  {
   "cell_type": "code",
   "execution_count": 43,
   "source": [
    "import pandas as p\r\n",
    "import matplotlib.pyplot as mtl\r\n",
    "import seaborn as sns"
   ],
   "outputs": [],
   "metadata": {}
  },
  {
   "cell_type": "code",
   "execution_count": 44,
   "source": [
    "data=p.read_excel(\"USSuperstoredata.xls\")"
   ],
   "outputs": [],
   "metadata": {}
  },
  {
   "cell_type": "code",
   "execution_count": 45,
   "source": [
    "type(data)"
   ],
   "outputs": [
    {
     "output_type": "execute_result",
     "data": {
      "text/plain": [
       "pandas.core.frame.DataFrame"
      ]
     },
     "metadata": {},
     "execution_count": 45
    }
   ],
   "metadata": {}
  },
  {
   "cell_type": "code",
   "execution_count": 46,
   "source": [
    "data.shape"
   ],
   "outputs": [
    {
     "output_type": "execute_result",
     "data": {
      "text/plain": [
       "(9994, 21)"
      ]
     },
     "metadata": {},
     "execution_count": 46
    }
   ],
   "metadata": {}
  },
  {
   "cell_type": "code",
   "execution_count": 47,
   "source": [
    "data.head(5)"
   ],
   "outputs": [
    {
     "output_type": "execute_result",
     "data": {
      "text/plain": [
       "   Row ID        Order ID Order Date  Ship Date       Ship Mode Customer ID  \\\n",
       "0       1  CA-2016-152156 2016-11-08 2016-11-11    Second Class    CG-12520   \n",
       "1       2  CA-2016-152156 2016-11-08 2016-11-11    Second Class    CG-12520   \n",
       "2       3  CA-2016-138688 2016-06-12 2016-06-16    Second Class    DV-13045   \n",
       "3       4  US-2015-108966 2015-10-11 2015-10-18  Standard Class    SO-20335   \n",
       "4       5  US-2015-108966 2015-10-11 2015-10-18  Standard Class    SO-20335   \n",
       "\n",
       "     Customer Name    Segment        Country             City  ...  \\\n",
       "0      Claire Gute   Consumer  United States        Henderson  ...   \n",
       "1      Claire Gute   Consumer  United States        Henderson  ...   \n",
       "2  Darrin Van Huff  Corporate  United States      Los Angeles  ...   \n",
       "3   Sean O'Donnell   Consumer  United States  Fort Lauderdale  ...   \n",
       "4   Sean O'Donnell   Consumer  United States  Fort Lauderdale  ...   \n",
       "\n",
       "  Postal Code  Region       Product ID         Category Sub-Category  \\\n",
       "0       42420   South  FUR-BO-10001798        Furniture    Bookcases   \n",
       "1       42420   South  FUR-CH-10000454        Furniture       Chairs   \n",
       "2       90036    West  OFF-LA-10000240  Office Supplies       Labels   \n",
       "3       33311   South  FUR-TA-10000577        Furniture       Tables   \n",
       "4       33311   South  OFF-ST-10000760  Office Supplies      Storage   \n",
       "\n",
       "                                        Product Name     Sales  Quantity  \\\n",
       "0                  Bush Somerset Collection Bookcase  261.9600         2   \n",
       "1  Hon Deluxe Fabric Upholstered Stacking Chairs,...  731.9400         3   \n",
       "2  Self-Adhesive Address Labels for Typewriters b...   14.6200         2   \n",
       "3      Bretford CR4500 Series Slim Rectangular Table  957.5775         5   \n",
       "4                     Eldon Fold 'N Roll Cart System   22.3680         2   \n",
       "\n",
       "   Discount    Profit  \n",
       "0      0.00   41.9136  \n",
       "1      0.00  219.5820  \n",
       "2      0.00    6.8714  \n",
       "3      0.45 -383.0310  \n",
       "4      0.20    2.5164  \n",
       "\n",
       "[5 rows x 21 columns]"
      ],
      "text/html": [
       "<div>\n",
       "<style scoped>\n",
       "    .dataframe tbody tr th:only-of-type {\n",
       "        vertical-align: middle;\n",
       "    }\n",
       "\n",
       "    .dataframe tbody tr th {\n",
       "        vertical-align: top;\n",
       "    }\n",
       "\n",
       "    .dataframe thead th {\n",
       "        text-align: right;\n",
       "    }\n",
       "</style>\n",
       "<table border=\"1\" class=\"dataframe\">\n",
       "  <thead>\n",
       "    <tr style=\"text-align: right;\">\n",
       "      <th></th>\n",
       "      <th>Row ID</th>\n",
       "      <th>Order ID</th>\n",
       "      <th>Order Date</th>\n",
       "      <th>Ship Date</th>\n",
       "      <th>Ship Mode</th>\n",
       "      <th>Customer ID</th>\n",
       "      <th>Customer Name</th>\n",
       "      <th>Segment</th>\n",
       "      <th>Country</th>\n",
       "      <th>City</th>\n",
       "      <th>...</th>\n",
       "      <th>Postal Code</th>\n",
       "      <th>Region</th>\n",
       "      <th>Product ID</th>\n",
       "      <th>Category</th>\n",
       "      <th>Sub-Category</th>\n",
       "      <th>Product Name</th>\n",
       "      <th>Sales</th>\n",
       "      <th>Quantity</th>\n",
       "      <th>Discount</th>\n",
       "      <th>Profit</th>\n",
       "    </tr>\n",
       "  </thead>\n",
       "  <tbody>\n",
       "    <tr>\n",
       "      <th>0</th>\n",
       "      <td>1</td>\n",
       "      <td>CA-2016-152156</td>\n",
       "      <td>2016-11-08</td>\n",
       "      <td>2016-11-11</td>\n",
       "      <td>Second Class</td>\n",
       "      <td>CG-12520</td>\n",
       "      <td>Claire Gute</td>\n",
       "      <td>Consumer</td>\n",
       "      <td>United States</td>\n",
       "      <td>Henderson</td>\n",
       "      <td>...</td>\n",
       "      <td>42420</td>\n",
       "      <td>South</td>\n",
       "      <td>FUR-BO-10001798</td>\n",
       "      <td>Furniture</td>\n",
       "      <td>Bookcases</td>\n",
       "      <td>Bush Somerset Collection Bookcase</td>\n",
       "      <td>261.9600</td>\n",
       "      <td>2</td>\n",
       "      <td>0.00</td>\n",
       "      <td>41.9136</td>\n",
       "    </tr>\n",
       "    <tr>\n",
       "      <th>1</th>\n",
       "      <td>2</td>\n",
       "      <td>CA-2016-152156</td>\n",
       "      <td>2016-11-08</td>\n",
       "      <td>2016-11-11</td>\n",
       "      <td>Second Class</td>\n",
       "      <td>CG-12520</td>\n",
       "      <td>Claire Gute</td>\n",
       "      <td>Consumer</td>\n",
       "      <td>United States</td>\n",
       "      <td>Henderson</td>\n",
       "      <td>...</td>\n",
       "      <td>42420</td>\n",
       "      <td>South</td>\n",
       "      <td>FUR-CH-10000454</td>\n",
       "      <td>Furniture</td>\n",
       "      <td>Chairs</td>\n",
       "      <td>Hon Deluxe Fabric Upholstered Stacking Chairs,...</td>\n",
       "      <td>731.9400</td>\n",
       "      <td>3</td>\n",
       "      <td>0.00</td>\n",
       "      <td>219.5820</td>\n",
       "    </tr>\n",
       "    <tr>\n",
       "      <th>2</th>\n",
       "      <td>3</td>\n",
       "      <td>CA-2016-138688</td>\n",
       "      <td>2016-06-12</td>\n",
       "      <td>2016-06-16</td>\n",
       "      <td>Second Class</td>\n",
       "      <td>DV-13045</td>\n",
       "      <td>Darrin Van Huff</td>\n",
       "      <td>Corporate</td>\n",
       "      <td>United States</td>\n",
       "      <td>Los Angeles</td>\n",
       "      <td>...</td>\n",
       "      <td>90036</td>\n",
       "      <td>West</td>\n",
       "      <td>OFF-LA-10000240</td>\n",
       "      <td>Office Supplies</td>\n",
       "      <td>Labels</td>\n",
       "      <td>Self-Adhesive Address Labels for Typewriters b...</td>\n",
       "      <td>14.6200</td>\n",
       "      <td>2</td>\n",
       "      <td>0.00</td>\n",
       "      <td>6.8714</td>\n",
       "    </tr>\n",
       "    <tr>\n",
       "      <th>3</th>\n",
       "      <td>4</td>\n",
       "      <td>US-2015-108966</td>\n",
       "      <td>2015-10-11</td>\n",
       "      <td>2015-10-18</td>\n",
       "      <td>Standard Class</td>\n",
       "      <td>SO-20335</td>\n",
       "      <td>Sean O'Donnell</td>\n",
       "      <td>Consumer</td>\n",
       "      <td>United States</td>\n",
       "      <td>Fort Lauderdale</td>\n",
       "      <td>...</td>\n",
       "      <td>33311</td>\n",
       "      <td>South</td>\n",
       "      <td>FUR-TA-10000577</td>\n",
       "      <td>Furniture</td>\n",
       "      <td>Tables</td>\n",
       "      <td>Bretford CR4500 Series Slim Rectangular Table</td>\n",
       "      <td>957.5775</td>\n",
       "      <td>5</td>\n",
       "      <td>0.45</td>\n",
       "      <td>-383.0310</td>\n",
       "    </tr>\n",
       "    <tr>\n",
       "      <th>4</th>\n",
       "      <td>5</td>\n",
       "      <td>US-2015-108966</td>\n",
       "      <td>2015-10-11</td>\n",
       "      <td>2015-10-18</td>\n",
       "      <td>Standard Class</td>\n",
       "      <td>SO-20335</td>\n",
       "      <td>Sean O'Donnell</td>\n",
       "      <td>Consumer</td>\n",
       "      <td>United States</td>\n",
       "      <td>Fort Lauderdale</td>\n",
       "      <td>...</td>\n",
       "      <td>33311</td>\n",
       "      <td>South</td>\n",
       "      <td>OFF-ST-10000760</td>\n",
       "      <td>Office Supplies</td>\n",
       "      <td>Storage</td>\n",
       "      <td>Eldon Fold 'N Roll Cart System</td>\n",
       "      <td>22.3680</td>\n",
       "      <td>2</td>\n",
       "      <td>0.20</td>\n",
       "      <td>2.5164</td>\n",
       "    </tr>\n",
       "  </tbody>\n",
       "</table>\n",
       "<p>5 rows × 21 columns</p>\n",
       "</div>"
      ]
     },
     "metadata": {},
     "execution_count": 47
    }
   ],
   "metadata": {}
  },
  {
   "cell_type": "code",
   "execution_count": 48,
   "source": [
    "data.sample(5)"
   ],
   "outputs": [
    {
     "output_type": "execute_result",
     "data": {
      "text/plain": [
       "      Row ID        Order ID Order Date  Ship Date       Ship Mode  \\\n",
       "7980    7981  CA-2014-103800 2014-01-03 2014-01-07  Standard Class   \n",
       "9274    9275  US-2014-134054 2014-10-10 2014-10-10        Same Day   \n",
       "5267    5268  CA-2017-147452 2017-09-30 2017-10-03     First Class   \n",
       "282      283  CA-2015-130890 2015-11-02 2015-11-06  Standard Class   \n",
       "443      444  CA-2016-115756 2016-09-05 2016-09-07    Second Class   \n",
       "\n",
       "     Customer ID  Customer Name    Segment        Country         City  ...  \\\n",
       "7980    DP-13000  Darren Powers   Consumer  United States      Houston  ...   \n",
       "9274    FC-14335     Fred Chung  Corporate  United States  Albuquerque  ...   \n",
       "5267    CS-11845     Cari Sayre  Corporate  United States      Seattle  ...   \n",
       "282     JO-15280  Jas O'Carroll   Consumer  United States  Los Angeles  ...   \n",
       "443     PK-19075      Pete Kriz   Consumer  United States      Detroit  ...   \n",
       "\n",
       "     Postal Code   Region       Product ID         Category Sub-Category  \\\n",
       "7980       77095  Central  OFF-PA-10000174  Office Supplies        Paper   \n",
       "9274       87105     West  OFF-AR-10000937  Office Supplies          Art   \n",
       "5267       98103     West  OFF-AP-10001626  Office Supplies   Appliances   \n",
       "282        90004     West  FUR-TA-10002903        Furniture       Tables   \n",
       "443        48227  Central  OFF-PA-10002222  Office Supplies        Paper   \n",
       "\n",
       "                                           Product Name     Sales  Quantity  \\\n",
       "7980  Message Book, Wirebound, Four 5 1/2\" X 4\" Form...    16.448         2   \n",
       "9274  Dixon Ticonderoga Core-Lock Colored Pencils, 4...   255.850         7   \n",
       "5267  Commercial WindTunnel Clean Air Upright Vacuum...     3.890         1   \n",
       "282             Bevis Round Bullnose 29\" High Table Top  1038.840         5   \n",
       "443           Xerox Color Copier Paper, 11\" x 17\", Ream    91.360         4   \n",
       "\n",
       "      Discount    Profit  \n",
       "7980       0.2    5.5512  \n",
       "9274       0.0  112.5740  \n",
       "5267       0.0    1.0114  \n",
       "282        0.2   51.9420  \n",
       "443        0.0   42.0256  \n",
       "\n",
       "[5 rows x 21 columns]"
      ],
      "text/html": [
       "<div>\n",
       "<style scoped>\n",
       "    .dataframe tbody tr th:only-of-type {\n",
       "        vertical-align: middle;\n",
       "    }\n",
       "\n",
       "    .dataframe tbody tr th {\n",
       "        vertical-align: top;\n",
       "    }\n",
       "\n",
       "    .dataframe thead th {\n",
       "        text-align: right;\n",
       "    }\n",
       "</style>\n",
       "<table border=\"1\" class=\"dataframe\">\n",
       "  <thead>\n",
       "    <tr style=\"text-align: right;\">\n",
       "      <th></th>\n",
       "      <th>Row ID</th>\n",
       "      <th>Order ID</th>\n",
       "      <th>Order Date</th>\n",
       "      <th>Ship Date</th>\n",
       "      <th>Ship Mode</th>\n",
       "      <th>Customer ID</th>\n",
       "      <th>Customer Name</th>\n",
       "      <th>Segment</th>\n",
       "      <th>Country</th>\n",
       "      <th>City</th>\n",
       "      <th>...</th>\n",
       "      <th>Postal Code</th>\n",
       "      <th>Region</th>\n",
       "      <th>Product ID</th>\n",
       "      <th>Category</th>\n",
       "      <th>Sub-Category</th>\n",
       "      <th>Product Name</th>\n",
       "      <th>Sales</th>\n",
       "      <th>Quantity</th>\n",
       "      <th>Discount</th>\n",
       "      <th>Profit</th>\n",
       "    </tr>\n",
       "  </thead>\n",
       "  <tbody>\n",
       "    <tr>\n",
       "      <th>7980</th>\n",
       "      <td>7981</td>\n",
       "      <td>CA-2014-103800</td>\n",
       "      <td>2014-01-03</td>\n",
       "      <td>2014-01-07</td>\n",
       "      <td>Standard Class</td>\n",
       "      <td>DP-13000</td>\n",
       "      <td>Darren Powers</td>\n",
       "      <td>Consumer</td>\n",
       "      <td>United States</td>\n",
       "      <td>Houston</td>\n",
       "      <td>...</td>\n",
       "      <td>77095</td>\n",
       "      <td>Central</td>\n",
       "      <td>OFF-PA-10000174</td>\n",
       "      <td>Office Supplies</td>\n",
       "      <td>Paper</td>\n",
       "      <td>Message Book, Wirebound, Four 5 1/2\" X 4\" Form...</td>\n",
       "      <td>16.448</td>\n",
       "      <td>2</td>\n",
       "      <td>0.2</td>\n",
       "      <td>5.5512</td>\n",
       "    </tr>\n",
       "    <tr>\n",
       "      <th>9274</th>\n",
       "      <td>9275</td>\n",
       "      <td>US-2014-134054</td>\n",
       "      <td>2014-10-10</td>\n",
       "      <td>2014-10-10</td>\n",
       "      <td>Same Day</td>\n",
       "      <td>FC-14335</td>\n",
       "      <td>Fred Chung</td>\n",
       "      <td>Corporate</td>\n",
       "      <td>United States</td>\n",
       "      <td>Albuquerque</td>\n",
       "      <td>...</td>\n",
       "      <td>87105</td>\n",
       "      <td>West</td>\n",
       "      <td>OFF-AR-10000937</td>\n",
       "      <td>Office Supplies</td>\n",
       "      <td>Art</td>\n",
       "      <td>Dixon Ticonderoga Core-Lock Colored Pencils, 4...</td>\n",
       "      <td>255.850</td>\n",
       "      <td>7</td>\n",
       "      <td>0.0</td>\n",
       "      <td>112.5740</td>\n",
       "    </tr>\n",
       "    <tr>\n",
       "      <th>5267</th>\n",
       "      <td>5268</td>\n",
       "      <td>CA-2017-147452</td>\n",
       "      <td>2017-09-30</td>\n",
       "      <td>2017-10-03</td>\n",
       "      <td>First Class</td>\n",
       "      <td>CS-11845</td>\n",
       "      <td>Cari Sayre</td>\n",
       "      <td>Corporate</td>\n",
       "      <td>United States</td>\n",
       "      <td>Seattle</td>\n",
       "      <td>...</td>\n",
       "      <td>98103</td>\n",
       "      <td>West</td>\n",
       "      <td>OFF-AP-10001626</td>\n",
       "      <td>Office Supplies</td>\n",
       "      <td>Appliances</td>\n",
       "      <td>Commercial WindTunnel Clean Air Upright Vacuum...</td>\n",
       "      <td>3.890</td>\n",
       "      <td>1</td>\n",
       "      <td>0.0</td>\n",
       "      <td>1.0114</td>\n",
       "    </tr>\n",
       "    <tr>\n",
       "      <th>282</th>\n",
       "      <td>283</td>\n",
       "      <td>CA-2015-130890</td>\n",
       "      <td>2015-11-02</td>\n",
       "      <td>2015-11-06</td>\n",
       "      <td>Standard Class</td>\n",
       "      <td>JO-15280</td>\n",
       "      <td>Jas O'Carroll</td>\n",
       "      <td>Consumer</td>\n",
       "      <td>United States</td>\n",
       "      <td>Los Angeles</td>\n",
       "      <td>...</td>\n",
       "      <td>90004</td>\n",
       "      <td>West</td>\n",
       "      <td>FUR-TA-10002903</td>\n",
       "      <td>Furniture</td>\n",
       "      <td>Tables</td>\n",
       "      <td>Bevis Round Bullnose 29\" High Table Top</td>\n",
       "      <td>1038.840</td>\n",
       "      <td>5</td>\n",
       "      <td>0.2</td>\n",
       "      <td>51.9420</td>\n",
       "    </tr>\n",
       "    <tr>\n",
       "      <th>443</th>\n",
       "      <td>444</td>\n",
       "      <td>CA-2016-115756</td>\n",
       "      <td>2016-09-05</td>\n",
       "      <td>2016-09-07</td>\n",
       "      <td>Second Class</td>\n",
       "      <td>PK-19075</td>\n",
       "      <td>Pete Kriz</td>\n",
       "      <td>Consumer</td>\n",
       "      <td>United States</td>\n",
       "      <td>Detroit</td>\n",
       "      <td>...</td>\n",
       "      <td>48227</td>\n",
       "      <td>Central</td>\n",
       "      <td>OFF-PA-10002222</td>\n",
       "      <td>Office Supplies</td>\n",
       "      <td>Paper</td>\n",
       "      <td>Xerox Color Copier Paper, 11\" x 17\", Ream</td>\n",
       "      <td>91.360</td>\n",
       "      <td>4</td>\n",
       "      <td>0.0</td>\n",
       "      <td>42.0256</td>\n",
       "    </tr>\n",
       "  </tbody>\n",
       "</table>\n",
       "<p>5 rows × 21 columns</p>\n",
       "</div>"
      ]
     },
     "metadata": {},
     "execution_count": 48
    }
   ],
   "metadata": {}
  },
  {
   "cell_type": "code",
   "execution_count": 49,
   "source": [
    "data.describe()"
   ],
   "outputs": [
    {
     "output_type": "execute_result",
     "data": {
      "text/plain": [
       "            Row ID   Postal Code         Sales     Quantity     Discount  \\\n",
       "count  9994.000000   9994.000000   9994.000000  9994.000000  9994.000000   \n",
       "mean   4997.500000  55190.379428    229.858001     3.789574     0.156203   \n",
       "std    2885.163629  32063.693350    623.245101     2.225110     0.206452   \n",
       "min       1.000000   1040.000000      0.444000     1.000000     0.000000   \n",
       "25%    2499.250000  23223.000000     17.280000     2.000000     0.000000   \n",
       "50%    4997.500000  56430.500000     54.490000     3.000000     0.200000   \n",
       "75%    7495.750000  90008.000000    209.940000     5.000000     0.200000   \n",
       "max    9994.000000  99301.000000  22638.480000    14.000000     0.800000   \n",
       "\n",
       "            Profit  \n",
       "count  9994.000000  \n",
       "mean     28.656896  \n",
       "std     234.260108  \n",
       "min   -6599.978000  \n",
       "25%       1.728750  \n",
       "50%       8.666500  \n",
       "75%      29.364000  \n",
       "max    8399.976000  "
      ],
      "text/html": [
       "<div>\n",
       "<style scoped>\n",
       "    .dataframe tbody tr th:only-of-type {\n",
       "        vertical-align: middle;\n",
       "    }\n",
       "\n",
       "    .dataframe tbody tr th {\n",
       "        vertical-align: top;\n",
       "    }\n",
       "\n",
       "    .dataframe thead th {\n",
       "        text-align: right;\n",
       "    }\n",
       "</style>\n",
       "<table border=\"1\" class=\"dataframe\">\n",
       "  <thead>\n",
       "    <tr style=\"text-align: right;\">\n",
       "      <th></th>\n",
       "      <th>Row ID</th>\n",
       "      <th>Postal Code</th>\n",
       "      <th>Sales</th>\n",
       "      <th>Quantity</th>\n",
       "      <th>Discount</th>\n",
       "      <th>Profit</th>\n",
       "    </tr>\n",
       "  </thead>\n",
       "  <tbody>\n",
       "    <tr>\n",
       "      <th>count</th>\n",
       "      <td>9994.000000</td>\n",
       "      <td>9994.000000</td>\n",
       "      <td>9994.000000</td>\n",
       "      <td>9994.000000</td>\n",
       "      <td>9994.000000</td>\n",
       "      <td>9994.000000</td>\n",
       "    </tr>\n",
       "    <tr>\n",
       "      <th>mean</th>\n",
       "      <td>4997.500000</td>\n",
       "      <td>55190.379428</td>\n",
       "      <td>229.858001</td>\n",
       "      <td>3.789574</td>\n",
       "      <td>0.156203</td>\n",
       "      <td>28.656896</td>\n",
       "    </tr>\n",
       "    <tr>\n",
       "      <th>std</th>\n",
       "      <td>2885.163629</td>\n",
       "      <td>32063.693350</td>\n",
       "      <td>623.245101</td>\n",
       "      <td>2.225110</td>\n",
       "      <td>0.206452</td>\n",
       "      <td>234.260108</td>\n",
       "    </tr>\n",
       "    <tr>\n",
       "      <th>min</th>\n",
       "      <td>1.000000</td>\n",
       "      <td>1040.000000</td>\n",
       "      <td>0.444000</td>\n",
       "      <td>1.000000</td>\n",
       "      <td>0.000000</td>\n",
       "      <td>-6599.978000</td>\n",
       "    </tr>\n",
       "    <tr>\n",
       "      <th>25%</th>\n",
       "      <td>2499.250000</td>\n",
       "      <td>23223.000000</td>\n",
       "      <td>17.280000</td>\n",
       "      <td>2.000000</td>\n",
       "      <td>0.000000</td>\n",
       "      <td>1.728750</td>\n",
       "    </tr>\n",
       "    <tr>\n",
       "      <th>50%</th>\n",
       "      <td>4997.500000</td>\n",
       "      <td>56430.500000</td>\n",
       "      <td>54.490000</td>\n",
       "      <td>3.000000</td>\n",
       "      <td>0.200000</td>\n",
       "      <td>8.666500</td>\n",
       "    </tr>\n",
       "    <tr>\n",
       "      <th>75%</th>\n",
       "      <td>7495.750000</td>\n",
       "      <td>90008.000000</td>\n",
       "      <td>209.940000</td>\n",
       "      <td>5.000000</td>\n",
       "      <td>0.200000</td>\n",
       "      <td>29.364000</td>\n",
       "    </tr>\n",
       "    <tr>\n",
       "      <th>max</th>\n",
       "      <td>9994.000000</td>\n",
       "      <td>99301.000000</td>\n",
       "      <td>22638.480000</td>\n",
       "      <td>14.000000</td>\n",
       "      <td>0.800000</td>\n",
       "      <td>8399.976000</td>\n",
       "    </tr>\n",
       "  </tbody>\n",
       "</table>\n",
       "</div>"
      ]
     },
     "metadata": {},
     "execution_count": 49
    }
   ],
   "metadata": {}
  },
  {
   "cell_type": "code",
   "execution_count": 50,
   "source": [
    "data.info()"
   ],
   "outputs": [
    {
     "output_type": "stream",
     "name": "stdout",
     "text": [
      "<class 'pandas.core.frame.DataFrame'>\n",
      "RangeIndex: 9994 entries, 0 to 9993\n",
      "Data columns (total 21 columns):\n",
      " #   Column         Non-Null Count  Dtype         \n",
      "---  ------         --------------  -----         \n",
      " 0   Row ID         9994 non-null   int64         \n",
      " 1   Order ID       9994 non-null   object        \n",
      " 2   Order Date     9994 non-null   datetime64[ns]\n",
      " 3   Ship Date      9994 non-null   datetime64[ns]\n",
      " 4   Ship Mode      9994 non-null   object        \n",
      " 5   Customer ID    9994 non-null   object        \n",
      " 6   Customer Name  9994 non-null   object        \n",
      " 7   Segment        9994 non-null   object        \n",
      " 8   Country        9994 non-null   object        \n",
      " 9   City           9994 non-null   object        \n",
      " 10  State          9994 non-null   object        \n",
      " 11  Postal Code    9994 non-null   int64         \n",
      " 12  Region         9994 non-null   object        \n",
      " 13  Product ID     9994 non-null   object        \n",
      " 14  Category       9994 non-null   object        \n",
      " 15  Sub-Category   9994 non-null   object        \n",
      " 16  Product Name   9994 non-null   object        \n",
      " 17  Sales          9994 non-null   float64       \n",
      " 18  Quantity       9994 non-null   int64         \n",
      " 19  Discount       9994 non-null   float64       \n",
      " 20  Profit         9994 non-null   float64       \n",
      "dtypes: datetime64[ns](2), float64(3), int64(3), object(13)\n",
      "memory usage: 1.6+ MB\n"
     ]
    }
   ],
   "metadata": {}
  },
  {
   "cell_type": "code",
   "execution_count": 51,
   "source": [
    "data[\"Region\"]"
   ],
   "outputs": [
    {
     "output_type": "execute_result",
     "data": {
      "text/plain": [
       "0       South\n",
       "1       South\n",
       "2        West\n",
       "3       South\n",
       "4       South\n",
       "        ...  \n",
       "9989    South\n",
       "9990     West\n",
       "9991     West\n",
       "9992     West\n",
       "9993     West\n",
       "Name: Region, Length: 9994, dtype: object"
      ]
     },
     "metadata": {},
     "execution_count": 51
    }
   ],
   "metadata": {}
  },
  {
   "cell_type": "code",
   "execution_count": 52,
   "source": [
    "data.Region.unique()"
   ],
   "outputs": [
    {
     "output_type": "execute_result",
     "data": {
      "text/plain": [
       "array(['South', 'West', 'Central', 'East'], dtype=object)"
      ]
     },
     "metadata": {},
     "execution_count": 52
    }
   ],
   "metadata": {}
  },
  {
   "cell_type": "code",
   "execution_count": 53,
   "source": [
    "l=list(data[\"Region\"])"
   ],
   "outputs": [],
   "metadata": {}
  },
  {
   "cell_type": "code",
   "execution_count": 54,
   "source": [
    "print(l)"
   ],
   "outputs": [
    {
     "output_type": "stream",
     "name": "stdout",
     "text": [
      "['South', 'South', 'West', 'South', 'South', 'West', 'West', 'West', 'West', 'West', 'West', 'West', 'South', 'West', 'Central', 'Central', 'Central', 'West', 'West', 'West', 'West', 'Central', 'Central', 'East', 'West', 'West', 'West', 'East', 'East', 'East', 'East', 'East', 'East', 'East', 'Central', 'Central', 'Central', 'Central', 'Central', 'Central', 'Central', 'Central', 'West', 'South', 'Central', 'Central', 'Central', 'East', 'East', 'Central', 'Central', 'Central', 'Central', 'East', 'East', 'East', 'East', 'East', 'East', 'East', 'East', 'East', 'West', 'West', 'West', 'West', 'Central', 'West', 'West', 'South', 'East', 'Central', 'South', 'South', 'South', 'Central', 'Central', 'Central', 'Central', 'South', 'South', 'West', 'West', 'South', 'Central', 'South', 'Central', 'Central', 'Central', 'West', 'West', 'West', 'Central', 'Central', 'Central', 'West', 'East', 'West', 'Central', 'Central', 'Central', 'Central', 'Central', 'West', 'West', 'West', 'South', 'South', 'South', 'Central', 'East', 'Central', 'Central', 'East', 'East', 'East', 'East', 'West', 'South', 'East', 'East', 'East', 'East', 'East', 'Central', 'Central', 'West', 'West', 'West', 'West', 'East', 'East', 'East', 'West', 'West', 'West', 'West', 'West', 'West', 'West', 'East', 'West', 'West', 'West', 'Central', 'West', 'East', 'Central', 'Central', 'Central', 'Central', 'West', 'West', 'West', 'West', 'West', 'West', 'West', 'Central', 'Central', 'West', 'East', 'West', 'West', 'Central', 'Central', 'Central', 'Central', 'Central', 'Central', 'Central', 'West', 'West', 'West', 'Central', 'Central', 'Central', 'East', 'East', 'East', 'Central', 'Central', 'South', 'South', 'South', 'East', 'West', 'Central', 'Central', 'East', 'East', 'East', 'East', 'East', 'West', 'East', 'East', 'East', 'East', 'East', 'East', 'West', 'West', 'Central', 'South', 'West', 'Central', 'Central', 'Central', 'Central', 'Central', 'Central', 'East', 'East', 'East', 'East', 'East', 'West', 'West', 'East', 'East', 'East', 'East', 'East', 'East', 'Central', 'Central', 'Central', 'South', 'South', 'South', 'South', 'South', 'South', 'South', 'South', 'West', 'Central', 'Central', 'Central', 'Central', 'Central', 'Central', 'Central', 'Central', 'Central', 'Central', 'Central', 'Central', 'West', 'West', 'West', 'East', 'East', 'Central', 'Central', 'Central', 'Central', 'East', 'East', 'East', 'Central', 'Central', 'Central', 'Central', 'West', 'South', 'East', 'East', 'East', 'West', 'West', 'West', 'West', 'West', 'West', 'East', 'East', 'East', 'East', 'Central', 'Central', 'West', 'West', 'West', 'West', 'South', 'South', 'South', 'East', 'East', 'East', 'East', 'West', 'West', 'West', 'West', 'West', 'East', 'East', 'East', 'East', 'East', 'Central', 'East', 'Central', 'East', 'East', 'South', 'West', 'West', 'West', 'West', 'East', 'South', 'South', 'East', 'East', 'East', 'East', 'East', 'East', 'West', 'West', 'West', 'South', 'East', 'East', 'East', 'East', 'East', 'East', 'East', 'East', 'West', 'West', 'West', 'West', 'West', 'West', 'East', 'East', 'East', 'East', 'Central', 'West', 'East', 'East', 'East', 'East', 'East', 'East', 'East', 'East', 'East', 'East', 'East', 'East', 'South', 'South', 'South', 'East', 'East', 'East', 'East', 'West', 'East', 'East', 'East', 'East', 'Central', 'Central', 'West', 'West', 'West', 'West', 'Central', 'East', 'Central', 'Central', 'Central', 'West', 'West', 'Central', 'South', 'South', 'East', 'East', 'East', 'East', 'East', 'West', 'West', 'Central', 'West', 'East', 'East', 'Central', 'Central', 'Central', 'Central', 'Central', 'South', 'South', 'East', 'West', 'West', 'West', 'West', 'West', 'West', 'West', 'West', 'West', 'West', 'West', 'West', 'West', 'South', 'West', 'West', 'West', 'East', 'East', 'South', 'Central', 'Central', 'East', 'Central', 'South', 'South', 'South', 'South', 'East', 'South', 'South', 'Central', 'Central', 'Central', 'East', 'Central', 'Central', 'Central', 'Central', 'Central', 'Central', 'Central', 'East', 'East', 'East', 'East', 'East', 'East', 'East', 'East', 'Central', 'West', 'Central', 'Central', 'West', 'West', 'West', 'West', 'West', 'West', 'West', 'West', 'Central', 'Central', 'Central', 'East', 'West', 'West', 'West', 'West', 'West', 'West', 'West', 'East', 'East', 'East', 'West', 'East', 'East', 'West', 'West', 'West', 'Central', 'Central', 'Central', 'Central', 'East', 'East', 'West', 'South', 'South', 'West', 'West', 'West', 'West', 'West', 'West', 'West', 'West', 'West', 'East', 'South', 'South', 'South', 'South', 'Central', 'Central', 'East', 'West', 'West', 'West', 'West', 'West', 'West', 'Central', 'Central', 'Central', 'Central', 'West', 'West', 'East', 'South', 'South', 'East', 'East', 'East', 'West', 'West', 'South', 'South', 'West', 'Central', 'East', 'South', 'South', 'Central', 'West', 'East', 'Central', 'Central', 'Central', 'East', 'East', 'Central', 'Central', 'Central', 'West', 'South', 'Central', 'West', 'South', 'West', 'West', 'West', 'West', 'West', 'South', 'South', 'West', 'West', 'West', 'West', 'West', 'West', 'West', 'East', 'East', 'East', 'East', 'West', 'West', 'West', 'West', 'Central', 'Central', 'West', 'West', 'West', 'West', 'West', 'West', 'South', 'South', 'West', 'West', 'West', 'West', 'Central', 'Central', 'West', 'West', 'West', 'West', 'East', 'East', 'East', 'East', 'South', 'South', 'South', 'South', 'South', 'East', 'East', 'East', 'Central', 'Central', 'East', 'East', 'East', 'East', 'East', 'East', 'East', 'East', 'East', 'Central', 'Central', 'Central', 'Central', 'Central', 'East', 'West', 'West', 'West', 'West', 'West', 'West', 'South', 'South', 'South', 'West', 'West', 'West', 'West', 'Central', 'West', 'West', 'Central', 'East', 'Central', 'West', 'West', 'West', 'West', 'West', 'East', 'East', 'East', 'East', 'East', 'East', 'Central', 'Central', 'Central', 'Central', 'Central', 'Central', 'East', 'South', 'Central', 'Central', 'Central', 'East', 'Central', 'Central', 'Central', 'Central', 'Central', 'Central', 'Central', 'Central', 'Central', 'Central', 'Central', 'East', 'East', 'East', 'South', 'South', 'South', 'South', 'South', 'East', 'South', 'South', 'South', 'West', 'West', 'East', 'East', 'East', 'East', 'East', 'East', 'East', 'East', 'West', 'West', 'South', 'South', 'South', 'East', 'East', 'East', 'East', 'South', 'East', 'East', 'East', 'West', 'East', 'East', 'West', 'West', 'West', 'Central', 'Central', 'East', 'South', 'Central', 'Central', 'East', 'East', 'East', 'East', 'East', 'West', 'West', 'West', 'West', 'West', 'West', 'West', 'Central', 'Central', 'Central', 'Central', 'Central', 'Central', 'Central', 'West', 'West', 'Central', 'Central', 'Central', 'Central', 'Central', 'West', 'West', 'South', 'Central', 'Central', 'East', 'Central', 'West', 'South', 'East', 'South', 'South', 'South', 'South', 'South', 'South', 'South', 'Central', 'Central', 'Central', 'Central', 'Central', 'Central', 'East', 'West', 'West', 'West', 'West', 'East', 'East', 'East', 'East', 'South', 'West', 'West', 'South', 'South', 'South', 'South', 'South', 'West', 'West', 'Central', 'East', 'East', 'East', 'West', 'West', 'West', 'East', 'South', 'West', 'West', 'West', 'Central', 'Central', 'West', 'West', 'West', 'West', 'West', 'West', 'Central', 'East', 'East', 'East', 'East', 'East', 'East', 'East', 'East', 'West', 'West', 'Central', 'Central', 'Central', 'South', 'South', 'South', 'South', 'South', 'South', 'South', 'Central', 'South', 'Central', 'East', 'East', 'East', 'West', 'West', 'West', 'West', 'South', 'South', 'East', 'East', 'West', 'West', 'South', 'East', 'East', 'East', 'East', 'East', 'East', 'East', 'West', 'West', 'South', 'South', 'South', 'South', 'South', 'East', 'East', 'East', 'East', 'East', 'East', 'East', 'South', 'East', 'East', 'East', 'East', 'East', 'East', 'South', 'West', 'Central', 'East', 'West', 'West', 'East', 'West', 'East', 'East', 'Central', 'Central', 'Central', 'West', 'West', 'Central', 'Central', 'East', 'East', 'Central', 'Central', 'Central', 'West', 'West', 'West', 'East', 'East', 'East', 'Central', 'Central', 'Central', 'East', 'Central', 'Central', 'Central', 'Central', 'Central', 'Central', 'Central', 'South', 'East', 'East', 'East', 'East', 'East', 'East', 'South', 'South', 'East', 'East', 'East', 'East', 'East', 'East', 'East', 'East', 'West', 'West', 'West', 'West', 'West', 'West', 'West', 'West', 'West', 'West', 'East', 'East', 'East', 'East', 'East', 'East', 'Central', 'Central', 'South', 'West', 'West', 'West', 'West', 'West', 'South', 'West', 'South', 'East', 'East', 'East', 'East', 'East', 'East', 'East', 'East', 'East', 'East', 'East', 'East', 'West', 'Central', 'South', 'Central', 'East', 'West', 'West', 'West', 'Central', 'Central', 'Central', 'Central', 'East', 'East', 'South', 'East', 'West', 'West', 'South', 'South', 'South', 'South', 'South', 'South', 'West', 'East', 'East', 'East', 'West', 'South', 'West', 'West', 'Central', 'Central', 'West', 'West', 'West', 'West', 'West', 'West', 'East', 'East', 'East', 'East', 'East', 'East', 'East', 'East', 'West', 'East', 'East', 'East', 'East', 'East', 'East', 'East', 'East', 'East', 'East', 'East', 'Central', 'West', 'South', 'South', 'Central', 'East', 'East', 'Central', 'Central', 'Central', 'South', 'South', 'West', 'West', 'East', 'East', 'East', 'East', 'East', 'East', 'East', 'West', 'West', 'East', 'Central', 'East', 'East', 'East', 'East', 'East', 'East', 'West', 'Central', 'East', 'West', 'West', 'East', 'West', 'West', 'West', 'Central', 'West', 'West', 'West', 'Central', 'Central', 'East', 'East', 'East', 'East', 'Central', 'West', 'West', 'South', 'South', 'West', 'West', 'East', 'East', 'South', 'South', 'West', 'West', 'West', 'West', 'West', 'Central', 'Central', 'West', 'Central', 'Central', 'Central', 'Central', 'Central', 'Central', 'Central', 'Central', 'West', 'West', 'West', 'West', 'South', 'South', 'South', 'South', 'South', 'South', 'South', 'South', 'South', 'South', 'Central', 'Central', 'South', 'South', 'South', 'West', 'East', 'East', 'South', 'Central', 'Central', 'Central', 'Central', 'Central', 'West', 'West', 'West', 'West', 'West', 'Central', 'Central', 'Central', 'Central', 'Central', 'East', 'West', 'West', 'South', 'South', 'South', 'South', 'West', 'Central', 'Central', 'West', 'East', 'East', 'East', 'Central', 'West', 'East', 'East', 'East', 'East', 'Central', 'West', 'Central', 'East', 'East', 'West', 'East', 'East', 'Central', 'East', 'East', 'South', 'South', 'West', 'West', 'West', 'West', 'West', 'West', 'West', 'West', 'West', 'South', 'South', 'South', 'South', 'Central', 'Central', 'Central', 'West', 'West', 'West', 'West', 'West', 'South', 'East', 'East', 'East', 'East', 'East', 'East', 'East', 'East', 'East', 'East', 'East', 'East', 'East', 'East', 'West', 'West', 'East', 'East', 'East', 'East', 'East', 'East', 'West', 'West', 'West', 'East', 'East', 'East', 'South', 'South', 'South', 'South', 'West', 'West', 'West', 'East', 'East', 'East', 'South', 'West', 'West', 'West', 'East', 'East', 'East', 'East', 'Central', 'East', 'East', 'East', 'East', 'South', 'South', 'South', 'South', 'South', 'East', 'Central', 'Central', 'West', 'West', 'West', 'West', 'South', 'Central', 'Central', 'Central', 'Central', 'Central', 'Central', 'Central', 'Central', 'South', 'South', 'Central', 'South', 'South', 'South', 'Central', 'East', 'East', 'East', 'East', 'East', 'West', 'West', 'West', 'West', 'West', 'West', 'West', 'West', 'Central', 'West', 'South', 'South', 'South', 'South', 'South', 'Central', 'West', 'West', 'West', 'West', 'West', 'East', 'East', 'East', 'West', 'West', 'West', 'East', 'South', 'South', 'East', 'East', 'South', 'South', 'East', 'Central', 'East', 'East', 'West', 'West', 'East', 'East', 'Central', 'Central', 'West', 'East', 'West', 'East', 'East', 'East', 'South', 'South', 'South', 'East', 'East', 'Central', 'Central', 'Central', 'Central', 'Central', 'Central', 'South', 'West', 'West', 'West', 'Central', 'Central', 'South', 'Central', 'West', 'East', 'East', 'East', 'West', 'West', 'West', 'West', 'West', 'West', 'West', 'West', 'East', 'West', 'West', 'West', 'West', 'West', 'West', 'West', 'West', 'West', 'Central', 'South', 'South', 'South', 'South', 'South', 'South', 'South', 'South', 'South', 'South', 'South', 'South', 'Central', 'Central', 'East', 'East', 'East', 'East', 'South', 'South', 'East', 'East', 'East', 'East', 'East', 'East', 'East', 'West', 'Central', 'East', 'East', 'East', 'West', 'West', 'Central', 'Central', 'Central', 'West', 'West', 'West', 'West', 'West', 'West', 'West', 'West', 'West', 'West', 'West', 'East', 'South', 'South', 'South', 'West', 'East', 'East', 'Central', 'Central', 'East', 'East', 'West', 'South', 'West', 'Central', 'Central', 'Central', 'Central', 'East', 'West', 'West', 'South', 'South', 'South', 'South', 'South', 'South', 'East', 'Central', 'East', 'West', 'East', 'Central', 'Central', 'East', 'West', 'West', 'South', 'Central', 'Central', 'Central', 'East', 'West', 'Central', 'East', 'East', 'East', 'South', 'West', 'West', 'West', 'West', 'South', 'South', 'West', 'East', 'West', 'West', 'West', 'East', 'East', 'East', 'East', 'West', 'South', 'Central', 'Central', 'Central', 'West', 'Central', 'Central', 'Central', 'West', 'West', 'West', 'West', 'East', 'South', 'Central', 'West', 'West', 'West', 'Central', 'Central', 'Central', 'East', 'West', 'West', 'West', 'West', 'Central', 'West', 'West', 'West', 'West', 'West', 'East', 'East', 'East', 'East', 'South', 'West', 'West', 'East', 'West', 'East', 'East', 'East', 'East', 'East', 'East', 'East', 'East', 'West', 'West', 'East', 'Central', 'Central', 'Central', 'East', 'Central', 'West', 'Central', 'South', 'West', 'East', 'East', 'East', 'West', 'West', 'West', 'West', 'East', 'East', 'South', 'West', 'Central', 'Central', 'West', 'South', 'West', 'West', 'West', 'West', 'Central', 'Central', 'Central', 'South', 'East', 'East', 'East', 'East', 'East', 'East', 'East', 'East', 'East', 'East', 'East', 'South', 'Central', 'Central', 'West', 'West', 'Central', 'East', 'East', 'Central', 'Central', 'Central', 'Central', 'East', 'South', 'East', 'West', 'West', 'West', 'West', 'West', 'West', 'West', 'West', 'West', 'West', 'East', 'Central', 'Central', 'Central', 'East', 'East', 'West', 'West', 'West', 'West', 'West', 'West', 'East', 'South', 'East', 'East', 'East', 'East', 'East', 'East', 'East', 'West', 'West', 'West', 'East', 'East', 'East', 'East', 'Central', 'West', 'West', 'West', 'East', 'East', 'East', 'East', 'West', 'West', 'West', 'West', 'West', 'West', 'West', 'Central', 'West', 'West', 'West', 'East', 'East', 'Central', 'Central', 'Central', 'Central', 'Central', 'Central', 'East', 'Central', 'West', 'Central', 'South', 'Central', 'Central', 'West', 'West', 'East', 'East', 'East', 'East', 'West', 'West', 'East', 'East', 'East', 'East', 'East', 'East', 'Central', 'Central', 'East', 'Central', 'East', 'East', 'East', 'West', 'West', 'West', 'East', 'East', 'East', 'West', 'West', 'East', 'West', 'West', 'West', 'West', 'West', 'West', 'Central', 'Central', 'West', 'East', 'East', 'East', 'East', 'East', 'East', 'Central', 'Central', 'Central', 'East', 'East', 'East', 'East', 'South', 'South', 'South', 'South', 'Central', 'Central', 'South', 'South', 'South', 'West', 'West', 'West', 'West', 'East', 'East', 'East', 'East', 'East', 'South', 'South', 'Central', 'Central', 'Central', 'West', 'West', 'West', 'West', 'Central', 'Central', 'Central', 'Central', 'East', 'West', 'West', 'West', 'South', 'South', 'South', 'South', 'South', 'South', 'Central', 'Central', 'Central', 'Central', 'East', 'East', 'East', 'East', 'West', 'West', 'East', 'East', 'East', 'East', 'Central', 'Central', 'Central', 'Central', 'Central', 'Central', 'Central', 'East', 'Central', 'Central', 'Central', 'Central', 'East', 'East', 'East', 'West', 'Central', 'Central', 'West', 'East', 'East', 'East', 'West', 'West', 'West', 'Central', 'Central', 'Central', 'South', 'East', 'East', 'West', 'West', 'West', 'West', 'Central', 'Central', 'Central', 'Central', 'Central', 'Central', 'West', 'West', 'West', 'South', 'South', 'East', 'Central', 'Central', 'South', 'Central', 'Central', 'East', 'South', 'South', 'South', 'South', 'South', 'South', 'Central', 'Central', 'West', 'East', 'East', 'West', 'West', 'Central', 'Central', 'Central', 'Central', 'Central', 'Central', 'West', 'Central', 'Central', 'East', 'East', 'East', 'East', 'Central', 'West', 'West', 'East', 'West', 'East', 'East', 'West', 'West', 'West', 'West', 'West', 'East', 'East', 'Central', 'West', 'West', 'South', 'East', 'East', 'East', 'East', 'Central', 'West', 'South', 'South', 'East', 'East', 'West', 'West', 'South', 'West', 'South', 'West', 'Central', 'South', 'South', 'South', 'South', 'Central', 'West', 'West', 'West', 'Central', 'South', 'South', 'West', 'East', 'West', 'Central', 'Central', 'South', 'South', 'South', 'South', 'East', 'Central', 'East', 'East', 'East', 'Central', 'Central', 'West', 'West', 'West', 'West', 'West', 'West', 'West', 'West', 'South', 'South', 'West', 'West', 'West', 'West', 'West', 'West', 'West', 'Central', 'Central', 'Central', 'Central', 'Central', 'East', 'East', 'East', 'East', 'East', 'East', 'East', 'East', 'East', 'East', 'East', 'East', 'Central', 'Central', 'Central', 'Central', 'Central', 'Central', 'Central', 'Central', 'East', 'East', 'East', 'Central', 'Central', 'Central', 'Central', 'Central', 'Central', 'South', 'South', 'South', 'West', 'West', 'West', 'South', 'Central', 'West', 'West', 'West', 'East', 'Central', 'Central', 'Central', 'Central', 'East', 'West', 'West', 'West', 'Central', 'Central', 'South', 'South', 'South', 'West', 'West', 'South', 'South', 'Central', 'Central', 'Central', 'Central', 'South', 'South', 'South', 'Central', 'Central', 'South', 'South', 'South', 'West', 'West', 'West', 'West', 'East', 'East', 'East', 'East', 'West', 'West', 'West', 'West', 'East', 'East', 'East', 'East', 'Central', 'Central', 'Central', 'Central', 'West', 'West', 'West', 'West', 'West', 'West', 'West', 'East', 'Central', 'East', 'East', 'East', 'East', 'East', 'East', 'East', 'East', 'East', 'Central', 'Central', 'Central', 'Central', 'Central', 'West', 'West', 'West', 'West', 'West', 'West', 'West', 'West', 'West', 'West', 'West', 'East', 'West', 'West', 'West', 'West', 'West', 'East', 'East', 'East', 'West', 'West', 'West', 'West', 'Central', 'East', 'East', 'East', 'East', 'East', 'West', 'East', 'East', 'Central', 'West', 'South', 'South', 'South', 'South', 'West', 'West', 'West', 'West', 'West', 'East', 'East', 'South', 'Central', 'West', 'West', 'West', 'West', 'West', 'West', 'West', 'West', 'West', 'East', 'West', 'West', 'West', 'South', 'West', 'Central', 'Central', 'East', 'East', 'East', 'East', 'East', 'East', 'East', 'East', 'East', 'East', 'East', 'East', 'Central', 'Central', 'East', 'East', 'East', 'East', 'East', 'East', 'East', 'East', 'East', 'East', 'West', 'East', 'Central', 'Central', 'East', 'East', 'Central', 'West', 'Central', 'Central', 'South', 'Central', 'East', 'West', 'West', 'Central', 'Central', 'Central', 'Central', 'Central', 'East', 'East', 'East', 'Central', 'West', 'Central', 'Central', 'West', 'West', 'West', 'West', 'East', 'East', 'East', 'East', 'East', 'East', 'West', 'South', 'Central', 'Central', 'Central', 'West', 'West', 'West', 'West', 'West', 'West', 'South', 'South', 'East', 'East', 'South', 'South', 'West', 'West', 'East', 'South', 'Central', 'Central', 'East', 'East', 'East', 'Central', 'East', 'West', 'West', 'West', 'West', 'South', 'West', 'West', 'West', 'East', 'East', 'East', 'East', 'West', 'Central', 'Central', 'East', 'West', 'West', 'Central', 'Central', 'West', 'East', 'Central', 'Central', 'West', 'Central', 'West', 'West', 'East', 'West', 'West', 'West', 'West', 'West', 'West', 'West', 'West', 'West', 'West', 'West', 'West', 'West', 'East', 'East', 'West', 'West', 'West', 'West', 'East', 'South', 'South', 'South', 'South', 'South', 'West', 'East', 'East', 'South', 'West', 'West', 'West', 'West', 'West', 'South', 'South', 'South', 'West', 'West', 'West', 'East', 'Central', 'Central', 'South', 'South', 'East', 'West', 'West', 'South', 'South', 'South', 'East', 'East', 'East', 'East', 'East', 'East', 'East', 'Central', 'Central', 'South', 'South', 'South', 'Central', 'Central', 'East', 'West', 'West', 'West', 'West', 'West', 'Central', 'Central', 'Central', 'Central', 'Central', 'Central', 'South', 'West', 'South', 'South', 'South', 'South', 'East', 'East', 'East', 'West', 'East', 'West', 'West', 'Central', 'Central', 'South', 'East', 'East', 'East', 'East', 'East', 'South', 'East', 'East', 'Central', 'Central', 'Central', 'Central', 'Central', 'West', 'West', 'West', 'West', 'West', 'West', 'West', 'West', 'West', 'East', 'East', 'East', 'East', 'East', 'East', 'South', 'South', 'South', 'West', 'East', 'East', 'East', 'East', 'Central', 'Central', 'Central', 'Central', 'South', 'East', 'East', 'West', 'East', 'East', 'East', 'West', 'West', 'West', 'West', 'West', 'West', 'West', 'East', 'East', 'East', 'East', 'East', 'East', 'East', 'East', 'West', 'West', 'South', 'South', 'Central', 'Central', 'Central', 'West', 'West', 'West', 'West', 'West', 'West', 'East', 'West', 'West', 'West', 'Central', 'East', 'West', 'West', 'West', 'West', 'West', 'Central', 'Central', 'East', 'East', 'East', 'East', 'Central', 'Central', 'Central', 'West', 'West', 'East', 'Central', 'South', 'South', 'West', 'West', 'West', 'South', 'East', 'East', 'East', 'East', 'East', 'East', 'West', 'East', 'South', 'West', 'East', 'East', 'East', 'East', 'East', 'East', 'East', 'East', 'East', 'East', 'West', 'West', 'East', 'East', 'East', 'East', 'South', 'South', 'South', 'South', 'South', 'South', 'South', 'West', 'West', 'West', 'West', 'West', 'East', 'Central', 'Central', 'West', 'West', 'West', 'West', 'West', 'East', 'East', 'East', 'East', 'East', 'West', 'East', 'Central', 'Central', 'Central', 'West', 'West', 'West', 'South', 'Central', 'Central', 'Central', 'West', 'West', 'West', 'West', 'Central', 'West', 'West', 'Central', 'South', 'South', 'Central', 'Central', 'East', 'Central', 'East', 'Central', 'Central', 'Central', 'Central', 'Central', 'Central', 'Central', 'Central', 'Central', 'Central', 'Central', 'South', 'South', 'South', 'South', 'South', 'East', 'West', 'East', 'East', 'East', 'West', 'West', 'West', 'East', 'East', 'East', 'West', 'West', 'West', 'West', 'West', 'West', 'South', 'South', 'South', 'South', 'East', 'Central', 'South', 'West', 'West', 'West', 'South', 'South', 'East', 'East', 'South', 'West', 'West', 'East', 'East', 'East', 'Central', 'Central', 'Central', 'South', 'South', 'South', 'South', 'South', 'South', 'South', 'South', 'South', 'South', 'South', 'Central', 'East', 'East', 'West', 'West', 'Central', 'Central', 'South', 'South', 'Central', 'Central', 'Central', 'Central', 'Central', 'East', 'East', 'East', 'East', 'East', 'East', 'South', 'West', 'Central', 'Central', 'Central', 'Central', 'Central', 'Central', 'West', 'West', 'West', 'West', 'West', 'West', 'West', 'West', 'West', 'Central', 'East', 'East', 'East', 'East', 'East', 'East', 'East', 'Central', 'West', 'West', 'West', 'South', 'South', 'West', 'East', 'East', 'East', 'East', 'South', 'Central', 'South', 'South', 'Central', 'Central', 'Central', 'Central', 'Central', 'West', 'West', 'West', 'West', 'West', 'West', 'West', 'West', 'West', 'West', 'East', 'East', 'Central', 'South', 'South', 'South', 'Central', 'Central', 'West', 'West', 'East', 'East', 'East', 'East', 'West', 'South', 'South', 'West', 'West', 'Central', 'Central', 'Central', 'Central', 'Central', 'West', 'South', 'South', 'Central', 'West', 'Central', 'East', 'West', 'West', 'West', 'South', 'East', 'South', 'South', 'South', 'South', 'South', 'South', 'South', 'East', 'East', 'West', 'West', 'West', 'West', 'West', 'South', 'East', 'East', 'South', 'West', 'East', 'South', 'East', 'West', 'Central', 'South', 'South', 'South', 'West', 'West', 'East', 'East', 'East', 'East', 'West', 'West', 'West', 'East', 'East', 'West', 'East', 'East', 'East', 'East', 'South', 'South', 'East', 'West', 'West', 'West', 'South', 'East', 'Central', 'South', 'West', 'West', 'West', 'West', 'West', 'West', 'West', 'West', 'East', 'South', 'South', 'West', 'West', 'West', 'East', 'East', 'East', 'East', 'East', 'Central', 'Central', 'Central', 'Central', 'South', 'Central', 'East', 'West', 'West', 'West', 'South', 'South', 'East', 'Central', 'Central', 'East', 'East', 'West', 'West', 'Central', 'Central', 'Central', 'Central', 'Central', 'Central', 'West', 'West', 'West', 'West', 'South', 'South', 'South', 'South', 'West', 'West', 'West', 'West', 'Central', 'West', 'West', 'West', 'West', 'Central', 'Central', 'Central', 'Central', 'Central', 'East', 'East', 'East', 'East', 'West', 'West', 'West', 'Central', 'Central', 'Central', 'Central', 'Central', 'Central', 'East', 'East', 'East', 'West', 'West', 'South', 'South', 'West', 'West', 'West', 'South', 'East', 'South', 'South', 'Central', 'East', 'Central', 'East', 'Central', 'South', 'South', 'South', 'East', 'Central', 'East', 'East', 'East', 'Central', 'West', 'South', 'South', 'South', 'South', 'South', 'South', 'West', 'West', 'West', 'West', 'East', 'East', 'South', 'West', 'West', 'West', 'West', 'East', 'West', 'West', 'East', 'East', 'East', 'East', 'East', 'Central', 'West', 'West', 'West', 'West', 'West', 'West', 'West', 'South', 'South', 'East', 'East', 'East', 'East', 'East', 'South', 'Central', 'East', 'East', 'South', 'Central', 'Central', 'Central', 'West', 'Central', 'Central', 'Central', 'West', 'South', 'East', 'East', 'East', 'Central', 'Central', 'Central', 'Central', 'East', 'East', 'East', 'West', 'Central', 'Central', 'East', 'East', 'South', 'Central', 'South', 'Central', 'West', 'West', 'West', 'West', 'West', 'West', 'West', 'West', 'West', 'West', 'Central', 'Central', 'Central', 'West', 'West', 'West', 'West', 'West', 'West', 'West', 'West', 'West', 'West', 'West', 'West', 'East', 'East', 'East', 'West', 'West', 'West', 'West', 'West', 'West', 'West', 'West', 'Central', 'Central', 'South', 'South', 'South', 'South', 'South', 'Central', 'Central', 'Central', 'East', 'East', 'South', 'East', 'East', 'West', 'West', 'West', 'West', 'South', 'South', 'South', 'West', 'West', 'West', 'West', 'East', 'Central', 'West', 'West', 'East', 'East', 'East', 'East', 'East', 'East', 'Central', 'East', 'East', 'Central', 'East', 'West', 'South', 'East', 'West', 'West', 'West', 'West', 'West', 'East', 'Central', 'Central', 'Central', 'West', 'West', 'West', 'West', 'Central', 'East', 'East', 'East', 'West', 'South', 'West', 'Central', 'Central', 'West', 'East', 'South', 'South', 'South', 'South', 'South', 'West', 'South', 'West', 'West', 'West', 'East', 'Central', 'Central', 'West', 'South', 'South', 'West', 'West', 'West', 'Central', 'Central', 'Central', 'West', 'West', 'West', 'West', 'East', 'Central', 'East', 'East', 'West', 'West', 'West', 'West', 'West', 'East', 'East', 'East', 'East', 'West', 'West', 'Central', 'Central', 'Central', 'West', 'West', 'West', 'South', 'South', 'East', 'Central', 'Central', 'Central', 'Central', 'South', 'South', 'East', 'East', 'East', 'Central', 'Central', 'Central', 'Central', 'Central', 'Central', 'East', 'East', 'East', 'East', 'East', 'East', 'Central', 'Central', 'Central', 'Central', 'Central', 'Central', 'Central', 'West', 'West', 'West', 'West', 'West', 'West', 'South', 'South', 'South', 'South', 'South', 'South', 'South', 'South', 'East', 'East', 'West', 'West', 'West', 'West', 'East', 'East', 'Central', 'Central', 'Central', 'Central', 'Central', 'Central', 'East', 'Central', 'East', 'East', 'Central', 'West', 'West', 'West', 'East', 'West', 'East', 'East', 'East', 'East', 'Central', 'West', 'East', 'East', 'South', 'South', 'Central', 'West', 'West', 'West', 'West', 'West', 'West', 'Central', 'South', 'South', 'South', 'Central', 'Central', 'Central', 'Central', 'West', 'West', 'East', 'East', 'East', 'East', 'East', 'East', 'East', 'East', 'Central', 'Central', 'East', 'West', 'West', 'Central', 'East', 'Central', 'Central', 'Central', 'South', 'East', 'West', 'South', 'East', 'East', 'East', 'West', 'West', 'West', 'West', 'West', 'West', 'West', 'West', 'Central', 'Central', 'Central', 'East', 'East', 'West', 'West', 'East', 'East', 'East', 'East', 'East', 'West', 'West', 'West', 'West', 'West', 'West', 'West', 'East', 'East', 'Central', 'Central', 'Central', 'West', 'East', 'East', 'East', 'Central', 'Central', 'Central', 'South', 'Central', 'Central', 'Central', 'West', 'West', 'West', 'West', 'West', 'Central', 'East', 'Central', 'Central', 'West', 'West', 'South', 'South', 'South', 'Central', 'Central', 'West', 'West', 'West', 'South', 'East', 'East', 'South', 'South', 'Central', 'Central', 'West', 'West', 'West', 'Central', 'Central', 'South', 'South', 'South', 'South', 'South', 'South', 'South', 'East', 'East', 'Central', 'Central', 'West', 'West', 'West', 'West', 'Central', 'West', 'West', 'Central', 'East', 'West', 'West', 'West', 'East', 'East', 'East', 'East', 'East', 'Central', 'Central', 'Central', 'Central', 'Central', 'East', 'East', 'South', 'West', 'West', 'East', 'East', 'Central', 'West', 'West', 'South', 'South', 'South', 'East', 'East', 'Central', 'Central', 'Central', 'Central', 'Central', 'Central', 'Central', 'Central', 'Central', 'Central', 'West', 'West', 'West', 'West', 'West', 'West', 'West', 'East', 'East', 'East', 'East', 'East', 'East', 'West', 'Central', 'West', 'East', 'West', 'West', 'East', 'East', 'East', 'East', 'Central', 'Central', 'Central', 'East', 'East', 'East', 'East', 'Central', 'West', 'Central', 'Central', 'West', 'West', 'Central', 'West', 'West', 'East', 'East', 'East', 'East', 'Central', 'Central', 'Central', 'East', 'South', 'East', 'East', 'East', 'South', 'South', 'South', 'South', 'South', 'Central', 'West', 'West', 'Central', 'East', 'Central', 'Central', 'Central', 'South', 'South', 'South', 'South', 'Central', 'Central', 'West', 'East', 'East', 'East', 'East', 'East', 'West', 'West', 'West', 'West', 'West', 'Central', 'Central', 'West', 'West', 'East', 'West', 'West', 'West', 'West', 'West', 'Central', 'Central', 'East', 'East', 'East', 'West', 'West', 'West', 'West', 'West', 'Central', 'Central', 'Central', 'Central', 'Central', 'West', 'East', 'East', 'East', 'East', 'East', 'East', 'South', 'West', 'West', 'West', 'West', 'South', 'South', 'South', 'South', 'East', 'East', 'East', 'East', 'East', 'Central', 'East', 'South', 'South', 'East', 'East', 'East', 'South', 'South', 'West', 'East', 'East', 'Central', 'Central', 'Central', 'Central', 'West', 'West', 'West', 'West', 'South', 'South', 'South', 'South', 'East', 'South', 'South', 'Central', 'Central', 'Central', 'Central', 'Central', 'Central', 'Central', 'Central', 'West', 'West', 'West', 'South', 'South', 'South', 'Central', 'Central', 'East', 'Central', 'Central', 'Central', 'Central', 'Central', 'Central', 'Central', 'Central', 'Central', 'Central', 'South', 'South', 'South', 'South', 'Central', 'West', 'Central', 'Central', 'West', 'Central', 'South', 'South', 'South', 'West', 'South', 'Central', 'East', 'West', 'West', 'West', 'West', 'East', 'South', 'South', 'South', 'South', 'East', 'East', 'East', 'Central', 'Central', 'South', 'South', 'South', 'South', 'Central', 'Central', 'Central', 'East', 'West', 'West', 'West', 'West', 'West', 'West', 'East', 'East', 'East', 'East', 'West', 'West', 'Central', 'Central', 'West', 'West', 'West', 'West', 'Central', 'East', 'East', 'South', 'West', 'West', 'South', 'South', 'South', 'Central', 'Central', 'Central', 'Central', 'Central', 'West', 'East', 'South', 'South', 'South', 'Central', 'East', 'East', 'East', 'East', 'East', 'East', 'East', 'East', 'West', 'East', 'East', 'East', 'East', 'East', 'East', 'East', 'East', 'East', 'East', 'Central', 'East', 'East', 'Central', 'Central', 'East', 'West', 'West', 'West', 'South', 'South', 'South', 'South', 'West', 'West', 'West', 'West', 'West', 'East', 'East', 'West', 'West', 'East', 'East', 'East', 'East', 'East', 'East', 'East', 'East', 'East', 'West', 'West', 'West', 'West', 'West', 'West', 'South', 'South', 'Central', 'Central', 'Central', 'Central', 'Central', 'South', 'East', 'South', 'South', 'South', 'West', 'Central', 'East', 'East', 'West', 'West', 'West', 'West', 'West', 'West', 'West', 'West', 'East', 'East', 'East', 'East', 'West', 'East', 'East', 'East', 'East', 'East', 'East', 'East', 'East', 'East', 'West', 'South', 'West', 'West', 'West', 'West', 'West', 'West', 'South', 'South', 'South', 'West', 'West', 'East', 'East', 'East', 'South', 'South', 'South', 'South', 'Central', 'Central', 'Central', 'Central', 'West', 'West', 'West', 'West', 'West', 'West', 'Central', 'South', 'South', 'Central', 'South', 'South', 'Central', 'West', 'Central', 'West', 'East', 'East', 'East', 'East', 'East', 'East', 'East', 'East', 'East', 'East', 'East', 'East', 'Central', 'Central', 'Central', 'East', 'East', 'East', 'South', 'South', 'South', 'West', 'West', 'West', 'West', 'West', 'West', 'West', 'West', 'Central', 'Central', 'East', 'West', 'West', 'West', 'East', 'Central', 'Central', 'Central', 'Central', 'Central', 'Central', 'South', 'South', 'West', 'East', 'South', 'South', 'South', 'South', 'South', 'West', 'South', 'East', 'Central', 'East', 'South', 'South', 'South', 'East', 'West', 'Central', 'Central', 'Central', 'West', 'East', 'East', 'East', 'West', 'West', 'West', 'South', 'South', 'South', 'South', 'South', 'South', 'South', 'South', 'South', 'South', 'South', 'South', 'South', 'South', 'South', 'Central', 'Central', 'South', 'South', 'South', 'South', 'South', 'East', 'East', 'East', 'East', 'East', 'East', 'East', 'Central', 'Central', 'Central', 'Central', 'Central', 'East', 'East', 'East', 'East', 'West', 'West', 'West', 'West', 'West', 'West', 'South', 'West', 'West', 'West', 'West', 'West', 'Central', 'South', 'South', 'Central', 'East', 'Central', 'West', 'West', 'Central', 'Central', 'Central', 'West', 'Central', 'Central', 'East', 'East', 'West', 'Central', 'West', 'Central', 'West', 'West', 'West', 'West', 'West', 'West', 'South', 'South', 'South', 'South', 'South', 'Central', 'Central', 'West', 'West', 'West', 'West', 'South', 'Central', 'Central', 'South', 'South', 'South', 'West', 'West', 'West', 'Central', 'Central', 'South', 'Central', 'Central', 'Central', 'East', 'Central', 'East', 'West', 'East', 'East', 'East', 'East', 'East', 'East', 'East', 'East', 'Central', 'East', 'East', 'West', 'West', 'West', 'West', 'West', 'South', 'South', 'Central', 'Central', 'Central', 'West', 'West', 'West', 'West', 'Central', 'Central', 'Central', 'East', 'East', 'West', 'West', 'West', 'Central', 'Central', 'Central', 'Central', 'East', 'East', 'South', 'East', 'West', 'South', 'South', 'Central', 'Central', 'Central', 'Central', 'East', 'West', 'East', 'Central', 'Central', 'West', 'South', 'South', 'South', 'Central', 'Central', 'West', 'West', 'East', 'South', 'East', 'West', 'Central', 'Central', 'West', 'Central', 'East', 'East', 'East', 'East', 'South', 'West', 'West', 'East', 'East', 'West', 'West', 'West', 'West', 'West', 'East', 'East', 'South', 'East', 'East', 'South', 'South', 'South', 'Central', 'Central', 'Central', 'Central', 'Central', 'South', 'West', 'West', 'Central', 'Central', 'Central', 'South', 'South', 'South', 'West', 'West', 'East', 'East', 'Central', 'South', 'South', 'South', 'South', 'South', 'South', 'South', 'East', 'East', 'East', 'West', 'West', 'Central', 'Central', 'Central', 'Central', 'South', 'South', 'West', 'West', 'West', 'East', 'East', 'Central', 'West', 'West', 'West', 'West', 'West', 'West', 'West', 'West', 'Central', 'Central', 'East', 'East', 'East', 'East', 'East', 'East', 'East', 'East', 'East', 'East', 'Central', 'West', 'West', 'Central', 'West', 'East', 'South', 'South', 'South', 'South', 'South', 'South', 'Central', 'Central', 'Central', 'Central', 'Central', 'South', 'South', 'Central', 'Central', 'Central', 'South', 'West', 'West', 'Central', 'Central', 'West', 'West', 'West', 'West', 'South', 'East', 'East', 'East', 'East', 'South', 'South', 'South', 'Central', 'Central', 'Central', 'Central', 'Central', 'Central', 'Central', 'Central', 'West', 'West', 'Central', 'East', 'East', 'Central', 'Central', 'Central', 'Central', 'Central', 'Central', 'West', 'West', 'West', 'West', 'West', 'East', 'West', 'West', 'West', 'East', 'South', 'South', 'South', 'South', 'West', 'Central', 'South', 'South', 'South', 'South', 'West', 'West', 'South', 'Central', 'East', 'East', 'Central', 'Central', 'West', 'West', 'West', 'East', 'Central', 'Central', 'Central', 'Central', 'East', 'East', 'East', 'South', 'South', 'East', 'East', 'Central', 'South', 'East', 'East', 'East', 'East', 'West', 'West', 'East', 'West', 'West', 'West', 'West', 'West', 'South', 'South', 'South', 'West', 'South', 'South', 'West', 'West', 'Central', 'East', 'East', 'East', 'East', 'East', 'Central', 'Central', 'Central', 'Central', 'East', 'Central', 'West', 'West', 'West', 'West', 'East', 'East', 'East', 'East', 'East', 'East', 'East', 'East', 'East', 'East', 'East', 'East', 'East', 'East', 'Central', 'South', 'South', 'South', 'Central', 'East', 'West', 'West', 'West', 'West', 'West', 'West', 'West', 'West', 'Central', 'Central', 'Central', 'West', 'Central', 'Central', 'Central', 'Central', 'Central', 'Central', 'East', 'East', 'Central', 'East', 'West', 'Central', 'West', 'West', 'South', 'South', 'West', 'East', 'East', 'East', 'East', 'East', 'East', 'South', 'South', 'South', 'Central', 'Central', 'Central', 'West', 'West', 'East', 'East', 'Central', 'South', 'East', 'Central', 'Central', 'Central', 'Central', 'Central', 'West', 'South', 'East', 'West', 'West', 'West', 'Central', 'West', 'East', 'East', 'East', 'East', 'East', 'Central', 'Central', 'Central', 'Central', 'Central', 'South', 'Central', 'Central', 'West', 'West', 'West', 'East', 'West', 'West', 'West', 'South', 'South', 'South', 'South', 'South', 'East', 'Central', 'West', 'West', 'West', 'West', 'West', 'West', 'West', 'West', 'West', 'East', 'West', 'West', 'West', 'West', 'South', 'West', 'West', 'East', 'East', 'East', 'East', 'East', 'East', 'East', 'East', 'South', 'South', 'West', 'West', 'South', 'South', 'West', 'West', 'West', 'West', 'South', 'Central', 'South', 'West', 'West', 'West', 'West', 'East', 'East', 'West', 'West', 'East', 'East', 'West', 'West', 'South', 'South', 'South', 'Central', 'Central', 'Central', 'East', 'South', 'Central', 'Central', 'Central', 'Central', 'Central', 'Central', 'Central', 'Central', 'Central', 'Central', 'Central', 'Central', 'East', 'West', 'West', 'West', 'South', 'South', 'West', 'West', 'Central', 'Central', 'Central', 'Central', 'West', 'West', 'East', 'East', 'East', 'East', 'Central', 'Central', 'East', 'East', 'West', 'East', 'East', 'East', 'East', 'East', 'West', 'East', 'East', 'East', 'Central', 'Central', 'Central', 'West', 'West', 'East', 'East', 'East', 'East', 'West', 'West', 'Central', 'East', 'East', 'Central', 'South', 'South', 'South', 'South', 'South', 'South', 'West', 'Central', 'East', 'South', 'South', 'South', 'South', 'South', 'Central', 'Central', 'Central', 'Central', 'Central', 'Central', 'Central', 'Central', 'Central', 'Central', 'Central', 'Central', 'Central', 'West', 'West', 'West', 'West', 'West', 'West', 'West', 'West', 'West', 'West', 'West', 'West', 'West', 'West', 'West', 'West', 'West', 'West', 'East', 'East', 'East', 'East', 'East', 'East', 'East', 'East', 'East', 'East', 'East', 'Central', 'Central', 'East', 'West', 'West', 'West', 'West', 'West', 'West', 'West', 'Central', 'Central', 'Central', 'West', 'East', 'East', 'East', 'East', 'West', 'West', 'East', 'West', 'West', 'West', 'Central', 'Central', 'West', 'West', 'West', 'West', 'West', 'West', 'West', 'Central', 'Central', 'West', 'Central', 'South', 'Central', 'West', 'West', 'West', 'South', 'Central', 'Central', 'West', 'East', 'East', 'East', 'East', 'East', 'East', 'Central', 'East', 'East', 'West', 'West', 'West', 'West', 'West', 'West', 'West', 'East', 'East', 'Central', 'Central', 'Central', 'Central', 'Central', 'Central', 'Central', 'Central', 'Central', 'East', 'West', 'West', 'West', 'Central', 'South', 'South', 'West', 'Central', 'Central', 'West', 'West', 'West', 'South', 'West', 'South', 'South', 'South', 'Central', 'West', 'Central', 'Central', 'West', 'Central', 'Central', 'Central', 'Central', 'West', 'South', 'East', 'South', 'East', 'East', 'West', 'West', 'West', 'West', 'West', 'West', 'West', 'West', 'West', 'West', 'West', 'West', 'West', 'East', 'Central', 'Central', 'East', 'East', 'East', 'South', 'South', 'South', 'South', 'East', 'East', 'East', 'East', 'West', 'South', 'South', 'South', 'Central', 'Central', 'Central', 'East', 'East', 'West', 'West', 'East', 'South', 'South', 'South', 'South', 'East', 'East', 'East', 'East', 'Central', 'West', 'West', 'West', 'West', 'West', 'West', 'West', 'West', 'South', 'South', 'West', 'West', 'West', 'West', 'East', 'South', 'East', 'West', 'West', 'West', 'West', 'East', 'East', 'West', 'Central', 'East', 'East', 'East', 'East', 'East', 'East', 'East', 'South', 'South', 'South', 'West', 'West', 'Central', 'Central', 'Central', 'Central', 'Central', 'Central', 'Central', 'East', 'West', 'West', 'West', 'West', 'West', 'East', 'South', 'East', 'East', 'East', 'East', 'Central', 'East', 'West', 'West', 'West', 'West', 'West', 'Central', 'Central', 'Central', 'Central', 'Central', 'Central', 'Central', 'Central', 'Central', 'Central', 'East', 'East', 'East', 'West', 'West', 'West', 'West', 'East', 'Central', 'Central', 'West', 'West', 'West', 'East', 'West', 'West', 'West', 'Central', 'West', 'South', 'South', 'South', 'East', 'East', 'West', 'Central', 'West', 'West', 'West', 'West', 'East', 'East', 'East', 'East', 'West', 'West', 'West', 'West', 'West', 'Central', 'Central', 'Central', 'Central', 'West', 'West', 'West', 'West', 'South', 'South', 'Central', 'South', 'South', 'East', 'Central', 'East', 'East', 'East', 'East', 'East', 'West', 'West', 'East', 'Central', 'Central', 'South', 'West', 'West', 'West', 'Central', 'Central', 'Central', 'West', 'East', 'East', 'East', 'East', 'Central', 'Central', 'Central', 'Central', 'West', 'West', 'West', 'West', 'West', 'West', 'West', 'West', 'West', 'East', 'West', 'South', 'South', 'South', 'South', 'South', 'South', 'South', 'South', 'East', 'East', 'West', 'West', 'West', 'East', 'Central', 'Central', 'East', 'East', 'East', 'West', 'East', 'East', 'East', 'East', 'East', 'Central', 'Central', 'West', 'East', 'East', 'East', 'West', 'South', 'South', 'East', 'Central', 'Central', 'Central', 'Central', 'West', 'West', 'West', 'East', 'East', 'East', 'South', 'East', 'South', 'East', 'West', 'East', 'West', 'West', 'West', 'West', 'West', 'West', 'West', 'West', 'West', 'West', 'West', 'West', 'West', 'Central', 'East', 'Central', 'East', 'East', 'East', 'West', 'West', 'West', 'West', 'East', 'East', 'Central', 'Central', 'Central', 'Central', 'East', 'South', 'South', 'South', 'South', 'South', 'South', 'South', 'West', 'West', 'Central', 'South', 'South', 'South', 'South', 'West', 'West', 'West', 'West', 'West', 'West', 'West', 'East', 'East', 'West', 'West', 'West', 'East', 'East', 'Central', 'East', 'East', 'East', 'East', 'South', 'South', 'South', 'South', 'South', 'West', 'West', 'Central', 'Central', 'East', 'East', 'Central', 'South', 'South', 'South', 'South', 'East', 'Central', 'East', 'East', 'East', 'East', 'West', 'West', 'West', 'West', 'West', 'South', 'West', 'West', 'West', 'East', 'East', 'East', 'Central', 'West', 'West', 'West', 'West', 'West', 'West', 'East', 'Central', 'West', 'East', 'West', 'West', 'West', 'Central', 'Central', 'West', 'West', 'West', 'West', 'West', 'South', 'South', 'East', 'East', 'East', 'East', 'South', 'South', 'South', 'South', 'West', 'South', 'East', 'East', 'East', 'Central', 'Central', 'Central', 'West', 'West', 'South', 'East', 'West', 'West', 'West', 'West', 'West', 'Central', 'South', 'South', 'South', 'East', 'South', 'South', 'West', 'West', 'West', 'South', 'South', 'West', 'South', 'Central', 'East', 'East', 'East', 'East', 'East', 'West', 'East', 'East', 'East', 'East', 'East', 'West', 'West', 'West', 'East', 'West', 'West', 'West', 'Central', 'Central', 'Central', 'Central', 'Central', 'West', 'West', 'West', 'East', 'East', 'Central', 'West', 'West', 'Central', 'East', 'East', 'East', 'West', 'West', 'West', 'West', 'West', 'West', 'West', 'Central', 'Central', 'West', 'East', 'South', 'Central', 'Central', 'Central', 'West', 'West', 'East', 'South', 'South', 'Central', 'Central', 'Central', 'East', 'South', 'South', 'West', 'Central', 'Central', 'Central', 'Central', 'Central', 'West', 'West', 'Central', 'Central', 'Central', 'Central', 'West', 'West', 'East', 'South', 'South', 'East', 'Central', 'East', 'East', 'East', 'West', 'West', 'West', 'East', 'Central', 'Central', 'Central', 'Central', 'Central', 'Central', 'West', 'Central', 'Central', 'Central', 'East', 'East', 'South', 'South', 'South', 'South', 'East', 'East', 'East', 'Central', 'Central', 'West', 'East', 'East', 'East', 'East', 'East', 'South', 'South', 'South', 'South', 'East', 'East', 'East', 'East', 'East', 'East', 'East', 'West', 'South', 'East', 'East', 'West', 'West', 'Central', 'East', 'East', 'West', 'East', 'East', 'East', 'West', 'West', 'West', 'West', 'West', 'East', 'West', 'West', 'East', 'East', 'Central', 'Central', 'Central', 'Central', 'Central', 'West', 'West', 'West', 'Central', 'West', 'Central', 'Central', 'Central', 'Central', 'Central', 'Central', 'Central', 'Central', 'Central', 'West', 'Central', 'Central', 'West', 'East', 'West', 'West', 'West', 'East', 'East', 'South', 'South', 'South', 'East', 'Central', 'Central', 'Central', 'Central', 'West', 'South', 'South', 'South', 'South', 'West', 'West', 'Central', 'Central', 'Central', 'Central', 'West', 'West', 'East', 'East', 'East', 'East', 'East', 'East', 'East', 'East', 'West', 'West', 'West', 'West', 'Central', 'West', 'East', 'Central', 'Central', 'Central', 'Central', 'Central', 'West', 'East', 'East', 'East', 'West', 'West', 'West', 'West', 'West', 'South', 'West', 'Central', 'East', 'East', 'East', 'West', 'West', 'West', 'Central', 'South', 'West', 'West', 'West', 'Central', 'West', 'East', 'South', 'South', 'South', 'West', 'East', 'East', 'Central', 'West', 'West', 'East', 'Central', 'Central', 'Central', 'Central', 'Central', 'West', 'West', 'West', 'East', 'West', 'West', 'West', 'West', 'South', 'East', 'South', 'South', 'Central', 'South', 'Central', 'Central', 'Central', 'Central', 'West', 'West', 'West', 'West', 'West', 'West', 'Central', 'Central', 'Central', 'South', 'East', 'Central', 'Central', 'East', 'East', 'West', 'West', 'South', 'South', 'South', 'Central', 'Central', 'East', 'East', 'East', 'Central', 'Central', 'Central', 'South', 'South', 'West', 'West', 'South', 'South', 'South', 'South', 'South', 'South', 'South', 'South', 'Central', 'West', 'West', 'East', 'West', 'Central', 'East', 'East', 'East', 'East', 'East', 'East', 'East', 'West', 'West', 'East', 'East', 'East', 'East', 'Central', 'Central', 'East', 'West', 'West', 'West', 'Central', 'Central', 'Central', 'Central', 'Central', 'South', 'West', 'West', 'West', 'West', 'West', 'West', 'South', 'Central', 'Central', 'Central', 'West', 'Central', 'West', 'West', 'West', 'East', 'Central', 'Central', 'Central', 'Central', 'Central', 'West', 'West', 'East', 'East', 'West', 'West', 'Central', 'Central', 'Central', 'East', 'East', 'South', 'West', 'West', 'West', 'West', 'East', 'East', 'East', 'East', 'West', 'West', 'West', 'East', 'West', 'West', 'West', 'East', 'East', 'West', 'West', 'West', 'West', 'West', 'West', 'West', 'West', 'West', 'Central', 'Central', 'Central', 'Central', 'Central', 'Central', 'Central', 'East', 'East', 'West', 'South', 'East', 'West', 'West', 'West', 'West', 'South', 'East', 'East', 'East', 'West', 'West', 'West', 'South', 'South', 'South', 'East', 'South', 'West', 'East', 'East', 'East', 'Central', 'East', 'East', 'Central', 'Central', 'Central', 'Central', 'West', 'Central', 'East', 'East', 'West', 'West', 'West', 'West', 'South', 'West', 'West', 'West', 'West', 'West', 'Central', 'West', 'West', 'West', 'East', 'West', 'West', 'West', 'Central', 'Central', 'Central', 'Central', 'East', 'South', 'West', 'West', 'West', 'West', 'South', 'South', 'Central', 'South', 'South', 'South', 'South', 'Central', 'West', 'West', 'West', 'East', 'East', 'East', 'East', 'East', 'East', 'East', 'East', 'East', 'East', 'East', 'West', 'South', 'West', 'Central', 'Central', 'West', 'West', 'East', 'East', 'East', 'South', 'East', 'East', 'East', 'East', 'East', 'West', 'West', 'West', 'West', 'West', 'East', 'South', 'Central', 'Central', 'South', 'South', 'South', 'South', 'South', 'South', 'South', 'Central', 'Central', 'Central', 'Central', 'West', 'West', 'West', 'East', 'West', 'West', 'West', 'West', 'Central', 'Central', 'Central', 'Central', 'Central', 'South', 'South', 'South', 'West', 'West', 'West', 'South', 'South', 'South', 'Central', 'Central', 'Central', 'Central', 'Central', 'Central', 'Central', 'East', 'East', 'East', 'East', 'East', 'West', 'West', 'West', 'West', 'West', 'East', 'East', 'West', 'East', 'East', 'East', 'West', 'West', 'West', 'West', 'East', 'East', 'East', 'East', 'East', 'East', 'East', 'East', 'East', 'East', 'East', 'Central', 'Central', 'East', 'South', 'South', 'East', 'West', 'South', 'East', 'West', 'West', 'East', 'East', 'East', 'East', 'South', 'West', 'Central', 'Central', 'Central', 'Central', 'West', 'West', 'West', 'West', 'South', 'South', 'East', 'South', 'South', 'South', 'East', 'Central', 'West', 'West', 'Central', 'West', 'West', 'East', 'East', 'South', 'South', 'West', 'East', 'South', 'West', 'West', 'West', 'West', 'West', 'East', 'West', 'West', 'West', 'West', 'West', 'West', 'West', 'West', 'West', 'West', 'East', 'East', 'East', 'East', 'West', 'West', 'West', 'West', 'West', 'Central', 'Central', 'West', 'West', 'West', 'Central', 'Central', 'Central', 'Central', 'Central', 'South', 'South', 'South', 'West', 'South', 'South', 'South', 'Central', 'East', 'East', 'East', 'East', 'East', 'West', 'Central', 'Central', 'Central', 'West', 'East', 'East', 'East', 'East', 'East', 'East', 'East', 'East', 'East', 'East', 'East', 'East', 'Central', 'East', 'South', 'Central', 'Central', 'Central', 'Central', 'Central', 'West', 'West', 'West', 'West', 'Central', 'East', 'Central', 'Central', 'Central', 'Central', 'Central', 'Central', 'East', 'East', 'East', 'East', 'West', 'West', 'West', 'West', 'West', 'West', 'West', 'West', 'West', 'West', 'South', 'South', 'South', 'East', 'Central', 'West', 'West', 'South', 'South', 'Central', 'Central', 'South', 'South', 'West', 'West', 'West', 'West', 'East', 'West', 'West', 'Central', 'Central', 'East', 'East', 'West', 'West', 'Central', 'Central', 'West', 'West', 'East', 'West', 'West', 'West', 'West', 'West', 'West', 'West', 'West', 'West', 'West', 'West', 'South', 'South', 'West', 'West', 'West', 'West', 'West', 'East', 'East', 'East', 'East', 'Central', 'Central', 'Central', 'West', 'East', 'Central', 'Central', 'South', 'South', 'South', 'South', 'West', 'West', 'West', 'East', 'South', 'East', 'East', 'East', 'East', 'East', 'West', 'West', 'West', 'West', 'East', 'East', 'East', 'East', 'East', 'Central', 'Central', 'West', 'South', 'South', 'South', 'South', 'South', 'West', 'West', 'South', 'South', 'West', 'West', 'West', 'West', 'West', 'West', 'West', 'Central', 'Central', 'Central', 'Central', 'Central', 'South', 'Central', 'Central', 'Central', 'Central', 'West', 'South', 'East', 'South', 'South', 'South', 'East', 'East', 'East', 'East', 'East', 'West', 'West', 'Central', 'South', 'South', 'South', 'East', 'East', 'East', 'East', 'East', 'West', 'West', 'West', 'West', 'West', 'West', 'West', 'East', 'South', 'East', 'Central', 'Central', 'Central', 'South', 'West', 'West', 'West', 'Central', 'Central', 'West', 'West', 'East', 'West', 'West', 'West', 'West', 'West', 'West', 'West', 'West', 'West', 'West', 'South', 'East', 'East', 'East', 'East', 'East', 'East', 'East', 'East', 'East', 'East', 'East', 'South', 'West', 'South', 'South', 'South', 'East', 'East', 'East', 'East', 'East', 'East', 'West', 'West', 'West', 'Central', 'Central', 'West', 'West', 'West', 'West', 'West', 'West', 'West', 'Central', 'South', 'South', 'South', 'South', 'Central', 'East', 'East', 'East', 'West', 'West', 'West', 'West', 'West', 'West', 'West', 'West', 'West', 'West', 'West', 'East', 'West', 'West', 'West', 'West', 'East', 'East', 'South', 'Central', 'Central', 'West', 'Central', 'Central', 'Central', 'Central', 'East', 'East', 'South', 'South', 'South', 'South', 'South', 'South', 'West', 'West', 'West', 'East', 'East', 'East', 'East', 'East', 'West', 'West', 'West', 'West', 'West', 'South', 'West', 'East', 'East', 'South', 'West', 'West', 'West', 'West', 'West', 'West', 'West', 'West', 'West', 'West', 'West', 'East', 'South', 'South', 'Central', 'East', 'East', 'East', 'West', 'West', 'South', 'West', 'South', 'East', 'East', 'West', 'Central', 'Central', 'South', 'South', 'South', 'South', 'West', 'West', 'West', 'South', 'South', 'West', 'Central', 'South', 'South', 'Central', 'Central', 'Central', 'East', 'East', 'East', 'Central', 'Central', 'East', 'East', 'East', 'East', 'East', 'West', 'West', 'West', 'East', 'South', 'West', 'West', 'West', 'East', 'Central', 'Central', 'Central', 'West', 'West', 'East', 'East', 'East', 'East', 'Central', 'Central', 'Central', 'Central', 'Central', 'Central', 'Central', 'West', 'South', 'West', 'East', 'East', 'East', 'East', 'East', 'East', 'East', 'East', 'East', 'East', 'East', 'East', 'East', 'East', 'East', 'South', 'Central', 'Central', 'Central', 'Central', 'East', 'East', 'East', 'East', 'East', 'West', 'East', 'East', 'West', 'West', 'West', 'West', 'Central', 'Central', 'West', 'West', 'West', 'East', 'West', 'South', 'South', 'East', 'South', 'West', 'West', 'Central', 'Central', 'South', 'West', 'West', 'East', 'East', 'East', 'East', 'Central', 'West', 'West', 'West', 'West', 'West', 'South', 'West', 'West', 'East', 'East', 'East', 'East', 'Central', 'Central', 'West', 'South', 'South', 'South', 'South', 'South', 'South', 'South', 'Central', 'West', 'South', 'East', 'East', 'Central', 'Central', 'Central', 'South', 'South', 'South', 'South', 'South', 'South', 'South', 'South', 'South', 'West', 'East', 'East', 'East', 'East', 'Central', 'East', 'West', 'Central', 'Central', 'Central', 'East', 'East', 'Central', 'Central', 'Central', 'Central', 'Central', 'West', 'East', 'East', 'Central', 'Central', 'Central', 'East', 'West', 'West', 'West', 'West', 'West', 'West', 'East', 'East', 'South', 'Central', 'Central', 'Central', 'West', 'South', 'South', 'South', 'West', 'West', 'Central', 'East', 'East', 'Central', 'West', 'West', 'West', 'West', 'West', 'East', 'East', 'West', 'West', 'West', 'East', 'South', 'West', 'West', 'West', 'West', 'Central', 'Central', 'Central', 'Central', 'Central', 'South', 'South', 'South', 'Central', 'South', 'East', 'East', 'Central', 'West', 'East', 'Central', 'South', 'Central', 'South', 'South', 'East', 'East', 'West', 'West', 'West', 'Central', 'West', 'West', 'West', 'West', 'West', 'West', 'West', 'East', 'East', 'East', 'West', 'West', 'East', 'South', 'West', 'West', 'West', 'West', 'South', 'West', 'West', 'East', 'East', 'East', 'East', 'West', 'West', 'Central', 'Central', 'Central', 'Central', 'East', 'West', 'West', 'West', 'West', 'West', 'West', 'West', 'East', 'East', 'Central', 'Central', 'Central', 'Central', 'West', 'West', 'South', 'East', 'Central', 'East', 'West', 'West', 'Central', 'Central', 'Central', 'Central', 'Central', 'Central', 'Central', 'Central', 'East', 'East', 'West', 'West', 'East', 'East', 'East', 'East', 'East', 'East', 'East', 'East', 'East', 'West', 'West', 'West', 'Central', 'South', 'East', 'East', 'East', 'East', 'West', 'West', 'West', 'West', 'West', 'West', 'West', 'West', 'West', 'East', 'East', 'East', 'West', 'Central', 'East', 'East', 'East', 'East', 'South', 'South', 'East', 'West', 'East', 'East', 'West', 'East', 'East', 'Central', 'Central', 'Central', 'Central', 'Central', 'Central', 'South', 'South', 'East', 'East', 'East', 'East', 'East', 'East', 'Central', 'East', 'East', 'East', 'South', 'South', 'South', 'South', 'West', 'West', 'Central', 'Central', 'Central', 'Central', 'Central', 'South', 'South', 'South', 'West', 'East', 'East', 'Central', 'Central', 'Central', 'Central', 'West', 'West', 'East', 'East', 'East', 'East', 'East', 'South', 'South', 'South', 'South', 'Central', 'Central', 'West', 'West', 'West', 'Central', 'East', 'East', 'East', 'East', 'East', 'East', 'Central', 'Central', 'Central', 'Central', 'East', 'East', 'East', 'Central', 'Central', 'West', 'West', 'East', 'East', 'East', 'East', 'East', 'East', 'East', 'East', 'South', 'South', 'West', 'East', 'East', 'East', 'Central', 'Central', 'Central', 'South', 'East', 'South', 'South', 'South', 'South', 'South', 'South', 'South', 'South', 'East', 'East', 'East', 'South', 'South', 'South', 'East', 'East', 'South', 'South', 'South', 'Central', 'Central', 'Central', 'South', 'South', 'South', 'South', 'East', 'East', 'East', 'East', 'Central', 'East', 'East', 'East', 'East', 'East', 'West', 'West', 'West', 'West', 'West', 'West', 'West', 'West', 'West', 'Central', 'Central', 'Central', 'East', 'East', 'East', 'East', 'East', 'East', 'Central', 'Central', 'Central', 'Central', 'Central', 'East', 'East', 'South', 'South', 'East', 'East', 'West', 'West', 'West', 'West', 'East', 'East', 'East', 'Central', 'Central', 'Central', 'East', 'West', 'West', 'Central', 'Central', 'Central', 'Central', 'Central', 'East', 'West', 'West', 'Central', 'East', 'East', 'East', 'East', 'Central', 'Central', 'Central', 'Central', 'Central', 'Central', 'West', 'East', 'East', 'West', 'West', 'South', 'West', 'West', 'West', 'West', 'West', 'South', 'South', 'South', 'South', 'South', 'South', 'South', 'South', 'West', 'West', 'East', 'Central', 'East', 'East', 'South', 'South', 'East', 'East', 'East', 'East', 'West', 'West', 'West', 'West', 'West', 'West', 'East', 'West', 'South', 'South', 'South', 'South', 'West', 'West', 'West', 'Central', 'Central', 'Central', 'Central', 'West', 'West', 'Central', 'Central', 'East', 'West', 'East', 'South', 'West', 'West', 'Central', 'West', 'South', 'South', 'South', 'East', 'East', 'East', 'Central', 'Central', 'Central', 'West', 'West', 'West', 'West', 'West', 'Central', 'Central', 'Central', 'Central', 'Central', 'Central', 'West', 'West', 'West', 'West', 'West', 'West', 'East', 'East', 'East', 'South', 'South', 'Central', 'East', 'East', 'East', 'East', 'South', 'West', 'West', 'South', 'Central', 'Central', 'Central', 'Central', 'West', 'East', 'East', 'East', 'Central', 'West', 'Central', 'Central', 'Central', 'West', 'West', 'Central', 'Central', 'Central', 'South', 'East', 'Central', 'East', 'East', 'East', 'West', 'West', 'West', 'South', 'South', 'West', 'West', 'West', 'South', 'East', 'West', 'West', 'West', 'East', 'Central', 'Central', 'Central', 'Central', 'South', 'South', 'South', 'South', 'West', 'West', 'West', 'East', 'West', 'West', 'West', 'Central', 'South', 'South', 'South', 'South', 'West', 'West', 'South', 'West', 'West', 'West', 'West', 'Central', 'Central', 'Central', 'West', 'East', 'East', 'East', 'East', 'East', 'East', 'East', 'East', 'East', 'East', 'East', 'East', 'East', 'East', 'East', 'East', 'South', 'East', 'East', 'Central', 'Central', 'Central', 'Central', 'Central', 'Central', 'East', 'South', 'West', 'West', 'West', 'West', 'West', 'East', 'Central', 'East', 'East', 'East', 'East', 'East', 'East', 'East', 'East', 'East', 'East', 'South', 'South', 'South', 'West', 'West', 'East', 'Central', 'Central', 'Central', 'Central', 'Central', 'Central', 'West', 'West', 'West', 'West', 'West', 'West', 'South', 'West', 'Central', 'Central', 'East', 'East', 'East', 'East', 'East', 'East', 'West', 'West', 'West', 'Central', 'Central', 'Central', 'Central', 'West', 'South', 'South', 'Central', 'Central', 'Central', 'Central', 'Central', 'East', 'East', 'Central', 'West', 'West', 'West', 'West', 'East', 'West', 'West', 'East', 'South', 'South', 'South', 'South', 'West', 'West', 'West', 'Central', 'West', 'Central', 'Central', 'South', 'South', 'South', 'South', 'South', 'West', 'West', 'West', 'West', 'West', 'West', 'Central', 'West', 'West', 'West', 'West', 'West', 'West', 'West', 'Central', 'West', 'Central', 'Central', 'South', 'South', 'Central', 'Central', 'West', 'West', 'West', 'West', 'West', 'Central', 'East', 'East', 'West', 'West', 'South', 'South', 'South', 'South', 'South', 'South', 'South', 'South', 'East', 'Central', 'Central', 'East', 'West', 'Central', 'Central', 'Central', 'West', 'Central', 'West', 'South', 'East', 'West', 'West', 'West', 'South', 'Central', 'Central', 'Central', 'West', 'West', 'East', 'West', 'East', 'South', 'South', 'East', 'East', 'West', 'West', 'West', 'West', 'West', 'East', 'East', 'East', 'East', 'Central', 'Central', 'Central', 'West', 'East', 'East', 'East', 'East', 'West', 'East', 'East', 'West', 'Central', 'Central', 'East', 'East', 'Central', 'West', 'West', 'West', 'West', 'South', 'South', 'West', 'West', 'West', 'West', 'South', 'South', 'South', 'South', 'South', 'South', 'East', 'West', 'West', 'West', 'West', 'West', 'Central', 'West', 'West', 'South', 'South', 'West', 'East', 'East', 'Central', 'Central', 'Central', 'Central', 'Central', 'Central', 'South', 'Central', 'South', 'South', 'South', 'South', 'South', 'West', 'Central', 'Central', 'West', 'South', 'South', 'Central', 'West', 'West', 'Central', 'East', 'Central', 'East', 'East', 'East', 'East', 'East', 'East', 'West', 'South', 'South', 'South', 'South', 'East', 'West', 'West', 'West', 'West', 'West', 'West', 'East', 'East', 'East', 'Central', 'East', 'East', 'East', 'East', 'East', 'East', 'West', 'South', 'South', 'South', 'East', 'East', 'East', 'East', 'East', 'East', 'Central', 'West', 'West', 'South', 'West', 'West', 'West', 'West', 'West', 'West', 'West', 'West', 'West', 'West', 'West', 'West', 'West', 'West', 'West', 'East', 'West', 'West', 'Central', 'Central', 'West', 'Central', 'Central', 'Central', 'Central', 'Central', 'Central', 'West', 'South', 'South', 'South', 'South', 'South', 'South', 'West', 'West', 'East', 'East', 'West', 'West', 'West', 'South', 'South', 'South', 'South', 'Central', 'East', 'East', 'East', 'East', 'East', 'West', 'Central', 'East', 'West', 'East', 'East', 'East', 'East', 'East', 'East', 'East', 'East', 'East', 'East', 'West', 'West', 'West', 'West', 'East', 'West', 'South', 'West', 'West', 'East', 'East', 'South', 'South', 'East', 'East', 'South', 'South', 'Central', 'Central', 'Central', 'Central', 'Central', 'South', 'South', 'South', 'South', 'Central', 'Central', 'South', 'East', 'East', 'East', 'East', 'East', 'East', 'Central', 'South', 'West', 'South', 'Central', 'South', 'South', 'East', 'West', 'West', 'Central', 'Central', 'South', 'South', 'East', 'East', 'East', 'West', 'West', 'West', 'West', 'East', 'West', 'Central', 'Central', 'Central', 'Central', 'Central', 'East', 'East', 'East', 'South', 'East', 'West', 'East', 'Central', 'Central', 'Central', 'Central', 'Central', 'West', 'West', 'South', 'South', 'South', 'South', 'West', 'West', 'West', 'East', 'East', 'South', 'South', 'East', 'Central', 'East', 'West', 'West', 'West', 'West', 'West', 'West', 'West', 'West', 'West', 'Central', 'Central', 'West', 'West', 'West', 'West', 'East', 'East', 'Central', 'West', 'West', 'West', 'East', 'East', 'West', 'West', 'East', 'East', 'East', 'East', 'East', 'East', 'West', 'East', 'West', 'West', 'West', 'West', 'West', 'East', 'West', 'West', 'East', 'East', 'East', 'West', 'West', 'South', 'Central', 'Central', 'Central', 'Central', 'Central', 'Central', 'Central', 'Central', 'Central', 'West', 'East', 'East', 'South', 'Central', 'South', 'South', 'South', 'South', 'West', 'West', 'South', 'South', 'West', 'West', 'South', 'West', 'West', 'West', 'East', 'West', 'Central', 'East', 'East', 'West', 'Central', 'Central', 'Central', 'West', 'West', 'West', 'South', 'West', 'West', 'Central', 'Central', 'East', 'Central', 'Central', 'Central', 'Central', 'Central', 'South', 'South', 'Central', 'West', 'West', 'West', 'East', 'Central', 'South', 'South', 'South', 'Central', 'East', 'East', 'West', 'West', 'East', 'East', 'Central', 'Central', 'East', 'East', 'West', 'West', 'West', 'West', 'West', 'Central', 'East', 'East', 'South', 'South', 'East', 'East', 'West', 'East', 'East', 'South', 'South', 'South', 'East', 'South', 'South', 'South', 'South', 'Central', 'Central', 'Central', 'West', 'East', 'East', 'West', 'Central', 'West', 'West', 'East', 'East', 'West', 'West', 'West', 'East', 'East', 'East', 'East', 'East', 'South', 'South', 'Central', 'West', 'West', 'West', 'West', 'West', 'Central', 'West', 'South', 'Central', 'Central', 'Central', 'Central', 'Central', 'Central', 'Central', 'Central', 'Central', 'Central', 'South', 'South', 'East', 'West', 'West', 'West', 'East', 'East', 'East', 'Central', 'Central', 'West', 'West', 'East', 'West', 'West', 'West', 'West', 'Central', 'West', 'East', 'East', 'West', 'West', 'West', 'East', 'East', 'East', 'East', 'East', 'East', 'East', 'East', 'East', 'East', 'East', 'Central', 'Central', 'South', 'South', 'South', 'South', 'South', 'West', 'West', 'West', 'West', 'West', 'West', 'West', 'West', 'West', 'West', 'Central', 'Central', 'Central', 'Central', 'Central', 'Central', 'South', 'Central', 'Central', 'Central', 'Central', 'Central', 'Central', 'Central', 'South', 'South', 'South', 'South', 'West', 'West', 'West', 'West', 'West', 'West', 'West', 'West', 'East', 'East', 'East', 'East', 'West', 'Central', 'South', 'South', 'South', 'South', 'South', 'South', 'South', 'West', 'East', 'East', 'Central', 'Central', 'East', 'East', 'East', 'West', 'West', 'East', 'Central', 'Central', 'Central', 'West', 'West', 'West', 'West', 'West', 'West', 'West', 'West', 'West', 'East', 'Central', 'West', 'West', 'East', 'East', 'East', 'East', 'East', 'East', 'South', 'South', 'South', 'South', 'South', 'South', 'South', 'East', 'East', 'East', 'West', 'West', 'West', 'West', 'West', 'West', 'West', 'West', 'West', 'South', 'South', 'West', 'Central', 'West', 'West', 'West', 'West', 'West', 'West', 'West', 'West', 'Central', 'Central', 'Central', 'Central', 'Central', 'East', 'East', 'East', 'East', 'East', 'East', 'Central', 'Central', 'East', 'East', 'East', 'East', 'Central', 'West', 'West', 'West', 'Central', 'Central', 'West', 'West', 'West', 'South', 'South', 'South', 'West', 'West', 'West', 'West', 'Central', 'East', 'East', 'East', 'East', 'South', 'South', 'South', 'South', 'South', 'West', 'Central', 'East', 'East', 'East', 'East', 'Central', 'Central', 'West', 'West', 'West', 'West', 'West', 'West', 'West', 'East', 'Central', 'Central', 'Central', 'Central', 'West', 'West', 'West', 'Central', 'Central', 'Central', 'East', 'South', 'East', 'East', 'West', 'West', 'West', 'West', 'West', 'East', 'Central', 'Central', 'West', 'West', 'West', 'Central', 'Central', 'Central', 'South', 'South', 'South', 'South', 'South', 'East', 'East', 'East', 'East', 'West', 'West', 'West', 'West', 'West', 'South', 'West', 'West', 'East', 'East', 'Central', 'Central', 'South', 'West', 'West', 'West', 'West', 'East', 'Central', 'Central', 'Central', 'West', 'South', 'South', 'East', 'East', 'East', 'East', 'East', 'East', 'East', 'East', 'East', 'East', 'West', 'South', 'East', 'East', 'East', 'East', 'East', 'Central', 'Central', 'East', 'East', 'Central', 'Central', 'Central', 'South', 'South', 'South', 'West', 'West', 'West', 'Central', 'Central', 'East', 'East', 'East', 'East', 'East', 'Central', 'Central', 'Central', 'Central', 'Central', 'West', 'East', 'East', 'West', 'South', 'South', 'South', 'West', 'East', 'West', 'West', 'West', 'East', 'East', 'East', 'West', 'Central', 'East', 'East', 'East', 'East', 'Central', 'South', 'West', 'Central', 'Central', 'East', 'West', 'West', 'East', 'South', 'East', 'West', 'West', 'West', 'West', 'East', 'East', 'East', 'Central', 'East', 'South', 'South', 'South', 'South', 'South', 'South', 'East', 'South', 'South', 'East', 'East', 'Central', 'South', 'Central', 'West', 'South', 'East', 'East', 'East', 'West', 'South', 'West', 'West', 'East', 'East', 'East', 'West', 'West', 'West', 'West', 'West', 'South', 'South', 'Central', 'South', 'South', 'South', 'East', 'Central', 'Central', 'Central', 'Central', 'East', 'Central', 'Central', 'West', 'West', 'Central', 'East', 'East', 'East', 'East', 'East', 'West', 'South', 'South', 'South', 'South', 'South', 'South', 'South', 'South', 'East', 'East', 'East', 'East', 'West', 'West', 'West', 'West', 'West', 'West', 'East', 'South', 'East', 'East', 'West', 'East', 'Central', 'Central', 'West', 'West', 'West', 'West', 'Central', 'South', 'West', 'West', 'West', 'West', 'West', 'Central', 'Central', 'East', 'South', 'South', 'Central', 'South', 'South', 'Central', 'Central', 'Central', 'Central', 'Central', 'Central', 'West', 'South', 'South', 'East', 'East', 'East', 'East', 'East', 'West', 'West', 'West', 'West', 'West', 'West', 'West', 'West', 'South', 'East', 'West', 'West', 'West', 'West', 'West', 'West', 'South', 'Central', 'East', 'West', 'West', 'West', 'West', 'West', 'West', 'West', 'West', 'West', 'South', 'South', 'South', 'South', 'East', 'East', 'East', 'East', 'South', 'South', 'South', 'South', 'South', 'South', 'South', 'Central', 'Central', 'Central', 'West', 'West', 'West', 'West', 'West', 'Central', 'East', 'East', 'East', 'East', 'Central', 'West', 'East', 'East', 'East', 'South', 'South', 'South', 'South', 'East', 'East', 'East', 'Central', 'East', 'West', 'West', 'West', 'West', 'West', 'West', 'West', 'West', 'West', 'West', 'West', 'Central', 'Central', 'Central', 'Central', 'Central', 'Central', 'Central', 'Central', 'Central', 'East', 'East', 'East', 'East', 'West', 'West', 'West', 'West', 'West', 'West', 'South', 'South', 'South', 'South', 'South', 'West', 'West', 'West', 'West', 'East', 'East', 'East', 'East', 'East', 'East', 'East', 'South', 'South', 'West', 'Central', 'East', 'East', 'Central', 'Central', 'West', 'East', 'Central', 'Central', 'Central', 'Central', 'South', 'South', 'West', 'West', 'West', 'West', 'West', 'West', 'West', 'Central', 'West', 'West', 'East', 'East', 'East', 'West', 'Central', 'Central', 'Central', 'East', 'West', 'East', 'East', 'East', 'East', 'East', 'East', 'West', 'Central', 'Central', 'Central', 'Central', 'Central', 'Central', 'East', 'East', 'East', 'East', 'Central', 'Central', 'Central', 'Central', 'Central', 'Central', 'Central', 'East', 'South', 'West', 'West', 'West', 'West', 'East', 'East', 'West', 'East', 'East', 'South', 'East', 'East', 'East', 'East', 'East', 'East', 'West', 'West', 'West', 'West', 'West', 'West', 'East', 'East', 'East', 'East', 'East', 'East', 'East', 'West', 'West', 'Central', 'Central', 'Central', 'Central', 'Central', 'Central', 'Central', 'South', 'South', 'South', 'East', 'West', 'West', 'West', 'West', 'West', 'South', 'South', 'West', 'West', 'East', 'West', 'West', 'East', 'West', 'West', 'West', 'West', 'West', 'West', 'West', 'West', 'West', 'West', 'West', 'West', 'Central', 'Central', 'Central', 'East', 'Central', 'Central', 'Central', 'Central', 'Central', 'Central', 'West', 'Central', 'West', 'Central', 'West', 'West', 'West', 'East', 'East', 'West', 'Central', 'Central', 'Central', 'Central', 'West', 'West', 'West', 'West', 'Central', 'West', 'West', 'South', 'East', 'East', 'East', 'East', 'West', 'West', 'West', 'West', 'Central', 'Central', 'South', 'West', 'Central', 'Central', 'West', 'West', 'West', 'East', 'East', 'East', 'West', 'Central', 'East', 'East', 'East', 'East', 'West', 'West', 'West', 'West', 'West', 'West', 'West', 'West', 'South', 'West', 'West', 'West', 'Central', 'East', 'West', 'West', 'West', 'East', 'East', 'Central', 'Central', 'Central', 'Central', 'Central', 'East', 'East', 'East', 'East', 'East', 'South', 'South', 'South', 'West', 'South', 'South', 'South', 'Central', 'Central', 'East', 'East', 'East', 'East', 'East', 'South', 'South', 'South', 'South', 'South', 'Central', 'Central', 'South', 'South', 'South', 'South', 'Central', 'Central', 'Central', 'Central', 'Central', 'Central', 'West', 'West', 'East', 'East', 'East', 'East', 'East', 'South', 'South', 'West', 'West', 'South', 'South', 'South', 'South', 'South', 'South', 'South', 'East', 'East', 'West', 'West', 'South', 'Central', 'Central', 'East', 'Central', 'Central', 'Central', 'Central', 'West', 'West', 'West', 'West', 'West', 'West', 'Central', 'Central', 'Central', 'South', 'South', 'East', 'East', 'East', 'Central', 'Central', 'Central', 'Central', 'East', 'West', 'East', 'East', 'East', 'South', 'South', 'South', 'South', 'South', 'South', 'Central', 'Central', 'Central', 'Central', 'South', 'South', 'South', 'South', 'South', 'South', 'East', 'West', 'East', 'South', 'South', 'South', 'South', 'West', 'Central', 'West', 'West', 'West', 'West', 'Central', 'Central', 'Central', 'West', 'Central', 'Central', 'South', 'South', 'Central', 'Central', 'Central', 'Central', 'South', 'South', 'East', 'Central', 'Central', 'East', 'East', 'South', 'South', 'Central', 'Central', 'East', 'East', 'East', 'East', 'East', 'East', 'East', 'East', 'South', 'South', 'South', 'West', 'South', 'West', 'South', 'South', 'South', 'South', 'East', 'East', 'East', 'East', 'East', 'East', 'East', 'East', 'East', 'East', 'South', 'West', 'West', 'West', 'Central', 'Central', 'Central', 'Central', 'South', 'West', 'West', 'West', 'West', 'West', 'West', 'Central', 'West', 'West', 'West', 'West', 'South', 'Central', 'Central', 'Central', 'Central', 'West', 'Central', 'East', 'East', 'West', 'East', 'East', 'East', 'East', 'West', 'East', 'East', 'East', 'East', 'East', 'South', 'Central', 'East', 'West', 'East', 'East', 'East', 'West', 'East', 'East', 'East', 'East', 'East', 'West', 'South', 'South', 'Central', 'Central', 'Central', 'Central', 'West', 'West', 'West', 'West', 'West', 'East', 'East', 'East', 'East', 'East', 'West', 'Central', 'West', 'East', 'Central', 'East', 'Central', 'Central', 'Central', 'Central', 'West', 'East', 'West', 'Central', 'East', 'West', 'East', 'East', 'East', 'East', 'East', 'East', 'East', 'East', 'East', 'West', 'Central', 'Central', 'Central', 'West', 'Central', 'Central', 'Central', 'Central', 'East', 'East', 'Central', 'West', 'West', 'East', 'East', 'West', 'Central', 'South', 'South', 'South', 'South', 'South', 'East', 'East', 'West', 'East', 'West', 'West', 'Central', 'East', 'East', 'Central', 'West', 'West', 'West', 'West', 'South', 'South', 'South', 'West', 'Central', 'Central', 'Central', 'West', 'East', 'East', 'East', 'East', 'East', 'West', 'West', 'West', 'Central', 'Central', 'Central', 'Central', 'Central', 'Central', 'Central', 'East', 'Central', 'South', 'South', 'South', 'East', 'Central', 'East', 'East', 'East', 'East', 'Central', 'West', 'East', 'East', 'East', 'East', 'East', 'West', 'Central', 'Central', 'Central', 'Central', 'South', 'West', 'East', 'East', 'East', 'West', 'West', 'East', 'East', 'East', 'South', 'South', 'South', 'West', 'West', 'West', 'Central', 'Central', 'Central', 'South', 'South', 'South', 'South', 'Central', 'Central', 'Central', 'Central', 'Central', 'Central', 'South', 'South', 'Central', 'Central', 'East', 'East', 'East', 'East', 'Central', 'Central', 'East', 'West', 'South', 'East', 'Central', 'Central', 'South', 'Central', 'Central', 'Central', 'Central', 'West', 'East', 'West', 'West', 'East', 'East', 'East', 'West', 'West', 'South', 'South', 'South', 'South', 'West', 'West', 'West', 'West', 'West', 'West', 'Central', 'Central', 'Central', 'East', 'East', 'East', 'East', 'East', 'West', 'West', 'West', 'West', 'West', 'West', 'West', 'West', 'East', 'Central', 'South', 'West', 'South', 'South', 'West', 'East', 'East', 'East', 'East', 'East', 'East', 'East', 'East', 'East', 'South', 'South', 'West', 'Central', 'South', 'Central', 'West', 'South', 'South', 'South', 'South', 'West', 'South', 'South', 'South', 'West', 'West', 'West', 'West', 'West', 'West', 'West', 'West', 'Central', 'East', 'South', 'Central', 'Central', 'Central', 'West', 'West', 'East', 'West', 'West', 'West', 'East', 'East', 'Central', 'Central', 'Central', 'Central', 'Central', 'Central', 'Central', 'Central', 'South', 'South', 'South', 'West', 'West', 'East', 'West', 'West', 'West', 'East', 'East', 'East', 'East', 'West', 'Central', 'West', 'South', 'South', 'South', 'South', 'South', 'South', 'South', 'East', 'Central', 'West', 'East', 'East', 'West', 'West', 'West', 'West', 'West', 'West', 'West', 'East', 'Central', 'Central', 'Central', 'Central', 'Central', 'Central', 'Central', 'South', 'South', 'West', 'South', 'South', 'South', 'South', 'South', 'Central', 'West', 'West', 'West', 'East', 'Central', 'South', 'East', 'East', 'South', 'Central', 'West', 'West', 'East', 'East', 'West', 'West', 'West', 'East', 'East', 'South', 'South', 'East', 'East', 'East', 'East', 'East', 'East', 'East', 'South', 'South', 'West', 'West', 'Central', 'Central', 'Central', 'Central', 'East', 'West', 'West', 'South', 'South', 'East', 'East', 'Central', 'Central', 'Central', 'East', 'West', 'Central', 'Central', 'West', 'West', 'South', 'West', 'West', 'West', 'South', 'South', 'South', 'Central', 'West', 'West', 'West', 'West', 'West', 'West', 'East', 'East', 'Central', 'Central', 'Central', 'East', 'East', 'West', 'East', 'East', 'East', 'East', 'West', 'Central', 'Central', 'West', 'East', 'East', 'East', 'East', 'East', 'Central', 'South', 'South', 'South', 'South', 'East', 'East', 'Central', 'Central', 'Central', 'Central', 'West', 'South', 'East', 'South', 'South', 'South', 'South', 'South', 'West', 'West', 'West', 'West', 'West', 'Central', 'East', 'East', 'East', 'East', 'South', 'South', 'South', 'South', 'East', 'East', 'East', 'West', 'West', 'West', 'West', 'South', 'East', 'East', 'East', 'East', 'East', 'South', 'Central', 'Central', 'West', 'West', 'West', 'West', 'East', 'East', 'Central', 'Central', 'Central', 'East', 'East', 'West', 'West', 'Central', 'South', 'South', 'East', 'East', 'East', 'West', 'West', 'Central', 'Central', 'South', 'West', 'Central', 'West', 'West', 'West', 'West', 'South', 'South', 'Central', 'Central', 'Central', 'Central', 'East', 'East', 'East', 'West', 'West', 'East', 'South', 'South', 'South', 'South', 'Central', 'Central', 'Central', 'Central', 'Central', 'South', 'East', 'South', 'South', 'South', 'Central', 'Central', 'Central', 'West', 'Central', 'Central', 'Central', 'Central', 'Central', 'Central', 'East', 'East', 'West', 'West', 'West', 'West', 'South', 'West', 'West', 'Central', 'West', 'West', 'East', 'East', 'West', 'South', 'South', 'South', 'South', 'South', 'South', 'West', 'South', 'South', 'Central', 'Central', 'Central', 'Central', 'South', 'South', 'South', 'Central', 'East', 'East', 'South', 'East', 'East', 'East', 'East', 'West', 'Central', 'Central', 'Central', 'Central', 'East', 'Central', 'Central', 'Central', 'Central', 'Central', 'Central', 'South', 'South', 'South', 'South', 'Central', 'Central', 'West', 'South', 'South', 'South', 'South', 'Central', 'Central', 'Central', 'East', 'West', 'South', 'South', 'West', 'West', 'Central', 'Central', 'Central', 'Central', 'East', 'South', 'Central', 'East', 'West', 'West', 'West', 'West', 'West', 'West', 'South', 'South', 'East', 'West', 'East', 'East', 'East', 'East', 'East', 'East', 'East', 'West', 'West', 'Central', 'South', 'Central', 'Central', 'East', 'East', 'Central', 'Central', 'West', 'South', 'West', 'West', 'West', 'West', 'West', 'West', 'West', 'East', 'West', 'West', 'West', 'West', 'West', 'West', 'East', 'West', 'West', 'West', 'West', 'West', 'East', 'Central', 'Central', 'Central', 'South', 'East', 'West', 'West', 'East', 'Central', 'Central', 'Central', 'South', 'East', 'East', 'Central', 'South', 'South', 'West', 'West', 'South', 'South', 'South', 'West', 'Central', 'Central', 'South', 'East', 'South', 'East', 'East', 'Central', 'Central', 'Central', 'Central', 'Central', 'Central', 'Central', 'Central', 'Central', 'Central', 'Central', 'Central', 'Central', 'Central', 'Central', 'Central', 'Central', 'South', 'South', 'South', 'South', 'West', 'East', 'East', 'East', 'East', 'West', 'West', 'West', 'West', 'East', 'Central', 'Central', 'West', 'Central', 'West', 'East', 'East', 'East', 'East', 'West', 'South', 'South', 'South', 'South', 'South', 'Central', 'West', 'East', 'West', 'West', 'West', 'Central', 'East', 'East', 'East', 'Central', 'Central', 'West', 'West', 'West', 'East', 'West', 'East', 'East', 'East', 'South', 'South', 'Central', 'Central', 'Central', 'Central', 'West', 'West', 'West', 'South', 'South', 'West', 'West', 'West', 'West', 'West', 'West', 'South', 'East', 'East', 'West', 'West', 'West', 'West', 'West', 'West', 'West', 'West', 'East', 'East', 'East', 'East', 'East', 'Central', 'Central', 'West', 'West', 'West', 'West', 'West', 'West', 'East', 'East', 'East', 'East', 'West', 'East', 'East', 'Central', 'West', 'Central', 'Central', 'West', 'West', 'West', 'East', 'West', 'Central', 'Central', 'East', 'East', 'South', 'South', 'South', 'Central', 'Central', 'Central', 'Central', 'West', 'West', 'West', 'West', 'West', 'West', 'West', 'West', 'West', 'West', 'West', 'East', 'South', 'South', 'South', 'West', 'West', 'West', 'West', 'West', 'West', 'East', 'East', 'Central', 'West', 'South', 'South', 'Central', 'Central', 'Central', 'Central', 'Central', 'Central', 'Central', 'West', 'Central', 'Central', 'South', 'South', 'West', 'East', 'East', 'East', 'East', 'East', 'East', 'South', 'West', 'South', 'South', 'East', 'East', 'East', 'West', 'South', 'South', 'West', 'Central', 'South', 'Central', 'Central', 'East', 'West', 'East', 'East', 'Central', 'East', 'East', 'East', 'Central', 'Central', 'Central', 'Central', 'Central', 'Central', 'Central', 'Central', 'Central', 'West', 'West', 'West', 'West', 'West', 'East', 'Central', 'Central', 'Central', 'Central', 'East', 'East', 'Central', 'East', 'East', 'East', 'Central', 'Central', 'West', 'West', 'West', 'West', 'West', 'West', 'West', 'East', 'West', 'South', 'South', 'South', 'South', 'West', 'West', 'West', 'West', 'West', 'West', 'West', 'East', 'East', 'East', 'East', 'East', 'West', 'West', 'West', 'West', 'Central', 'Central', 'Central', 'Central', 'Central', 'East', 'East', 'East', 'East', 'West', 'West', 'West', 'West', 'Central', 'East', 'East', 'East', 'East', 'East', 'East', 'East', 'West', 'West', 'West', 'East', 'Central', 'Central', 'South', 'South', 'South', 'South', 'South', 'East', 'West', 'East', 'East', 'East', 'East', 'Central', 'Central', 'West', 'East', 'East', 'East', 'East', 'East', 'East', 'Central', 'South', 'West', 'East', 'East', 'East', 'Central', 'Central', 'East', 'East', 'East', 'East', 'West', 'West', 'Central', 'West', 'West', 'West', 'South', 'South', 'Central', 'Central', 'West', 'West', 'West', 'West', 'East', 'West', 'East', 'Central', 'Central', 'Central', 'East', 'West', 'West', 'West', 'West', 'East', 'West', 'East', 'Central', 'East', 'East', 'South', 'South', 'Central', 'Central', 'Central', 'Central', 'West', 'West', 'West', 'West', 'West', 'West', 'West', 'South', 'South', 'South', 'West', 'West', 'East', 'West', 'South', 'East', 'East', 'West', 'East', 'East', 'East', 'East', 'East', 'East', 'East', 'East', 'Central', 'Central', 'Central', 'Central', 'Central', 'Central', 'Central', 'Central', 'East', 'West', 'Central', 'Central', 'East', 'East', 'West', 'South', 'West', 'West', 'Central', 'Central', 'Central', 'West', 'West', 'Central', 'Central', 'Central', 'Central', 'West', 'East', 'East', 'East', 'East', 'Central', 'Central', 'Central', 'Central', 'East', 'Central', 'Central', 'Central', 'South', 'Central', 'East', 'East', 'East', 'West', 'West', 'Central', 'Central', 'Central', 'West', 'West', 'West', 'West', 'West', 'Central', 'West', 'Central', 'East', 'East', 'East', 'East', 'Central', 'West', 'East', 'East', 'West', 'Central', 'Central', 'Central', 'Central', 'Central', 'Central', 'East', 'East', 'East', 'West', 'East', 'South', 'West', 'East', 'East', 'East', 'Central', 'East', 'East', 'East', 'East', 'East', 'East', 'West', 'South', 'South', 'South', 'Central', 'East', 'East', 'East', 'East', 'East', 'West', 'Central', 'Central', 'Central', 'East', 'East', 'East', 'East', 'East', 'East', 'Central', 'South', 'West', 'Central', 'Central', 'Central', 'Central', 'Central', 'Central', 'East', 'East', 'West', 'West', 'West', 'West', 'West', 'Central', 'South', 'South', 'East', 'South', 'East', 'East', 'East', 'East', 'West', 'West', 'South', 'West', 'West', 'West', 'West', 'West', 'East', 'East', 'East', 'East', 'East', 'East', 'Central', 'Central', 'Central', 'Central', 'Central', 'East', 'East', 'East', 'East', 'Central', 'East', 'East', 'East', 'West', 'West', 'West', 'South', 'West', 'West', 'West', 'West', 'West', 'West', 'West', 'Central', 'Central', 'West', 'West', 'West', 'West', 'West', 'West', 'East', 'East', 'East', 'East', 'West', 'West', 'West', 'West', 'West', 'West', 'West', 'West', 'West', 'West', 'South', 'South', 'West', 'East', 'East', 'Central', 'West', 'Central', 'East', 'East', 'West', 'West', 'West', 'West', 'West', 'West', 'West', 'West', 'Central', 'South', 'South', 'East', 'Central', 'East', 'West', 'West', 'East', 'Central', 'East', 'West', 'West', 'West', 'West', 'East', 'East', 'East', 'West', 'West', 'West', 'West', 'West', 'East', 'East', 'East', 'East', 'East', 'West', 'East', 'Central', 'Central', 'East', 'Central', 'East', 'East', 'East', 'Central', 'West', 'East', 'East', 'East', 'West', 'West', 'West', 'South', 'South', 'South', 'East', 'Central', 'West', 'West', 'West', 'West', 'East', 'West', 'East', 'Central', 'West', 'West', 'Central', 'Central', 'East', 'Central', 'Central', 'West', 'South', 'South', 'South', 'South', 'South', 'South', 'West', 'South', 'West', 'West', 'West', 'West', 'East', 'East', 'Central', 'West', 'South', 'South', 'South', 'East', 'South', 'Central', 'Central', 'Central', 'Central', 'Central', 'Central', 'East', 'East', 'East', 'East', 'East', 'South', 'South', 'Central', 'Central', 'Central', 'Central', 'Central', 'Central', 'Central', 'Central', 'Central', 'East', 'East', 'East', 'East', 'East', 'West', 'East', 'East', 'East', 'South', 'South', 'South', 'Central', 'West', 'West', 'East', 'East', 'East', 'East', 'South', 'South', 'South', 'South', 'South', 'South', 'South', 'West', 'West', 'West', 'West', 'West', 'East', 'East', 'South', 'Central', 'Central', 'Central', 'East', 'Central', 'Central', 'West', 'West', 'West', 'West', 'West', 'West', 'West', 'Central', 'Central', 'Central', 'West', 'West', 'West', 'West', 'East', 'East', 'East', 'East', 'West', 'West', 'South', 'West', 'Central', 'Central', 'Central', 'Central', 'Central', 'Central', 'Central', 'Central', 'East', 'East', 'East', 'East', 'East', 'Central', 'Central', 'East', 'East', 'East', 'East', 'East', 'East', 'East', 'East', 'South', 'South', 'West', 'West', 'West', 'Central', 'East', 'East', 'East', 'Central', 'Central', 'Central', 'Central', 'Central', 'Central', 'Central', 'East', 'East', 'East', 'West', 'West', 'West', 'Central', 'Central', 'West', 'West', 'West', 'West', 'West', 'West', 'South', 'West', 'West', 'Central', 'Central', 'Central', 'Central', 'East', 'Central', 'Central', 'East', 'Central', 'East', 'East', 'East', 'East', 'East', 'West', 'West', 'West', 'West', 'West', 'East', 'East', 'East', 'East', 'West', 'East', 'East', 'East', 'West', 'West', 'West', 'West', 'East', 'East', 'Central', 'Central', 'Central', 'Central', 'Central', 'West', 'West', 'West', 'West', 'East', 'East', 'East', 'West', 'South', 'Central', 'Central', 'East', 'East', 'East', 'East', 'East', 'East', 'East', 'South', 'South', 'Central', 'West', 'West', 'West', 'West', 'West', 'West', 'West', 'South', 'East', 'Central', 'Central', 'East', 'East', 'West', 'South', 'South', 'South', 'West', 'West', 'West', 'West']\n"
     ]
    }
   ],
   "metadata": {}
  },
  {
   "cell_type": "markdown",
   "source": [
    "# count of Region with greater cells"
   ],
   "metadata": {}
  },
  {
   "cell_type": "code",
   "execution_count": 55,
   "source": [
    "s_count=l.count(\"South\")\r\n",
    "w_count=l.count(\"West\")\r\n",
    "max_count_of_region={\"South\":0,\"West\":0,\"East\":0,\"Central\":0}\r\n",
    "for i in l:\r\n",
    "    max_count_of_region[i]+=1\r\n",
    "print(max_count_of_region)"
   ],
   "outputs": [
    {
     "output_type": "stream",
     "name": "stdout",
     "text": [
      "{'South': 1620, 'West': 3203, 'East': 2848, 'Central': 2323}\n"
     ]
    }
   ],
   "metadata": {}
  },
  {
   "cell_type": "markdown",
   "source": [
    "# State Names with respect to Regions "
   ],
   "metadata": {}
  },
  {
   "cell_type": "code",
   "execution_count": 56,
   "source": [
    "state_mapping={\"South\":[],\"West\":[],\"East\":[],\"Central\":[]}"
   ],
   "outputs": [],
   "metadata": {}
  },
  {
   "cell_type": "code",
   "execution_count": 57,
   "source": [
    "for i in range(len(state_list)):\r\n",
    "    state_mapping[l[i]].append(state_list[i])"
   ],
   "outputs": [
    {
     "output_type": "error",
     "ename": "NameError",
     "evalue": "name 'state_list' is not defined",
     "traceback": [
      "\u001b[1;31m---------------------------------------------------------------------------\u001b[0m",
      "\u001b[1;31mNameError\u001b[0m                                 Traceback (most recent call last)",
      "\u001b[1;32m~\\AppData\\Local\\Temp/ipykernel_9696/1503470082.py\u001b[0m in \u001b[0;36m<module>\u001b[1;34m\u001b[0m\n\u001b[1;32m----> 1\u001b[1;33m \u001b[1;32mfor\u001b[0m \u001b[0mi\u001b[0m \u001b[1;32min\u001b[0m \u001b[0mrange\u001b[0m\u001b[1;33m(\u001b[0m\u001b[0mlen\u001b[0m\u001b[1;33m(\u001b[0m\u001b[0mstate_list\u001b[0m\u001b[1;33m)\u001b[0m\u001b[1;33m)\u001b[0m\u001b[1;33m:\u001b[0m\u001b[1;33m\u001b[0m\u001b[1;33m\u001b[0m\u001b[0m\n\u001b[0m\u001b[0;32m      2\u001b[0m     \u001b[0mstate_mapping\u001b[0m\u001b[1;33m[\u001b[0m\u001b[0ml\u001b[0m\u001b[1;33m[\u001b[0m\u001b[0mi\u001b[0m\u001b[1;33m]\u001b[0m\u001b[1;33m]\u001b[0m\u001b[1;33m.\u001b[0m\u001b[0mappend\u001b[0m\u001b[1;33m(\u001b[0m\u001b[0mstate_list\u001b[0m\u001b[1;33m[\u001b[0m\u001b[0mi\u001b[0m\u001b[1;33m]\u001b[0m\u001b[1;33m)\u001b[0m\u001b[1;33m\u001b[0m\u001b[1;33m\u001b[0m\u001b[0m\n",
      "\u001b[1;31mNameError\u001b[0m: name 'state_list' is not defined"
     ]
    }
   ],
   "metadata": {}
  },
  {
   "cell_type": "code",
   "execution_count": null,
   "source": [
    "print(\"South:\")\r\n",
    "print(set(state_mapping[\"South\"]))\r\n",
    "print(\"West\")\r\n",
    "print(set(state_mapping[\"West\"]))\r\n",
    "print(\"East\")\r\n",
    "print(set(state_mapping[\"East\"]))\r\n",
    "print(\"Central\")\r\n",
    "print(set(state_mapping[\"Central\"]))"
   ],
   "outputs": [
    {
     "output_type": "stream",
     "name": "stdout",
     "text": [
      "South:\n",
      "{'Georgia', 'Alabama', 'Mississippi', 'North Carolina', 'Tennessee', 'Florida', 'Kentucky', 'Louisiana', 'Virginia', 'Arkansas', 'South Carolina'}\n",
      "West\n",
      "{'California', 'Oregon', 'Colorado', 'Montana', 'Washington', 'New Mexico', 'Arizona', 'Idaho', 'Nevada', 'Wyoming', 'Utah'}\n",
      "East\n",
      "{'Delaware', 'Vermont', 'Maine', 'West Virginia', 'Ohio', 'New Jersey', 'New York', 'Rhode Island', 'District of Columbia', 'Pennsylvania', 'Massachusetts', 'New Hampshire', 'Maryland', 'Connecticut'}\n",
      "Central\n",
      "{'Indiana', 'South Dakota', 'Minnesota', 'Illinois', 'Oklahoma', 'Iowa', 'Kansas', 'North Dakota', 'Missouri', 'Nebraska', 'Wisconsin', 'Michigan', 'Texas'}\n"
     ]
    }
   ],
   "metadata": {}
  },
  {
   "cell_type": "markdown",
   "source": [
    "# Max count  of west with states count"
   ],
   "metadata": {}
  },
  {
   "cell_type": "code",
   "execution_count": null,
   "source": [
    "West_count_States_mapping = {}\r\n",
    "print()\r\n",
    "for i in set(state_mapping[\"West\"]):\r\n",
    "    West_count_States_mapping[i]=0\r\n",
    "for i in state_mapping[\"West\"]:\r\n",
    "    West_count_States_mapping[i]+=1\r\n",
    "print(\"Maximum orders placed Region is West:\",max_count_of_region[\"West\"])\r\n",
    "print()\r\n",
    "print(West_count_States_mapping )   "
   ],
   "outputs": [
    {
     "output_type": "stream",
     "name": "stdout",
     "text": [
      "Maximum orders placed Region is West: 3203\n",
      "\n",
      "{'California': 2001, 'Oregon': 124, 'Colorado': 182, 'Montana': 15, 'Washington': 506, 'New Mexico': 37, 'Arizona': 224, 'Idaho': 21, 'Nevada': 39, 'Wyoming': 1, 'Utah': 53}\n"
     ]
    }
   ],
   "metadata": {}
  },
  {
   "cell_type": "code",
   "execution_count": 58,
   "source": [
    "temp=data.Region.value_counts()\r\n",
    "print(temp)\r\n",
    "y=data[\"Region\"]\r\n",
    "sns.countplot(x=y)\r\n"
   ],
   "outputs": [
    {
     "output_type": "stream",
     "name": "stdout",
     "text": [
      "West       3203\n",
      "East       2848\n",
      "Central    2323\n",
      "South      1620\n",
      "Name: Region, dtype: int64\n"
     ]
    },
    {
     "output_type": "execute_result",
     "data": {
      "text/plain": [
       "<AxesSubplot:xlabel='Region', ylabel='count'>"
      ]
     },
     "metadata": {},
     "execution_count": 58
    },
    {
     "output_type": "display_data",
     "data": {
      "text/plain": [
       "<Figure size 432x288 with 1 Axes>"
      ],
      "image/png": "[encoded data removed]"
     },
     "metadata": {
      "needs_background": "light"
     }
    }
   ],
   "metadata": {}
  },
  {
   "cell_type": "code",
   "execution_count": 92,
   "source": [
    "temp=data.groupby([\"Category\",\"Region\"]).size()\r\n",
    "temp=temp.unstack()\r\n",
    "print(temp)\r\n",
    "temp.plot(kind=\"pie\",figsize=[20,20],subplots=True)"
   ],
   "outputs": [
    {
     "output_type": "stream",
     "name": "stdout",
     "text": [
      "Region           Central  East  South  West\n",
      "Category                                   \n",
      "Furniture            481   601    332   707\n",
      "Office Supplies     1422  1712    995  1897\n",
      "Technology           420   535    293   599\n"
     ]
    },
    {
     "output_type": "execute_result",
     "data": {
      "text/plain": [
       "array([<AxesSubplot:ylabel='Central'>, <AxesSubplot:ylabel='East'>,\n",
       "       <AxesSubplot:ylabel='South'>, <AxesSubplot:ylabel='West'>],\n",
       "      dtype=object)"
      ]
     },
     "metadata": {},
     "execution_count": 92
    },
    {
     "output_type": "display_data",
     "data": {
      "text/plain": [
       "<Figure size 1440x1440 with 4 Axes>"
      ],
      "image/png": "[encoded data removed]"
     },
     "metadata": {}
    }
   ],
   "metadata": {}
  },
  {
   "cell_type": "code",
   "execution_count": 81,
   "source": [
    "temp=data.groupby(\"\")"
   ],
   "outputs": [
    {
     "output_type": "error",
     "ename": "KeyError",
     "evalue": "\"None of [Index(['category'], dtype='object')] are in the [columns]\"",
     "traceback": [
      "\u001b[1;31m---------------------------------------------------------------------------\u001b[0m",
      "\u001b[1;31mKeyError\u001b[0m                                  Traceback (most recent call last)",
      "\u001b[1;32m~\\AppData\\Local\\Temp/ipykernel_9696/1747836769.py\u001b[0m in \u001b[0;36m<module>\u001b[1;34m\u001b[0m\n\u001b[1;32m----> 1\u001b[1;33m \u001b[0mdata\u001b[0m\u001b[1;33m.\u001b[0m\u001b[0mplot\u001b[0m\u001b[1;33m(\u001b[0m\u001b[0mx\u001b[0m\u001b[1;33m=\u001b[0m\u001b[1;34m\"Region\"\u001b[0m\u001b[1;33m,\u001b[0m\u001b[0my\u001b[0m\u001b[1;33m=\u001b[0m\u001b[1;33m[\u001b[0m\u001b[1;34m\"category\"\u001b[0m\u001b[1;33m]\u001b[0m\u001b[1;33m)\u001b[0m\u001b[1;33m\u001b[0m\u001b[1;33m\u001b[0m\u001b[0m\n\u001b[0m",
      "\u001b[1;32m~\\AppData\\Local\\Programs\\Python\\Python39\\lib\\site-packages\\pandas\\plotting\\_core.py\u001b[0m in \u001b[0;36m__call__\u001b[1;34m(self, *args, **kwargs)\u001b[0m\n\u001b[0;32m    956\u001b[0m \u001b[1;33m\u001b[0m\u001b[0m\n\u001b[0;32m    957\u001b[0m                 \u001b[1;31m# don't overwrite\u001b[0m\u001b[1;33m\u001b[0m\u001b[1;33m\u001b[0m\u001b[1;33m\u001b[0m\u001b[0m\n\u001b[1;32m--> 958\u001b[1;33m                 \u001b[0mdata\u001b[0m \u001b[1;33m=\u001b[0m \u001b[0mdata\u001b[0m\u001b[1;33m[\u001b[0m\u001b[0my\u001b[0m\u001b[1;33m]\u001b[0m\u001b[1;33m.\u001b[0m\u001b[0mcopy\u001b[0m\u001b[1;33m(\u001b[0m\u001b[1;33m)\u001b[0m\u001b[1;33m\u001b[0m\u001b[1;33m\u001b[0m\u001b[0m\n\u001b[0m\u001b[0;32m    959\u001b[0m \u001b[1;33m\u001b[0m\u001b[0m\n\u001b[0;32m    960\u001b[0m                 \u001b[1;32mif\u001b[0m \u001b[0misinstance\u001b[0m\u001b[1;33m(\u001b[0m\u001b[0mdata\u001b[0m\u001b[1;33m,\u001b[0m \u001b[0mABCSeries\u001b[0m\u001b[1;33m)\u001b[0m\u001b[1;33m:\u001b[0m\u001b[1;33m\u001b[0m\u001b[1;33m\u001b[0m\u001b[0m\n",
      "\u001b[1;32m~\\AppData\\Local\\Programs\\Python\\Python39\\lib\\site-packages\\pandas\\core\\frame.py\u001b[0m in \u001b[0;36m__getitem__\u001b[1;34m(self, key)\u001b[0m\n\u001b[0;32m   3459\u001b[0m             \u001b[1;32mif\u001b[0m \u001b[0mis_iterator\u001b[0m\u001b[1;33m(\u001b[0m\u001b[0mkey\u001b[0m\u001b[1;33m)\u001b[0m\u001b[1;33m:\u001b[0m\u001b[1;33m\u001b[0m\u001b[1;33m\u001b[0m\u001b[0m\n\u001b[0;32m   3460\u001b[0m                 \u001b[0mkey\u001b[0m \u001b[1;33m=\u001b[0m \u001b[0mlist\u001b[0m\u001b[1;33m(\u001b[0m\u001b[0mkey\u001b[0m\u001b[1;33m)\u001b[0m\u001b[1;33m\u001b[0m\u001b[1;33m\u001b[0m\u001b[0m\n\u001b[1;32m-> 3461\u001b[1;33m             \u001b[0mindexer\u001b[0m \u001b[1;33m=\u001b[0m \u001b[0mself\u001b[0m\u001b[1;33m.\u001b[0m\u001b[0mloc\u001b[0m\u001b[1;33m.\u001b[0m\u001b[0m_get_listlike_indexer\u001b[0m\u001b[1;33m(\u001b[0m\u001b[0mkey\u001b[0m\u001b[1;33m,\u001b[0m \u001b[0maxis\u001b[0m\u001b[1;33m=\u001b[0m\u001b[1;36m1\u001b[0m\u001b[1;33m)\u001b[0m\u001b[1;33m[\u001b[0m\u001b[1;36m1\u001b[0m\u001b[1;33m]\u001b[0m\u001b[1;33m\u001b[0m\u001b[1;33m\u001b[0m\u001b[0m\n\u001b[0m\u001b[0;32m   3462\u001b[0m \u001b[1;33m\u001b[0m\u001b[0m\n\u001b[0;32m   3463\u001b[0m         \u001b[1;31m# take() does not accept boolean indexers\u001b[0m\u001b[1;33m\u001b[0m\u001b[1;33m\u001b[0m\u001b[1;33m\u001b[0m\u001b[0m\n",
      "\u001b[1;32m~\\AppData\\Local\\Programs\\Python\\Python39\\lib\\site-packages\\pandas\\core\\indexing.py\u001b[0m in \u001b[0;36m_get_listlike_indexer\u001b[1;34m(self, key, axis)\u001b[0m\n\u001b[0;32m   1312\u001b[0m             \u001b[0mkeyarr\u001b[0m\u001b[1;33m,\u001b[0m \u001b[0mindexer\u001b[0m\u001b[1;33m,\u001b[0m \u001b[0mnew_indexer\u001b[0m \u001b[1;33m=\u001b[0m \u001b[0max\u001b[0m\u001b[1;33m.\u001b[0m\u001b[0m_reindex_non_unique\u001b[0m\u001b[1;33m(\u001b[0m\u001b[0mkeyarr\u001b[0m\u001b[1;33m)\u001b[0m\u001b[1;33m\u001b[0m\u001b[1;33m\u001b[0m\u001b[0m\n\u001b[0;32m   1313\u001b[0m \u001b[1;33m\u001b[0m\u001b[0m\n\u001b[1;32m-> 1314\u001b[1;33m         \u001b[0mself\u001b[0m\u001b[1;33m.\u001b[0m\u001b[0m_validate_read_indexer\u001b[0m\u001b[1;33m(\u001b[0m\u001b[0mkeyarr\u001b[0m\u001b[1;33m,\u001b[0m \u001b[0mindexer\u001b[0m\u001b[1;33m,\u001b[0m \u001b[0maxis\u001b[0m\u001b[1;33m)\u001b[0m\u001b[1;33m\u001b[0m\u001b[1;33m\u001b[0m\u001b[0m\n\u001b[0m\u001b[0;32m   1315\u001b[0m \u001b[1;33m\u001b[0m\u001b[0m\n\u001b[0;32m   1316\u001b[0m         if needs_i8_conversion(ax.dtype) or isinstance(\n",
      "\u001b[1;32m~\\AppData\\Local\\Programs\\Python\\Python39\\lib\\site-packages\\pandas\\core\\indexing.py\u001b[0m in \u001b[0;36m_validate_read_indexer\u001b[1;34m(self, key, indexer, axis)\u001b[0m\n\u001b[0;32m   1372\u001b[0m                 \u001b[1;32mif\u001b[0m \u001b[0muse_interval_msg\u001b[0m\u001b[1;33m:\u001b[0m\u001b[1;33m\u001b[0m\u001b[1;33m\u001b[0m\u001b[0m\n\u001b[0;32m   1373\u001b[0m                     \u001b[0mkey\u001b[0m \u001b[1;33m=\u001b[0m \u001b[0mlist\u001b[0m\u001b[1;33m(\u001b[0m\u001b[0mkey\u001b[0m\u001b[1;33m)\u001b[0m\u001b[1;33m\u001b[0m\u001b[1;33m\u001b[0m\u001b[0m\n\u001b[1;32m-> 1374\u001b[1;33m                 \u001b[1;32mraise\u001b[0m \u001b[0mKeyError\u001b[0m\u001b[1;33m(\u001b[0m\u001b[1;34mf\"None of [{key}] are in the [{axis_name}]\"\u001b[0m\u001b[1;33m)\u001b[0m\u001b[1;33m\u001b[0m\u001b[1;33m\u001b[0m\u001b[0m\n\u001b[0m\u001b[0;32m   1375\u001b[0m \u001b[1;33m\u001b[0m\u001b[0m\n\u001b[0;32m   1376\u001b[0m             \u001b[0mnot_found\u001b[0m \u001b[1;33m=\u001b[0m \u001b[0mlist\u001b[0m\u001b[1;33m(\u001b[0m\u001b[0mensure_index\u001b[0m\u001b[1;33m(\u001b[0m\u001b[0mkey\u001b[0m\u001b[1;33m)\u001b[0m\u001b[1;33m[\u001b[0m\u001b[0mmissing_mask\u001b[0m\u001b[1;33m.\u001b[0m\u001b[0mnonzero\u001b[0m\u001b[1;33m(\u001b[0m\u001b[1;33m)\u001b[0m\u001b[1;33m[\u001b[0m\u001b[1;36m0\u001b[0m\u001b[1;33m]\u001b[0m\u001b[1;33m]\u001b[0m\u001b[1;33m.\u001b[0m\u001b[0munique\u001b[0m\u001b[1;33m(\u001b[0m\u001b[1;33m)\u001b[0m\u001b[1;33m)\u001b[0m\u001b[1;33m\u001b[0m\u001b[1;33m\u001b[0m\u001b[0m\n",
      "\u001b[1;31mKeyError\u001b[0m: \"None of [Index(['category'], dtype='object')] are in the [columns]\""
     ]
    }
   ],
   "metadata": {}
  }
 ],
 "metadata": {
  "kernelspec": {
   "display_name": "Python 3",
   "language": "python",
   "name": "python3"
  },
  "language_info": {
   "codemirror_mode": {
    "name": "ipython",
    "version": 3
   },
   "file_extension": ".py",
   "mimetype": "text/x-python",
   "name": "python",
   "nbconvert_exporter": "python",
   "pygments_lexer": "ipython3",
   "version": "3.9.6"
  }
 },
 "nbformat": 4,
 "nbformat_minor": 5
}